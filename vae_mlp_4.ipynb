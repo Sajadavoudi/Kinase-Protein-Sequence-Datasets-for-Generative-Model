{
 "cells": [
  {
   "cell_type": "markdown",
   "id": "937ef1a2",
   "metadata": {},
   "source": [
    "training 4th mlp on psuedo synth data "
   ]
  },
  {
   "cell_type": "code",
   "execution_count": 1,
   "id": "6470ec46",
   "metadata": {},
   "outputs": [],
   "source": [
    "import numpy as np\n",
    "import random\n",
    "import tensorflow as tf\n",
    "from tensorflow.keras import layers, Model\n",
    "from tensorflow.keras import backend as K\n",
    "from sklearn.model_selection import train_test_split\n",
    "from tensorflow.keras.callbacks import EarlyStopping, ModelCheckpoint\n",
    "import matplotlib.pyplot as plt\n",
    "from sklearn.decomposition import PCA\n",
    "from sklearn.cluster import KMeans\n",
    "from scipy.spatial import ConvexHull\n",
    "import pandas as pd\n",
    "from tensorflow import keras\n",
    "from sklearn.manifold import TSNE\n",
    "import os\n",
    "from collections import Counter"
   ]
  },
  {
   "cell_type": "markdown",
   "id": "c563278a",
   "metadata": {},
   "source": [
    "#### prepare the data ( so the data would be pseudo + synth)"
   ]
  },
  {
   "cell_type": "code",
   "execution_count": 2,
   "id": "7200caf8",
   "metadata": {},
   "outputs": [
    {
     "name": "stdout",
     "output_type": "stream",
     "text": [
      "Found 15 class files in vae_mlp_3 models/synthetic_plus_pseudo\n",
      "\n",
      "Class  0 →    375 sequences loaded from class_0.npz\n",
      "Class  1 →    830 sequences loaded from class_1.npz\n",
      "Class 10 →   1000 sequences loaded from class_10.npz\n",
      "Class 11 →    738 sequences loaded from class_11.npz\n",
      "Class 12 →    178 sequences loaded from class_12.npz\n",
      "Class 13 →   1000 sequences loaded from class_13.npz\n",
      "Class 14 →    377 sequences loaded from class_14.npz\n",
      "Class  2 →    248 sequences loaded from class_2.npz\n",
      "Class  3 →    893 sequences loaded from class_3.npz\n",
      "Class  4 →   1000 sequences loaded from class_4.npz\n",
      "Class  5 →   1000 sequences loaded from class_5.npz\n",
      "Class  6 →   1000 sequences loaded from class_6.npz\n",
      "Class  7 →   1000 sequences loaded from class_7.npz\n",
      "Class  8 →     80 sequences loaded from class_8.npz\n",
      "Class  9 →     30 sequences loaded from class_9.npz\n",
      "\n",
      "Total sequences across all classes: 9749\n",
      "\n",
      "After 80/20 split:\n",
      "  Training set:   X_tr=(7799, 263, 21), y_tr=(7799,)\n",
      "  Validation set: X_val=(1950, 263, 21), y_val=(1950,)\n",
      "\n",
      "Per-class counts:\n",
      "Class |  Total |  Train |    Val\n",
      "--------------------------------\n",
      "    0 |    375 |    300 |     75\n",
      "    1 |    830 |    664 |    166\n",
      "    2 |    248 |    198 |     50\n",
      "    3 |    893 |    714 |    179\n",
      "    4 |   1000 |    800 |    200\n",
      "    5 |   1000 |    800 |    200\n",
      "    6 |   1000 |    800 |    200\n",
      "    7 |   1000 |    800 |    200\n",
      "    8 |     80 |     64 |     16\n",
      "    9 |     30 |     24 |      6\n",
      "   10 |   1000 |    800 |    200\n",
      "   11 |    738 |    590 |    148\n",
      "   12 |    178 |    143 |     35\n",
      "   13 |   1000 |    800 |    200\n",
      "   14 |    377 |    302 |     75\n",
      "\n",
      "Saved train/val splits to vae_mlp_2 models/final_training_data\\train_val_split.npz\n"
     ]
    }
   ],
   "source": [
    "import os\n",
    "import numpy as np\n",
    "from sklearn.model_selection import train_test_split\n",
    "\n",
    "# 1) Directory containing your merged .npz per class\n",
    "dir_q = 'vae_mlp_3 models/synthetic_plus_pseudo'\n",
    "\n",
    "# 2) Discover all .npz files\n",
    "files = [f for f in os.listdir(dir_q) if f.endswith('.npz')]\n",
    "print(f\"Found {len(files)} class files in {dir_q}\\n\")\n",
    "\n",
    "# 3) Load each, record counts, and build X_all, y_all\n",
    "X_list = []\n",
    "y_list = []\n",
    "class_counts = {}\n",
    "\n",
    "for fname in sorted(files):\n",
    "    path = os.path.join(dir_q, fname)\n",
    "    # assume filename like \"class_3_plus_synth.npz\" or \"class_3.npz\"\n",
    "    # extract the first integer you find in the filename\n",
    "    import re\n",
    "    m = re.search(r'(\\d+)', fname)\n",
    "    if not m:\n",
    "        print(f\"Skipping {fname}: no class index found\")\n",
    "        continue\n",
    "    cls = int(m.group(1))\n",
    "\n",
    "    data = np.load(path)\n",
    "    # your arrays are saved under key 'X' or 'arr_0'\n",
    "    X = data.get('X', data.get('arr_0'))\n",
    "    n = X.shape[0]\n",
    "    class_counts[cls] = n\n",
    "\n",
    "    print(f\"Class {cls:2d} → {n:6d} sequences loaded from {fname}\")\n",
    "\n",
    "    X_list.append(X)\n",
    "    y_list.append(np.full(n, cls, dtype=np.int32))\n",
    "\n",
    "# 4) Concatenate into full dataset\n",
    "X_all = np.concatenate(X_list, axis=0)\n",
    "y_all = np.concatenate(y_list, axis=0)\n",
    "total = X_all.shape[0]\n",
    "print(f\"\\nTotal sequences across all classes: {total}\\n\")\n",
    "\n",
    "# 5) Stratified train/validation split (80/20)\n",
    "X_tr, X_val, y_tr, y_val = train_test_split(\n",
    "    X_all, y_all,\n",
    "    test_size=0.2,\n",
    "    random_state=42,\n",
    "    stratify=y_all\n",
    ")\n",
    "\n",
    "print(f\"After 80/20 split:\")\n",
    "print(f\"  Training set:   X_tr={X_tr.shape}, y_tr={y_tr.shape}\")\n",
    "print(f\"  Validation set: X_val={X_val.shape}, y_val={y_val.shape}\\n\")\n",
    "\n",
    "# 6) Report per-class counts in each split\n",
    "print(\"Per-class counts:\")\n",
    "classes = sorted(class_counts.keys())\n",
    "print(f\"{'Class':>5s} | {'Total':>6s} | {'Train':>6s} | {'Val':>6s}\")\n",
    "print(\"-\" * 32)\n",
    "for cls in classes:\n",
    "    total_c = class_counts[cls]\n",
    "    train_c = np.sum(y_tr == cls)\n",
    "    val_c   = np.sum(y_val == cls)\n",
    "    print(f\"{cls:5d} | {total_c:6d} | {train_c:6d} | {val_c:6d}\")\n",
    "\n",
    "# 7) Save splits to .npz\n",
    "out_path = os.path.join('vae_mlp_2 models/final_training_data', 'train_val_split.npz')\n",
    "np.savez_compressed(\n",
    "    out_path,\n",
    "    X_train=X_tr,\n",
    "    y_train=y_tr,\n",
    "    X_val=X_val,\n",
    "    y_val=y_val\n",
    ")\n",
    "print(f\"\\nSaved train/val splits to {out_path}\")\n"
   ]
  },
  {
   "cell_type": "code",
   "execution_count": null,
   "id": "5a68a88b",
   "metadata": {},
   "outputs": [],
   "source": [
    "# to load\n",
    "# 1) Load your train/val split\n",
    "data = np.load('vae_mlp_2/models/synthetic_plus_pseudo/train_val_split.npz')\n",
    "X_tr, y_tr = data['X_train'], data['y_train']\n",
    "X_val, y_val = data['X_val'], data['y_val']\n",
    "\n",
    "print(f\"X_tr shape: {X_tr.shape}, y_tr shape: {y_tr.shape}\")\n",
    "print(f\"X_val shape: {X_val.shape}, y_val shape: {y_val.shape}\")"
   ]
  },
  {
   "cell_type": "markdown",
   "id": "6d2d9c5e",
   "metadata": {},
   "source": [
    "### read fasta stuff"
   ]
  },
  {
   "cell_type": "code",
   "execution_count": 3,
   "id": "f25c47a3",
   "metadata": {},
   "outputs": [],
   "source": [
    "def read_fasta(input_f):\n",
    "    sequences = []\n",
    "    current_seq = \"\"\n",
    "    with open(input_f, 'r') as f:\n",
    "        for line in f:\n",
    "            line = line.strip()\n",
    "            if line.startswith('>'):\n",
    "                if current_seq:\n",
    "                    sequences.append(current_seq)\n",
    "                    current_seq = \"\"\n",
    "            else:\n",
    "                current_seq += line\n",
    "        if current_seq:\n",
    "            sequences.append(current_seq)\n",
    "    return sequences\n",
    "\n",
    "def select_random_sequences(sequences, num_samples=10000):\n",
    "    if len(sequences) < num_samples :\n",
    "        raise ValueError(\"The number of requested sequences exceeds the initial list size.\")\n",
    "\n",
    "    return random.sample(sequences, num_samples)\n",
    "\n",
    "\n",
    "def encode_sequences_one_hot_with_gap(sequences, max_length=None) :\n",
    "\n",
    "    amino_acids = '-ACDEFGHIKLMNPQRSTVWY'\n",
    "    aa_to_idx = {aa: idx for idx, aa in enumerate(amino_acids)}\n",
    "    valid_sequences = [seq for seq in sequences if all(aa in aa_to_idx for aa in seq)]\n",
    "\n",
    "    if not valid_sequences :  # Return empty array if no valid sequences remain\n",
    "        return np.array([])\n",
    "\n",
    "    # Set maximum length\n",
    "    if max_length is None :\n",
    "        max_length = max(len(seq) for seq in valid_sequences)\n",
    "\n",
    "    # Initialize the output matrix with zeros\n",
    "    M = len(valid_sequences)\n",
    "    L = max_length\n",
    "    encoded_matrix = np.zeros((M, L, len(amino_acids)), dtype=np.float32)\n",
    "\n",
    "    # Encode each sequence\n",
    "    for i, seq in enumerate(valid_sequences) :\n",
    "        for j, aa in enumerate(seq[:max_length]) :  # Truncate sequences longer than max_length\n",
    "            encoded_matrix[i, j, aa_to_idx[aa]] = 1.0  # One-hot encode valid amino acids and gaps\n",
    "    return encoded_matrix"
   ]
  },
  {
   "cell_type": "markdown",
   "id": "3ba78a77",
   "metadata": {},
   "source": [
    "### vae model"
   ]
  },
  {
   "cell_type": "code",
   "execution_count": 4,
   "id": "5251a95b",
   "metadata": {},
   "outputs": [
    {
     "data": {
      "text/html": [
       "<pre style=\"white-space:pre;overflow-x:auto;line-height:normal;font-family:Menlo,'DejaVu Sans Mono',consolas,'Courier New',monospace\"><span style=\"font-weight: bold\">Model: \"vae\"</span>\n",
       "</pre>\n"
      ],
      "text/plain": [
       "\u001b[1mModel: \"vae\"\u001b[0m\n"
      ]
     },
     "metadata": {},
     "output_type": "display_data"
    },
    {
     "data": {
      "text/html": [
       "<pre style=\"white-space:pre;overflow-x:auto;line-height:normal;font-family:Menlo,'DejaVu Sans Mono',consolas,'Courier New',monospace\">┏━━━━━━━━━━━━━━━━━━━━━━━━━━━━━━━━━┳━━━━━━━━━━━━━━━━━━━━━━━━┳━━━━━━━━━━━━━━━┓\n",
       "┃<span style=\"font-weight: bold\"> Layer (type)                    </span>┃<span style=\"font-weight: bold\"> Output Shape           </span>┃<span style=\"font-weight: bold\">       Param # </span>┃\n",
       "┡━━━━━━━━━━━━━━━━━━━━━━━━━━━━━━━━━╇━━━━━━━━━━━━━━━━━━━━━━━━╇━━━━━━━━━━━━━━━┩\n",
       "│ encoder (<span style=\"color: #0087ff; text-decoration-color: #0087ff\">Encoder</span>)               │ ?                      │     <span style=\"color: #00af00; text-decoration-color: #00af00\">1,461,248</span> │\n",
       "├─────────────────────────────────┼────────────────────────┼───────────────┤\n",
       "│ decoder (<span style=\"color: #0087ff; text-decoration-color: #0087ff\">Decoder</span>)               │ ?                      │     <span style=\"color: #00af00; text-decoration-color: #00af00\">1,464,659</span> │\n",
       "└─────────────────────────────────┴────────────────────────┴───────────────┘\n",
       "</pre>\n"
      ],
      "text/plain": [
       "┏━━━━━━━━━━━━━━━━━━━━━━━━━━━━━━━━━┳━━━━━━━━━━━━━━━━━━━━━━━━┳━━━━━━━━━━━━━━━┓\n",
       "┃\u001b[1m \u001b[0m\u001b[1mLayer (type)                   \u001b[0m\u001b[1m \u001b[0m┃\u001b[1m \u001b[0m\u001b[1mOutput Shape          \u001b[0m\u001b[1m \u001b[0m┃\u001b[1m \u001b[0m\u001b[1m      Param #\u001b[0m\u001b[1m \u001b[0m┃\n",
       "┡━━━━━━━━━━━━━━━━━━━━━━━━━━━━━━━━━╇━━━━━━━━━━━━━━━━━━━━━━━━╇━━━━━━━━━━━━━━━┩\n",
       "│ encoder (\u001b[38;5;33mEncoder\u001b[0m)               │ ?                      │     \u001b[38;5;34m1,461,248\u001b[0m │\n",
       "├─────────────────────────────────┼────────────────────────┼───────────────┤\n",
       "│ decoder (\u001b[38;5;33mDecoder\u001b[0m)               │ ?                      │     \u001b[38;5;34m1,464,659\u001b[0m │\n",
       "└─────────────────────────────────┴────────────────────────┴───────────────┘\n"
      ]
     },
     "metadata": {},
     "output_type": "display_data"
    },
    {
     "data": {
      "text/html": [
       "<pre style=\"white-space:pre;overflow-x:auto;line-height:normal;font-family:Menlo,'DejaVu Sans Mono',consolas,'Courier New',monospace\"><span style=\"font-weight: bold\"> Total params: </span><span style=\"color: #00af00; text-decoration-color: #00af00\">2,925,907</span> (11.16 MB)\n",
       "</pre>\n"
      ],
      "text/plain": [
       "\u001b[1m Total params: \u001b[0m\u001b[38;5;34m2,925,907\u001b[0m (11.16 MB)\n"
      ]
     },
     "metadata": {},
     "output_type": "display_data"
    },
    {
     "data": {
      "text/html": [
       "<pre style=\"white-space:pre;overflow-x:auto;line-height:normal;font-family:Menlo,'DejaVu Sans Mono',consolas,'Courier New',monospace\"><span style=\"font-weight: bold\"> Trainable params: </span><span style=\"color: #00af00; text-decoration-color: #00af00\">2,924,115</span> (11.15 MB)\n",
       "</pre>\n"
      ],
      "text/plain": [
       "\u001b[1m Trainable params: \u001b[0m\u001b[38;5;34m2,924,115\u001b[0m (11.15 MB)\n"
      ]
     },
     "metadata": {},
     "output_type": "display_data"
    },
    {
     "data": {
      "text/html": [
       "<pre style=\"white-space:pre;overflow-x:auto;line-height:normal;font-family:Menlo,'DejaVu Sans Mono',consolas,'Courier New',monospace\"><span style=\"font-weight: bold\"> Non-trainable params: </span><span style=\"color: #00af00; text-decoration-color: #00af00\">1,792</span> (7.00 KB)\n",
       "</pre>\n"
      ],
      "text/plain": [
       "\u001b[1m Non-trainable params: \u001b[0m\u001b[38;5;34m1,792\u001b[0m (7.00 KB)\n"
      ]
     },
     "metadata": {},
     "output_type": "display_data"
    }
   ],
   "source": [
    "class Sampling(layers.Layer):\n",
    "    \"\"\"Uses (z_mean, z_log_var) to sample z, the vector encoding a sequence.\"\"\"\n",
    "    \n",
    "    def call(self, inputs):\n",
    "        z_mean, z_log_var = inputs\n",
    "        batch = tf.shape(z_mean)[0]\n",
    "        dim = tf.shape(z_mean)[1]\n",
    "        epsilon = tf.keras.backend.random_normal(shape=(batch, dim))\n",
    "        return z_mean + tf.exp(0.5 * z_log_var) * epsilon\n",
    "\n",
    "class Encoder(layers.Layer):\n",
    "    \"\"\"Encodes sequences into latent space.\"\"\"\n",
    "    \n",
    "    def __init__(self, latent_dim, intermediate_dims=[256, 128, 64], **kwargs):\n",
    "        super(Encoder, self).__init__(**kwargs)\n",
    "        self.dense_layers = []\n",
    "        for dim in intermediate_dims:\n",
    "            self.dense_layers.append(layers.Dense(dim, activation='relu'))\n",
    "            self.dense_layers.append(layers.BatchNormalization())\n",
    "            self.dense_layers.append(layers.Dropout(0.3))\n",
    "        \n",
    "        self.dense_mean = layers.Dense(latent_dim)\n",
    "        self.dense_log_var = layers.Dense(latent_dim)\n",
    "        self.sampling = Sampling()\n",
    "    \n",
    "    def call(self, inputs):\n",
    "        x = inputs\n",
    "        for layer in self.dense_layers:\n",
    "            x = layer(x)\n",
    "        \n",
    "        z_mean = self.dense_mean(x)\n",
    "        z_log_var = self.dense_log_var(x)\n",
    "        z = self.sampling([z_mean, z_log_var])\n",
    "        \n",
    "        return z_mean, z_log_var, z\n",
    "\n",
    "class Decoder(layers.Layer):\n",
    "    \"\"\"Decodes a latent space point into a sequence.\"\"\"\n",
    "    \n",
    "    def __init__(self, original_dim, intermediate_dims=[64, 128, 256], **kwargs):\n",
    "        super(Decoder, self).__init__(**kwargs)\n",
    "        self.dense_layers = []\n",
    "        for dim in intermediate_dims:\n",
    "            self.dense_layers.append(layers.Dense(dim, activation='relu'))\n",
    "            self.dense_layers.append(layers.BatchNormalization())\n",
    "            self.dense_layers.append(layers.Dropout(0.3))\n",
    "        \n",
    "        self.dense_output = layers.Dense(original_dim, activation='sigmoid')\n",
    "    \n",
    "    def call(self, inputs):\n",
    "        x = inputs\n",
    "        for layer in self.dense_layers:\n",
    "            x = layer(x)\n",
    "        \n",
    "        return self.dense_output(x)\n",
    "\n",
    "class VAE(Model):\n",
    "    \"\"\"Variational Autoencoder for protein sequences.\"\"\"\n",
    "    \n",
    "    def __init__(self, original_dim, latent_dim, **kwargs):\n",
    "        super(VAE, self).__init__(**kwargs)\n",
    "        self.original_dim = original_dim\n",
    "        self.latent_dim = latent_dim\n",
    "        self.encoder = Encoder(latent_dim)\n",
    "        self.decoder = Decoder(original_dim)\n",
    "        \n",
    "    def call(self, inputs):\n",
    "        z_mean, z_log_var, z = self.encoder(inputs)\n",
    "        reconstructed = self.decoder(z)\n",
    "        \n",
    "        # Add KL divergence regularization loss\n",
    "        kl_loss = -0.5 * tf.reduce_mean(\n",
    "            tf.reduce_sum(1 + z_log_var - tf.square(z_mean) - tf.exp(z_log_var), axis=1)\n",
    "        )\n",
    "        \n",
    "        # Scale KL loss by input dimension to balance it with reconstruction loss\n",
    "        kl_loss = kl_loss * (1.0 / self.original_dim)\n",
    "        \n",
    "        self.add_loss(kl_loss)\n",
    "        return reconstructed\n",
    "    \n",
    "    def encode(self, inputs):\n",
    "        z_mean, z_log_var, z = self.encoder(inputs)\n",
    "        return z_mean, z_log_var, z\n",
    "    \n",
    "    def decode(self, z):\n",
    "        return self.decoder(z)\n",
    "    \n",
    "    def get_config(self):\n",
    "        config = super(VAE, self).get_config()\n",
    "        config.update({\n",
    "            'original_dim': self.original_dim,\n",
    "            'latent_dim': self.latent_dim\n",
    "        })\n",
    "        return config\n",
    "    \n",
    "\n",
    "# Rebuild the model architecture\n",
    "vae = VAE(original_dim=5523, latent_dim=32)\n",
    "\n",
    "dummy_input = np.zeros((1, 5523), dtype=np.float32)  # Match input shape\n",
    "_ = vae(dummy_input)  # Force layer creation\n",
    "\n",
    "vae.load_weights('models/200000seq_best_vae_model.h5')  # Load weights\n",
    "\n",
    "vae.summary()"
   ]
  },
  {
   "cell_type": "markdown",
   "id": "5d7b1a9a",
   "metadata": {},
   "source": [
    "### freez the encoder"
   ]
  },
  {
   "cell_type": "code",
   "execution_count": 5,
   "id": "0e78c58e",
   "metadata": {},
   "outputs": [
    {
     "name": "stdout",
     "output_type": "stream",
     "text": [
      "WARNING:tensorflow:From c:\\Users\\sajdv\\anaconda3\\envs\\vae\\lib\\site-packages\\keras\\src\\backend\\tensorflow\\core.py:219: The name tf.placeholder is deprecated. Please use tf.compat.v1.placeholder instead.\n",
      "\n"
     ]
    },
    {
     "data": {
      "text/html": [
       "<pre style=\"white-space:pre;overflow-x:auto;line-height:normal;font-family:Menlo,'DejaVu Sans Mono',consolas,'Courier New',monospace\"><span style=\"font-weight: bold\">Model: \"encoder_3d_to_32\"</span>\n",
       "</pre>\n"
      ],
      "text/plain": [
       "\u001b[1mModel: \"encoder_3d_to_32\"\u001b[0m\n"
      ]
     },
     "metadata": {},
     "output_type": "display_data"
    },
    {
     "data": {
      "text/html": [
       "<pre style=\"white-space:pre;overflow-x:auto;line-height:normal;font-family:Menlo,'DejaVu Sans Mono',consolas,'Courier New',monospace\">┏━━━━━━━━━━━━━━━━━━━━━━━━━━━━━━━━━┳━━━━━━━━━━━━━━━━━━━━━━━━┳━━━━━━━━━━━━━━━┓\n",
       "┃<span style=\"font-weight: bold\"> Layer (type)                    </span>┃<span style=\"font-weight: bold\"> Output Shape           </span>┃<span style=\"font-weight: bold\">       Param # </span>┃\n",
       "┡━━━━━━━━━━━━━━━━━━━━━━━━━━━━━━━━━╇━━━━━━━━━━━━━━━━━━━━━━━━╇━━━━━━━━━━━━━━━┩\n",
       "│ onehot_input (<span style=\"color: #0087ff; text-decoration-color: #0087ff\">InputLayer</span>)       │ (<span style=\"color: #00d7ff; text-decoration-color: #00d7ff\">None</span>, <span style=\"color: #00af00; text-decoration-color: #00af00\">263</span>, <span style=\"color: #00af00; text-decoration-color: #00af00\">21</span>)        │             <span style=\"color: #00af00; text-decoration-color: #00af00\">0</span> │\n",
       "├─────────────────────────────────┼────────────────────────┼───────────────┤\n",
       "│ flatten (<span style=\"color: #0087ff; text-decoration-color: #0087ff\">Flatten</span>)               │ (<span style=\"color: #00d7ff; text-decoration-color: #00d7ff\">None</span>, <span style=\"color: #00af00; text-decoration-color: #00af00\">5523</span>)           │             <span style=\"color: #00af00; text-decoration-color: #00af00\">0</span> │\n",
       "├─────────────────────────────────┼────────────────────────┼───────────────┤\n",
       "│ encoder (<span style=\"color: #0087ff; text-decoration-color: #0087ff\">Encoder</span>)               │ [(<span style=\"color: #00d7ff; text-decoration-color: #00d7ff\">None</span>, <span style=\"color: #00af00; text-decoration-color: #00af00\">32</span>), (<span style=\"color: #00d7ff; text-decoration-color: #00d7ff\">None</span>,    │     <span style=\"color: #00af00; text-decoration-color: #00af00\">1,461,248</span> │\n",
       "│                                 │ <span style=\"color: #00af00; text-decoration-color: #00af00\">32</span>), (<span style=\"color: #00d7ff; text-decoration-color: #00d7ff\">None</span>, <span style=\"color: #00af00; text-decoration-color: #00af00\">32</span>)]       │               │\n",
       "└─────────────────────────────────┴────────────────────────┴───────────────┘\n",
       "</pre>\n"
      ],
      "text/plain": [
       "┏━━━━━━━━━━━━━━━━━━━━━━━━━━━━━━━━━┳━━━━━━━━━━━━━━━━━━━━━━━━┳━━━━━━━━━━━━━━━┓\n",
       "┃\u001b[1m \u001b[0m\u001b[1mLayer (type)                   \u001b[0m\u001b[1m \u001b[0m┃\u001b[1m \u001b[0m\u001b[1mOutput Shape          \u001b[0m\u001b[1m \u001b[0m┃\u001b[1m \u001b[0m\u001b[1m      Param #\u001b[0m\u001b[1m \u001b[0m┃\n",
       "┡━━━━━━━━━━━━━━━━━━━━━━━━━━━━━━━━━╇━━━━━━━━━━━━━━━━━━━━━━━━╇━━━━━━━━━━━━━━━┩\n",
       "│ onehot_input (\u001b[38;5;33mInputLayer\u001b[0m)       │ (\u001b[38;5;45mNone\u001b[0m, \u001b[38;5;34m263\u001b[0m, \u001b[38;5;34m21\u001b[0m)        │             \u001b[38;5;34m0\u001b[0m │\n",
       "├─────────────────────────────────┼────────────────────────┼───────────────┤\n",
       "│ flatten (\u001b[38;5;33mFlatten\u001b[0m)               │ (\u001b[38;5;45mNone\u001b[0m, \u001b[38;5;34m5523\u001b[0m)           │             \u001b[38;5;34m0\u001b[0m │\n",
       "├─────────────────────────────────┼────────────────────────┼───────────────┤\n",
       "│ encoder (\u001b[38;5;33mEncoder\u001b[0m)               │ [(\u001b[38;5;45mNone\u001b[0m, \u001b[38;5;34m32\u001b[0m), (\u001b[38;5;45mNone\u001b[0m,    │     \u001b[38;5;34m1,461,248\u001b[0m │\n",
       "│                                 │ \u001b[38;5;34m32\u001b[0m), (\u001b[38;5;45mNone\u001b[0m, \u001b[38;5;34m32\u001b[0m)]       │               │\n",
       "└─────────────────────────────────┴────────────────────────┴───────────────┘\n"
      ]
     },
     "metadata": {},
     "output_type": "display_data"
    },
    {
     "data": {
      "text/html": [
       "<pre style=\"white-space:pre;overflow-x:auto;line-height:normal;font-family:Menlo,'DejaVu Sans Mono',consolas,'Courier New',monospace\"><span style=\"font-weight: bold\"> Total params: </span><span style=\"color: #00af00; text-decoration-color: #00af00\">1,461,248</span> (5.57 MB)\n",
       "</pre>\n"
      ],
      "text/plain": [
       "\u001b[1m Total params: \u001b[0m\u001b[38;5;34m1,461,248\u001b[0m (5.57 MB)\n"
      ]
     },
     "metadata": {},
     "output_type": "display_data"
    },
    {
     "data": {
      "text/html": [
       "<pre style=\"white-space:pre;overflow-x:auto;line-height:normal;font-family:Menlo,'DejaVu Sans Mono',consolas,'Courier New',monospace\"><span style=\"font-weight: bold\"> Trainable params: </span><span style=\"color: #00af00; text-decoration-color: #00af00\">1,460,352</span> (5.57 MB)\n",
       "</pre>\n"
      ],
      "text/plain": [
       "\u001b[1m Trainable params: \u001b[0m\u001b[38;5;34m1,460,352\u001b[0m (5.57 MB)\n"
      ]
     },
     "metadata": {},
     "output_type": "display_data"
    },
    {
     "data": {
      "text/html": [
       "<pre style=\"white-space:pre;overflow-x:auto;line-height:normal;font-family:Menlo,'DejaVu Sans Mono',consolas,'Courier New',monospace\"><span style=\"font-weight: bold\"> Non-trainable params: </span><span style=\"color: #00af00; text-decoration-color: #00af00\">896</span> (3.50 KB)\n",
       "</pre>\n"
      ],
      "text/plain": [
       "\u001b[1m Non-trainable params: \u001b[0m\u001b[38;5;34m896\u001b[0m (3.50 KB)\n"
      ]
     },
     "metadata": {},
     "output_type": "display_data"
    }
   ],
   "source": [
    "# build a standalone encoder that outputs only z_mean\n",
    "# 1) One‑hot 3D input\n",
    "inp_3d = layers.Input(shape=(263, 21), name='onehot_input')\n",
    "\n",
    "# 2) Flatten to the original_dim your VAE expects\n",
    "flat   = layers.Flatten(name='flatten')(inp_3d)\n",
    "\n",
    "# 3) Call encode() without the training kwarg\n",
    "z_mean, z_logvar, z = vae.encode(flat)\n",
    "\n",
    "# 4) Build the encoder model\n",
    "encoder = Model(inputs=inp_3d, outputs=z_mean, name='encoder_3d_to_32')\n",
    "encoder.summary()"
   ]
  },
  {
   "cell_type": "markdown",
   "id": "3353b2d5",
   "metadata": {},
   "source": [
    "#### embeding labeled data via 3D→32 encoder\n",
    "we are not changing encoder weights, we just want to have 32 dim vectors of our data in latent space.\n",
    "our model is not expose and not learning our labled data"
   ]
  },
  {
   "cell_type": "code",
   "execution_count": 6,
   "id": "0835e1d6",
   "metadata": {},
   "outputs": [
    {
     "name": "stdout",
     "output_type": "stream",
     "text": [
      "\u001b[1m122/122\u001b[0m \u001b[32m━━━━━━━━━━━━━━━━━━━━\u001b[0m\u001b[37m\u001b[0m \u001b[1m1s\u001b[0m 4ms/step\n",
      "\u001b[1m31/31\u001b[0m \u001b[32m━━━━━━━━━━━━━━━━━━━━\u001b[0m\u001b[37m\u001b[0m \u001b[1m0s\u001b[0m 4ms/step\n",
      "Latent shapes: (7799, 32) (1950, 32)\n"
     ]
    }
   ],
   "source": [
    "# 2) Choose embedding batch size\n",
    "batch_size = 64\n",
    "\n",
    "# 3) If you're using the standalone encoder model (3D → 32):\n",
    "encoder.trainable = False\n",
    "\n",
    "Z_tr  = encoder.predict(X_tr,  batch_size=batch_size, verbose=1)  # → (n_train, 32)\n",
    "Z_val = encoder.predict(X_val, batch_size=batch_size, verbose=1)  # → (n_val,   32)\n",
    "\n",
    "print(\"Latent shapes:\", Z_tr.shape, Z_val.shape)\n"
   ]
  },
  {
   "cell_type": "markdown",
   "id": "6dfe5f90",
   "metadata": {},
   "source": [
    "### train mlp on tr/val data"
   ]
  },
  {
   "cell_type": "code",
   "execution_count": 7,
   "id": "7af612de",
   "metadata": {},
   "outputs": [
    {
     "name": "stdout",
     "output_type": "stream",
     "text": [
      "Epoch 1/100\n",
      "\u001b[1m244/244\u001b[0m \u001b[32m━━━━━━━━━━━━━━━━━━━━\u001b[0m\u001b[37m\u001b[0m \u001b[1m2s\u001b[0m 3ms/step - accuracy: 0.4591 - loss: 1.9174 - val_accuracy: 0.9431 - val_loss: 0.5330\n",
      "Epoch 2/100\n",
      "\u001b[1m244/244\u001b[0m \u001b[32m━━━━━━━━━━━━━━━━━━━━\u001b[0m\u001b[37m\u001b[0m \u001b[1m1s\u001b[0m 2ms/step - accuracy: 0.9077 - loss: 0.5176 - val_accuracy: 0.9779 - val_loss: 0.2001\n",
      "Epoch 3/100\n",
      "\u001b[1m244/244\u001b[0m \u001b[32m━━━━━━━━━━━━━━━━━━━━\u001b[0m\u001b[37m\u001b[0m \u001b[1m1s\u001b[0m 2ms/step - accuracy: 0.9485 - loss: 0.2684 - val_accuracy: 0.9815 - val_loss: 0.1112\n",
      "Epoch 4/100\n",
      "\u001b[1m244/244\u001b[0m \u001b[32m━━━━━━━━━━━━━━━━━━━━\u001b[0m\u001b[37m\u001b[0m \u001b[1m1s\u001b[0m 2ms/step - accuracy: 0.9597 - loss: 0.1836 - val_accuracy: 0.9897 - val_loss: 0.0732\n",
      "Epoch 5/100\n",
      "\u001b[1m244/244\u001b[0m \u001b[32m━━━━━━━━━━━━━━━━━━━━\u001b[0m\u001b[37m\u001b[0m \u001b[1m1s\u001b[0m 2ms/step - accuracy: 0.9730 - loss: 0.1328 - val_accuracy: 0.9913 - val_loss: 0.0538\n",
      "Epoch 6/100\n",
      "\u001b[1m244/244\u001b[0m \u001b[32m━━━━━━━━━━━━━━━━━━━━\u001b[0m\u001b[37m\u001b[0m \u001b[1m1s\u001b[0m 2ms/step - accuracy: 0.9765 - loss: 0.1102 - val_accuracy: 0.9933 - val_loss: 0.0420\n",
      "Epoch 7/100\n",
      "\u001b[1m244/244\u001b[0m \u001b[32m━━━━━━━━━━━━━━━━━━━━\u001b[0m\u001b[37m\u001b[0m \u001b[1m1s\u001b[0m 2ms/step - accuracy: 0.9792 - loss: 0.0899 - val_accuracy: 0.9933 - val_loss: 0.0326\n",
      "Epoch 8/100\n",
      "\u001b[1m244/244\u001b[0m \u001b[32m━━━━━━━━━━━━━━━━━━━━\u001b[0m\u001b[37m\u001b[0m \u001b[1m1s\u001b[0m 2ms/step - accuracy: 0.9834 - loss: 0.0775 - val_accuracy: 0.9938 - val_loss: 0.0269\n",
      "Epoch 9/100\n",
      "\u001b[1m244/244\u001b[0m \u001b[32m━━━━━━━━━━━━━━━━━━━━\u001b[0m\u001b[37m\u001b[0m \u001b[1m1s\u001b[0m 2ms/step - accuracy: 0.9821 - loss: 0.0705 - val_accuracy: 0.9938 - val_loss: 0.0228\n",
      "Epoch 10/100\n",
      "\u001b[1m244/244\u001b[0m \u001b[32m━━━━━━━━━━━━━━━━━━━━\u001b[0m\u001b[37m\u001b[0m \u001b[1m1s\u001b[0m 2ms/step - accuracy: 0.9868 - loss: 0.0617 - val_accuracy: 0.9938 - val_loss: 0.0201\n",
      "Epoch 11/100\n",
      "\u001b[1m244/244\u001b[0m \u001b[32m━━━━━━━━━━━━━━━━━━━━\u001b[0m\u001b[37m\u001b[0m \u001b[1m1s\u001b[0m 2ms/step - accuracy: 0.9863 - loss: 0.0594 - val_accuracy: 0.9954 - val_loss: 0.0178\n",
      "Epoch 12/100\n",
      "\u001b[1m244/244\u001b[0m \u001b[32m━━━━━━━━━━━━━━━━━━━━\u001b[0m\u001b[37m\u001b[0m \u001b[1m1s\u001b[0m 2ms/step - accuracy: 0.9877 - loss: 0.0500 - val_accuracy: 0.9964 - val_loss: 0.0158\n",
      "Epoch 13/100\n",
      "\u001b[1m244/244\u001b[0m \u001b[32m━━━━━━━━━━━━━━━━━━━━\u001b[0m\u001b[37m\u001b[0m \u001b[1m1s\u001b[0m 2ms/step - accuracy: 0.9892 - loss: 0.0450 - val_accuracy: 0.9964 - val_loss: 0.0141\n",
      "Epoch 14/100\n",
      "\u001b[1m244/244\u001b[0m \u001b[32m━━━━━━━━━━━━━━━━━━━━\u001b[0m\u001b[37m\u001b[0m \u001b[1m1s\u001b[0m 2ms/step - accuracy: 0.9884 - loss: 0.0445 - val_accuracy: 0.9964 - val_loss: 0.0128\n",
      "Epoch 15/100\n",
      "\u001b[1m244/244\u001b[0m \u001b[32m━━━━━━━━━━━━━━━━━━━━\u001b[0m\u001b[37m\u001b[0m \u001b[1m1s\u001b[0m 2ms/step - accuracy: 0.9905 - loss: 0.0378 - val_accuracy: 0.9969 - val_loss: 0.0117\n",
      "Epoch 16/100\n",
      "\u001b[1m244/244\u001b[0m \u001b[32m━━━━━━━━━━━━━━━━━━━━\u001b[0m\u001b[37m\u001b[0m \u001b[1m1s\u001b[0m 3ms/step - accuracy: 0.9905 - loss: 0.0363 - val_accuracy: 0.9974 - val_loss: 0.0107\n",
      "Epoch 17/100\n",
      "\u001b[1m244/244\u001b[0m \u001b[32m━━━━━━━━━━━━━━━━━━━━\u001b[0m\u001b[37m\u001b[0m \u001b[1m1s\u001b[0m 3ms/step - accuracy: 0.9910 - loss: 0.0395 - val_accuracy: 0.9979 - val_loss: 0.0101\n",
      "Epoch 18/100\n",
      "\u001b[1m244/244\u001b[0m \u001b[32m━━━━━━━━━━━━━━━━━━━━\u001b[0m\u001b[37m\u001b[0m \u001b[1m1s\u001b[0m 2ms/step - accuracy: 0.9896 - loss: 0.0393 - val_accuracy: 0.9979 - val_loss: 0.0092\n",
      "Epoch 19/100\n",
      "\u001b[1m244/244\u001b[0m \u001b[32m━━━━━━━━━━━━━━━━━━━━\u001b[0m\u001b[37m\u001b[0m \u001b[1m1s\u001b[0m 2ms/step - accuracy: 0.9924 - loss: 0.0314 - val_accuracy: 0.9985 - val_loss: 0.0087\n",
      "Epoch 20/100\n",
      "\u001b[1m244/244\u001b[0m \u001b[32m━━━━━━━━━━━━━━━━━━━━\u001b[0m\u001b[37m\u001b[0m \u001b[1m1s\u001b[0m 3ms/step - accuracy: 0.9938 - loss: 0.0280 - val_accuracy: 0.9985 - val_loss: 0.0079\n",
      "Epoch 21/100\n",
      "\u001b[1m244/244\u001b[0m \u001b[32m━━━━━━━━━━━━━━━━━━━━\u001b[0m\u001b[37m\u001b[0m \u001b[1m1s\u001b[0m 3ms/step - accuracy: 0.9931 - loss: 0.0275 - val_accuracy: 0.9985 - val_loss: 0.0074\n",
      "Epoch 22/100\n",
      "\u001b[1m244/244\u001b[0m \u001b[32m━━━━━━━━━━━━━━━━━━━━\u001b[0m\u001b[37m\u001b[0m \u001b[1m1s\u001b[0m 3ms/step - accuracy: 0.9912 - loss: 0.0290 - val_accuracy: 0.9985 - val_loss: 0.0070\n",
      "Epoch 23/100\n",
      "\u001b[1m244/244\u001b[0m \u001b[32m━━━━━━━━━━━━━━━━━━━━\u001b[0m\u001b[37m\u001b[0m \u001b[1m1s\u001b[0m 3ms/step - accuracy: 0.9946 - loss: 0.0235 - val_accuracy: 0.9985 - val_loss: 0.0066\n",
      "Epoch 24/100\n",
      "\u001b[1m244/244\u001b[0m \u001b[32m━━━━━━━━━━━━━━━━━━━━\u001b[0m\u001b[37m\u001b[0m \u001b[1m1s\u001b[0m 3ms/step - accuracy: 0.9947 - loss: 0.0255 - val_accuracy: 0.9990 - val_loss: 0.0058\n",
      "Epoch 25/100\n",
      "\u001b[1m244/244\u001b[0m \u001b[32m━━━━━━━━━━━━━━━━━━━━\u001b[0m\u001b[37m\u001b[0m \u001b[1m1s\u001b[0m 3ms/step - accuracy: 0.9942 - loss: 0.0236 - val_accuracy: 0.9985 - val_loss: 0.0060\n",
      "Epoch 26/100\n",
      "\u001b[1m244/244\u001b[0m \u001b[32m━━━━━━━━━━━━━━━━━━━━\u001b[0m\u001b[37m\u001b[0m \u001b[1m1s\u001b[0m 3ms/step - accuracy: 0.9936 - loss: 0.0255 - val_accuracy: 0.9985 - val_loss: 0.0060\n",
      "Epoch 27/100\n",
      "\u001b[1m244/244\u001b[0m \u001b[32m━━━━━━━━━━━━━━━━━━━━\u001b[0m\u001b[37m\u001b[0m \u001b[1m1s\u001b[0m 2ms/step - accuracy: 0.9951 - loss: 0.0200 - val_accuracy: 0.9985 - val_loss: 0.0057\n",
      "Epoch 28/100\n",
      "\u001b[1m244/244\u001b[0m \u001b[32m━━━━━━━━━━━━━━━━━━━━\u001b[0m\u001b[37m\u001b[0m \u001b[1m1s\u001b[0m 2ms/step - accuracy: 0.9932 - loss: 0.0221 - val_accuracy: 0.9985 - val_loss: 0.0054\n",
      "Epoch 29/100\n",
      "\u001b[1m244/244\u001b[0m \u001b[32m━━━━━━━━━━━━━━━━━━━━\u001b[0m\u001b[37m\u001b[0m \u001b[1m1s\u001b[0m 2ms/step - accuracy: 0.9960 - loss: 0.0184 - val_accuracy: 0.9990 - val_loss: 0.0047\n",
      "\n",
      "Validation accuracy: 99.90%\n",
      "\u001b[1m61/61\u001b[0m \u001b[32m━━━━━━━━━━━━━━━━━━━━\u001b[0m\u001b[37m\u001b[0m \u001b[1m0s\u001b[0m 2ms/step\n",
      "\n",
      "Classification report on validation set:\n",
      "              precision    recall  f1-score   support\n",
      "\n",
      "           0     1.0000    1.0000    1.0000        75\n",
      "           1     1.0000    1.0000    1.0000       166\n",
      "           2     1.0000    1.0000    1.0000        50\n",
      "           3     1.0000    1.0000    1.0000       179\n",
      "           4     1.0000    1.0000    1.0000       200\n",
      "           5     1.0000    1.0000    1.0000       200\n",
      "           6     1.0000    1.0000    1.0000       200\n",
      "           7     1.0000    1.0000    1.0000       200\n",
      "           8     1.0000    1.0000    1.0000        16\n",
      "           9     1.0000    1.0000    1.0000         6\n",
      "          10     1.0000    1.0000    1.0000       200\n",
      "          11     0.9932    0.9932    0.9932       148\n",
      "          12     1.0000    0.9714    0.9855        35\n",
      "          13     0.9950    1.0000    0.9975       200\n",
      "          14     1.0000    1.0000    1.0000        75\n",
      "\n",
      "    accuracy                         0.9990      1950\n",
      "   macro avg     0.9992    0.9976    0.9984      1950\n",
      "weighted avg     0.9990    0.9990    0.9990      1950\n",
      "\n"
     ]
    }
   ],
   "source": [
    "import tensorflow as tf\n",
    "from tensorflow.keras import layers, Sequential\n",
    "\n",
    "input_dim   = Z_tr.shape[1]\n",
    "num_classes = len(np.unique(y_tr))\n",
    "\n",
    "clf = Sequential([\n",
    "    layers.Input(shape=(input_dim,)),\n",
    "    layers.Dense(64, activation='relu'),\n",
    "    layers.Dropout(0.3),\n",
    "    layers.Dense(num_classes, activation='softmax')\n",
    "], name='latent_mlp')\n",
    "\n",
    "clf.compile(\n",
    "    optimizer='adam',\n",
    "    loss='sparse_categorical_crossentropy',\n",
    "    metrics=['accuracy']\n",
    ")\n",
    "\n",
    "history = clf.fit(\n",
    "    Z_tr, y_tr,\n",
    "    validation_data=(Z_val, y_val),\n",
    "    batch_size=32,\n",
    "    epochs=100,\n",
    "    callbacks=[\n",
    "        tf.keras.callbacks.EarlyStopping(\n",
    "            monitor='val_accuracy',\n",
    "            patience=5,\n",
    "            restore_best_weights=True\n",
    "        )\n",
    "    ]\n",
    ")\n",
    "\n",
    "# 4) Evaluate on validation splits\n",
    "val_loss, val_acc = clf.evaluate(Z_val, y_val, verbose=0)\n",
    "print(f\"\\nValidation accuracy: {val_acc:.2%}\")\n",
    "\n",
    "from sklearn.metrics import classification_report\n",
    "# 5) Detailed classification report\n",
    "y_pred = np.argmax(clf.predict(Z_val), axis=1)\n",
    "print(\"\\nClassification report on validation set:\")\n",
    "print(classification_report(y_val, y_pred, digits=4))\n"
   ]
  },
  {
   "cell_type": "markdown",
   "id": "c934d373",
   "metadata": {},
   "source": [
    "### test data"
   ]
  },
  {
   "cell_type": "code",
   "execution_count": 8,
   "id": "12f0c90e",
   "metadata": {},
   "outputs": [
    {
     "name": "stdout",
     "output_type": "stream",
     "text": [
      "Rebuilt label_counts and label_to_idx:\n",
      "  CBL_interacting_protein_kinases                    → 0\n",
      "  L_type_lectin_kinases                              → 1\n",
      "  aurora_kinases                                     → 2\n",
      "  cAMP_dependent_protein_kinases                     → 3\n",
      "  calcium_calmodulin_dependent_kinases               → 4\n",
      "  calcium_dependent_kinases                          → 5\n",
      "  casein_kinases                                     → 6\n",
      "  cyclin_dependent_kinases                           → 7\n",
      "  dual_specificity_protein_kinases                   → 8\n",
      "  eukaryotic_translation_initiation_factor_kinases   → 9\n",
      "  mitogen_activated_kinases                          → 10\n",
      "  protein_kinases                                    → 11\n",
      "  ribosomal_protein_S6_kinases                       → 12\n",
      "  serine_threonine_kinases                           → 13\n",
      "  tyrosine_kinases                                   → 14\n",
      "\n",
      "After filtering: 1757 valid sequences, y_test shape: (1757,)\n",
      "X_test shape: (1757, 263, 21)\n"
     ]
    }
   ],
   "source": [
    "import os\n",
    "import numpy as np\n",
    "from sklearn.metrics import accuracy_score, confusion_matrix, classification_report\n",
    "\n",
    "# --- 1) Rebuild label_counts & label_to_idx from your FASTA folder ---\n",
    "data_dir = \"hmm_20\"\n",
    "suffix   = \"_noInserts_noGaps_noDuplicates\"\n",
    "\n",
    "label_counts = {}\n",
    "all_seqs     = []\n",
    "all_labels   = []\n",
    "\n",
    "for fname in os.listdir(data_dir):\n",
    "    if not fname.lower().endswith('.fasta'):\n",
    "        continue\n",
    "    base = os.path.splitext(fname)[0]\n",
    "    label = base[:-len(suffix)] if base.endswith(suffix) else base\n",
    "\n",
    "    path = os.path.join(data_dir, fname)\n",
    "    seqs = read_fasta(path)                 # your FASTA reader\n",
    "    label_counts[label] = len(seqs)\n",
    "    all_seqs.extend(seqs)\n",
    "    all_labels.extend([label] * len(seqs))\n",
    "\n",
    "# Now create a consistent sorted mapping\n",
    "unique_labels = sorted(label_counts.keys())\n",
    "label_to_idx  = {lbl: i for i, lbl in enumerate(unique_labels)}\n",
    "\n",
    "print(\"Rebuilt label_counts and label_to_idx:\")\n",
    "for lbl, idx in label_to_idx.items():\n",
    "    print(f\"  {lbl:50s} → {idx}\")\n",
    "\n",
    "# --- 2) Filter out invalid sequences ---\n",
    "amino_acids = '-ACDEFGHIKLMNPQRSTVWY'\n",
    "aa_to_idx   = {aa: i for i, aa in enumerate(amino_acids)}\n",
    "\n",
    "valid_idxs = [i for i, seq in enumerate(all_seqs)\n",
    "              if all(ch in aa_to_idx for ch in seq)]\n",
    "\n",
    "filtered_seqs   = [all_seqs[i]       for i in valid_idxs]\n",
    "filtered_labels = [all_labels[i]     for i in valid_idxs]\n",
    "\n",
    "# Convert labels to integers\n",
    "y_test = np.array([label_to_idx[lbl] for lbl in filtered_labels], dtype=np.int32)\n",
    "print(f\"\\nAfter filtering: {len(filtered_seqs)} valid sequences, y_test shape: {y_test.shape}\")\n",
    "\n",
    "# --- 3) One-hot encode into shape (N, 263, 21) ---\n",
    "X_test = encode_sequences_one_hot_with_gap(filtered_seqs, max_length=263)\n",
    "print(f\"X_test shape: {X_test.shape}\")"
   ]
  },
  {
   "cell_type": "code",
   "execution_count": 9,
   "id": "5f7b7fbd",
   "metadata": {},
   "outputs": [
    {
     "name": "stdout",
     "output_type": "stream",
     "text": [
      "\u001b[1m28/28\u001b[0m \u001b[32m━━━━━━━━━━━━━━━━━━━━\u001b[0m\u001b[37m\u001b[0m \u001b[1m0s\u001b[0m 4ms/step\n",
      "Z_test shape: (1757, 32)\n",
      "\u001b[1m28/28\u001b[0m \u001b[32m━━━━━━━━━━━━━━━━━━━━\u001b[0m\u001b[37m\u001b[0m \u001b[1m0s\u001b[0m 2ms/step \n",
      "\n",
      "Test accuracy: 71.54%\n",
      "\n",
      "Confusion matrix:\n",
      "[[ 31   0   0   0   0   0   0   0   0   0   0   0   0   0   0]\n",
      " [  0  12   0   0   0   0   0   0   0   0   0   0   0   0   0]\n",
      " [  0   0  32   0   0   0   0   0   0   0   0   0   0   0   0]\n",
      " [  0   0   0  27   0   0   0   0   0   0   0   0   0   0   0]\n",
      " [  0   0   0   1  27   0   0   0   2   0   0   0   0   2   0]\n",
      " [  0   0   0   0   0  67   0   0   0   0   0   7   1   5   0]\n",
      " [  0   0   0   0   0   0  23   0   0   0   0   0   0   8   0]\n",
      " [  0   0   0   0   0   0   0 170   0   0   2   0   0   0   0]\n",
      " [  0   0   0   0   0   0   0   0  17   0   0   0   0   0   0]\n",
      " [  0   0   0   0   0   0   0   0   0   8   0   0   0   0   0]\n",
      " [  0   0   0   0   0   0   1  10  16   0 192   2   1  32   0]\n",
      " [  0   0   0   1   0   0   1   4   1   0   1  61   0   8   1]\n",
      " [  0   0   0   0   0   0   0   0   0   0   0   1  22   0   0]\n",
      " [ 66   2   5  26  19   3   8  59  45  13  29  85  20 553  11]\n",
      " [  0   0   0   0   0   0   0   0   1   0   0   0   0   0  15]]\n",
      "\n",
      "Classification report:\n",
      "              precision    recall  f1-score   support\n",
      "\n",
      "           0     0.3196    1.0000    0.4844        31\n",
      "           1     0.8571    1.0000    0.9231        12\n",
      "           2     0.8649    1.0000    0.9275        32\n",
      "           3     0.4909    1.0000    0.6585        27\n",
      "           4     0.5870    0.8438    0.6923        32\n",
      "           5     0.9571    0.8375    0.8933        80\n",
      "           6     0.6970    0.7419    0.7188        31\n",
      "           7     0.6996    0.9884    0.8193       172\n",
      "           8     0.2073    1.0000    0.3434        17\n",
      "           9     0.3810    1.0000    0.5517         8\n",
      "          10     0.8571    0.7559    0.8033       254\n",
      "          11     0.3910    0.7821    0.5214        78\n",
      "          12     0.5000    0.9565    0.6567        23\n",
      "          13     0.9095    0.5858    0.7126       944\n",
      "          14     0.5556    0.9375    0.6977        16\n",
      "\n",
      "    accuracy                         0.7154      1757\n",
      "   macro avg     0.6183    0.8953    0.6936      1757\n",
      "weighted avg     0.8151    0.7154    0.7310      1757\n",
      "\n"
     ]
    }
   ],
   "source": [
    "# --- 4) Embed via your encoder ---\n",
    "# If you have a standalone encoder model:\n",
    "Z_test = encoder.predict(X_test, batch_size=64, verbose=1)\n",
    "# Or, using vae.encode:\n",
    "# X_flat = X_test.reshape(X_test.shape[0], -1)\n",
    "# z_mean, _, _ = vae.encode(X_flat)\n",
    "# Z_test = z_mean.numpy()\n",
    "\n",
    "print(f\"Z_test shape: {Z_test.shape}\")\n",
    "\n",
    "# --- 5) Predict & evaluate using your trained classifier ---\n",
    "y_pred = np.argmax(clf.predict(Z_test, batch_size=64, verbose=1), axis=1)\n",
    "\n",
    "acc = accuracy_score(y_test, y_pred)\n",
    "print(f\"\\nTest accuracy: {acc:.2%}\")\n",
    "\n",
    "print(\"\\nConfusion matrix:\")\n",
    "print(confusion_matrix(y_test, y_pred))\n",
    "\n",
    "print(\"\\nClassification report:\")\n",
    "print(classification_report(y_test, y_pred, digits=4))\n"
   ]
  },
  {
   "cell_type": "code",
   "execution_count": 10,
   "id": "5f985ecf",
   "metadata": {},
   "outputs": [
    {
     "data": {
      "image/png": "[encoded data removed]",
      "text/plain": [
       "<Figure size 1200x1200 with 2 Axes>"
      ]
     },
     "metadata": {},
     "output_type": "display_data"
    }
   ],
   "source": [
    "import seaborn as sns\n",
    "# 2) Compute confusion matrix\n",
    "cm = confusion_matrix(y_test, y_pred)\n",
    "\n",
    "# 2) Wrap in a DataFrame for nicer indexing\n",
    "df_cm = pd.DataFrame(cm,\n",
    "                     index=unique_labels,\n",
    "                     columns=unique_labels)\n",
    "\n",
    "# 3) Plot\n",
    "plt.figure(figsize=(12, 12))\n",
    "sns.heatmap(\n",
    "    df_cm,\n",
    "    annot=True,\n",
    "    fmt='d',\n",
    "    cmap='Blues',\n",
    "    cbar=True,\n",
    "    linewidths=0.8,\n",
    "    linecolor='black',\n",
    "    xticklabels=unique_labels,\n",
    "    yticklabels=unique_labels\n",
    ")\n",
    "plt.xlabel('Predicted Label', fontsize=14)\n",
    "plt.ylabel('True Label', fontsize=14)\n",
    "plt.title('Confusion Matrix (Counts)', fontsize=16)\n",
    "plt.xticks(rotation=90, fontsize=10)\n",
    "plt.yticks(rotation=0, fontsize=10)\n",
    "plt.tight_layout()\n",
    "plt.show()\n"
   ]
  },
  {
   "cell_type": "code",
   "execution_count": null,
   "id": "eb9591e8",
   "metadata": {},
   "outputs": [],
   "source": [
    "#### save the model & how to load"
   ]
  },
  {
   "cell_type": "code",
   "execution_count": 11,
   "id": "de8a1f35",
   "metadata": {},
   "outputs": [],
   "source": [
    "# this writes a directory “encoder_3d_to_32” in TensorFlow’s SavedModel format\n",
    "encoder.save('vae_mlp_4 models/encoder_3d_to_32.keras')\n",
    "clf.save('vae_mlp_4 models/latent_mlp_classifier.keras')\n",
    "vae.save('vae_mlp_4 models/protein_vae_model.keras')"
   ]
  },
  {
   "cell_type": "code",
   "execution_count": null,
   "id": "25d08fc3",
   "metadata": {},
   "outputs": [],
   "source": [
    "import tensorflow as tf\n",
    "from tensorflow.keras.models import load_model\n",
    "# from your_module import Sampling, Encoder, Decoder, VAE  # if you need them\n",
    "\n",
    "# 1) Re-load encoder\n",
    "encoder = load_model(\n",
    "    'vae_mlp_2 models/encoder_3d_to_32.keras',\n",
    "    custom_objects={'Sampling': Sampling,\n",
    "                    'Encoder': Encoder}\n",
    ")\n",
    "\n",
    "# 2) Re-load classifier\n",
    "clf = load_model('vae_mlp_2 models/latent_mlp_classifier.keras')\n",
    "\n",
    "\"\"\"\n",
    "# 3) (Optional) Re-load full VAE\n",
    "vae = load_model(\n",
    "    'vae_mlp_2 models/protein_vae_model.keras',\n",
    "    custom_objects={'Sampling': Sampling, 'Encoder': Encoder, 'Decoder': Decoder, 'VAE': VAE}\n",
    ")\n",
    "\"\"\""
   ]
  },
  {
   "cell_type": "markdown",
   "id": "be247220",
   "metadata": {},
   "source": [
    "### AGAIN, pseudo labeling to augment labled data"
   ]
  },
  {
   "cell_type": "code",
   "execution_count": 12,
   "id": "7a5e49e0",
   "metadata": {},
   "outputs": [],
   "source": [
    "seq_list = read_fasta('PF00069_noinserts_gaps_noduplicates.fasta')"
   ]
  },
  {
   "cell_type": "code",
   "execution_count": 13,
   "id": "3c453239",
   "metadata": {},
   "outputs": [],
   "source": [
    "batch1 = seq_list[:100000]"
   ]
  },
  {
   "cell_type": "code",
   "execution_count": 14,
   "id": "be6092a8",
   "metadata": {},
   "outputs": [],
   "source": [
    "X_unlab_onehot_1 = encode_sequences_one_hot_with_gap(batch1, max_length=None)"
   ]
  },
  {
   "cell_type": "code",
   "execution_count": 15,
   "id": "32c068c6",
   "metadata": {},
   "outputs": [],
   "source": [
    "# creating a dict for saving\n",
    "from collections import defaultdict\n",
    "\n",
    "# --- BEGIN GLOBALS: run once before your first chunk ---\n",
    "# Number of classes in your classifier\n",
    "num_classes = clf.output_shape[-1]\n",
    "\n",
    "# This dict will hold lists of one-hot arrays for each class\n",
    "# e.g. pseudo_buckets[5] = [ array(chunk1_class5), array(chunk2_class5), ... ]\n",
    "pseudo_buckets = defaultdict(list)\n",
    "\n",
    "# (Optionally) one bucket for “uncertain” if you care\n",
    "uncertain_bucket = []\n",
    "\n",
    "# --- END GLOBALS ---"
   ]
  },
  {
   "cell_type": "code",
   "execution_count": 16,
   "id": "35ab3ab7",
   "metadata": {},
   "outputs": [],
   "source": [
    "# Now, for each new chunk of X_unlab_onehot you process, run this:\n",
    "\n",
    "def pseudo_label_and_bucket(X_unlab_onehot, encoder, clf,\n",
    "                            threshold=0.95):\n",
    "    \"\"\"\n",
    "    Pseudo-label one-hot batch, then append high-confidence examples\n",
    "    into the global pseudo_buckets dict.\n",
    "    \"\"\"\n",
    "    # 1) Embed to latent\n",
    "    Z = encoder.predict(X_unlab_onehot, batch_size=256, verbose=1)\n",
    "    # 2) Predict\n",
    "    probs      = clf.predict(Z, batch_size=256, verbose=1)\n",
    "    preds      = np.argmax(probs, axis=1)\n",
    "    confidences = probs.max(axis=1)\n",
    "    # 3) Mask high-confidence\n",
    "    mask_conf  = confidences >= threshold\n",
    "\n",
    "    # 4) Report coverage\n",
    "    coverage = mask_conf.mean() * 100\n",
    "    print(f\"Labeled {coverage:.1f}% of this chunk at ≥{threshold:.0%} confidence\")\n",
    "\n",
    "    # 5) Bucket per class\n",
    "    for cls in range(num_classes):\n",
    "        idxs = np.where((preds == cls) & mask_conf)[0]\n",
    "        if idxs.size:\n",
    "            # append the sub-array of one-hots for this class\n",
    "            pseudo_buckets[cls].append(X_unlab_onehot[idxs])\n",
    "    # 6) (Optional) store uncertain for later\n",
    "    uncertain_idxs = np.where(~mask_conf)[0]\n",
    "    if uncertain_idxs.size:\n",
    "        uncertain_bucket.append(X_unlab_onehot[uncertain_idxs])\n",
    "\n",
    "    # 7) Print per-class counts this chunk\n",
    "    counts = {cls: sum(arr.shape[0] for arr in pseudo_buckets[cls])\n",
    "              for cls in range(num_classes)}\n",
    "    print(\"Accumulated counts so far:\", counts)"
   ]
  },
  {
   "cell_type": "code",
   "execution_count": 17,
   "id": "13710622",
   "metadata": {},
   "outputs": [
    {
     "ename": "MemoryError",
     "evalue": "Unable to allocate 2.05 GiB for an array with shape (99697, 263, 21) and data type float32",
     "output_type": "error",
     "traceback": [
      "\u001b[1;31m---------------------------------------------------------------------------\u001b[0m",
      "\u001b[1;31mMemoryError\u001b[0m                               Traceback (most recent call last)",
      "Cell \u001b[1;32mIn[17], line 2\u001b[0m\n\u001b[0;32m      1\u001b[0m \u001b[38;5;66;03m# Example usage (run for your first 200K chunk):\u001b[39;00m\n\u001b[1;32m----> 2\u001b[0m \u001b[43mpseudo_label_and_bucket\u001b[49m\u001b[43m(\u001b[49m\u001b[43mX_unlab_onehot_1\u001b[49m\u001b[43m,\u001b[49m\u001b[43m \u001b[49m\u001b[43mencoder\u001b[49m\u001b[43m,\u001b[49m\u001b[43m \u001b[49m\u001b[43mclf\u001b[49m\u001b[43m,\u001b[49m\u001b[43m \u001b[49m\u001b[43mthreshold\u001b[49m\u001b[38;5;241;43m=\u001b[39;49m\u001b[38;5;241;43m0.98\u001b[39;49m\u001b[43m)\u001b[49m\n\u001b[0;32m      4\u001b[0m \u001b[38;5;66;03m# --- Repeat pseudo_label_and_bucket(...) for each of your 4 chunks ---\u001b[39;00m\n",
      "Cell \u001b[1;32mIn[16], line 10\u001b[0m, in \u001b[0;36mpseudo_label_and_bucket\u001b[1;34m(X_unlab_onehot, encoder, clf, threshold)\u001b[0m\n\u001b[0;32m      5\u001b[0m \u001b[38;5;250m\u001b[39m\u001b[38;5;124;03m\"\"\"\u001b[39;00m\n\u001b[0;32m      6\u001b[0m \u001b[38;5;124;03mPseudo-label one-hot batch, then append high-confidence examples\u001b[39;00m\n\u001b[0;32m      7\u001b[0m \u001b[38;5;124;03minto the global pseudo_buckets dict.\u001b[39;00m\n\u001b[0;32m      8\u001b[0m \u001b[38;5;124;03m\"\"\"\u001b[39;00m\n\u001b[0;32m      9\u001b[0m \u001b[38;5;66;03m# 1) Embed to latent\u001b[39;00m\n\u001b[1;32m---> 10\u001b[0m Z \u001b[38;5;241m=\u001b[39m \u001b[43mencoder\u001b[49m\u001b[38;5;241;43m.\u001b[39;49m\u001b[43mpredict\u001b[49m\u001b[43m(\u001b[49m\u001b[43mX_unlab_onehot\u001b[49m\u001b[43m,\u001b[49m\u001b[43m \u001b[49m\u001b[43mbatch_size\u001b[49m\u001b[38;5;241;43m=\u001b[39;49m\u001b[38;5;241;43m256\u001b[39;49m\u001b[43m,\u001b[49m\u001b[43m \u001b[49m\u001b[43mverbose\u001b[49m\u001b[38;5;241;43m=\u001b[39;49m\u001b[38;5;241;43m1\u001b[39;49m\u001b[43m)\u001b[49m\n\u001b[0;32m     11\u001b[0m \u001b[38;5;66;03m# 2) Predict\u001b[39;00m\n\u001b[0;32m     12\u001b[0m probs      \u001b[38;5;241m=\u001b[39m clf\u001b[38;5;241m.\u001b[39mpredict(Z, batch_size\u001b[38;5;241m=\u001b[39m\u001b[38;5;241m256\u001b[39m, verbose\u001b[38;5;241m=\u001b[39m\u001b[38;5;241m1\u001b[39m)\n",
      "File \u001b[1;32mc:\\Users\\sajdv\\anaconda3\\envs\\vae\\lib\\site-packages\\keras\\src\\utils\\traceback_utils.py:122\u001b[0m, in \u001b[0;36mfilter_traceback.<locals>.error_handler\u001b[1;34m(*args, **kwargs)\u001b[0m\n\u001b[0;32m    119\u001b[0m     filtered_tb \u001b[38;5;241m=\u001b[39m _process_traceback_frames(e\u001b[38;5;241m.\u001b[39m__traceback__)\n\u001b[0;32m    120\u001b[0m     \u001b[38;5;66;03m# To get the full stack trace, call:\u001b[39;00m\n\u001b[0;32m    121\u001b[0m     \u001b[38;5;66;03m# `keras.config.disable_traceback_filtering()`\u001b[39;00m\n\u001b[1;32m--> 122\u001b[0m     \u001b[38;5;28;01mraise\u001b[39;00m e\u001b[38;5;241m.\u001b[39mwith_traceback(filtered_tb) \u001b[38;5;28;01mfrom\u001b[39;00m\u001b[38;5;250m \u001b[39m\u001b[38;5;28;01mNone\u001b[39;00m\n\u001b[0;32m    123\u001b[0m \u001b[38;5;28;01mfinally\u001b[39;00m:\n\u001b[0;32m    124\u001b[0m     \u001b[38;5;28;01mdel\u001b[39;00m filtered_tb\n",
      "File \u001b[1;32mc:\\Users\\sajdv\\anaconda3\\envs\\vae\\lib\\site-packages\\tensorflow\\python\\framework\\constant_op.py:96\u001b[0m, in \u001b[0;36mconvert_to_eager_tensor\u001b[1;34m(value, ctx, dtype)\u001b[0m\n\u001b[0;32m     76\u001b[0m \u001b[38;5;250m\u001b[39m\u001b[38;5;124;03m\"\"\"Converts the given `value` to an `EagerTensor`.\u001b[39;00m\n\u001b[0;32m     77\u001b[0m \n\u001b[0;32m     78\u001b[0m \u001b[38;5;124;03mNote that this function could return cached copies of created constants for\u001b[39;00m\n\u001b[1;32m   (...)\u001b[0m\n\u001b[0;32m     90\u001b[0m \u001b[38;5;124;03m  TypeError: if `dtype` is not compatible with the type of t.\u001b[39;00m\n\u001b[0;32m     91\u001b[0m \u001b[38;5;124;03m\"\"\"\u001b[39;00m\n\u001b[0;32m     92\u001b[0m \u001b[38;5;28;01mif\u001b[39;00m \u001b[38;5;28misinstance\u001b[39m(value, np\u001b[38;5;241m.\u001b[39mndarray):\n\u001b[0;32m     93\u001b[0m   \u001b[38;5;66;03m# Make a copy explicitly because the EagerTensor might share the underlying\u001b[39;00m\n\u001b[0;32m     94\u001b[0m   \u001b[38;5;66;03m# memory with the input array. Without this copy, users will be able to\u001b[39;00m\n\u001b[0;32m     95\u001b[0m   \u001b[38;5;66;03m# modify the EagerTensor after its creation by changing the input array.\u001b[39;00m\n\u001b[1;32m---> 96\u001b[0m   value \u001b[38;5;241m=\u001b[39m \u001b[43mvalue\u001b[49m\u001b[38;5;241;43m.\u001b[39;49m\u001b[43mcopy\u001b[49m\u001b[43m(\u001b[49m\u001b[43m)\u001b[49m\n\u001b[0;32m     97\u001b[0m \u001b[38;5;28;01mif\u001b[39;00m \u001b[38;5;28misinstance\u001b[39m(value, ops\u001b[38;5;241m.\u001b[39mEagerTensor):\n\u001b[0;32m     98\u001b[0m   \u001b[38;5;28;01mif\u001b[39;00m dtype \u001b[38;5;129;01mis\u001b[39;00m \u001b[38;5;129;01mnot\u001b[39;00m \u001b[38;5;28;01mNone\u001b[39;00m \u001b[38;5;129;01mand\u001b[39;00m value\u001b[38;5;241m.\u001b[39mdtype \u001b[38;5;241m!=\u001b[39m dtype:\n",
      "\u001b[1;31mMemoryError\u001b[0m: Unable to allocate 2.05 GiB for an array with shape (99697, 263, 21) and data type float32"
     ]
    }
   ],
   "source": [
    "# Example usage (run for your first 200K chunk):\n",
    "pseudo_label_and_bucket(X_unlab_onehot_1, encoder, clf, threshold=0.98)\n",
    "\n",
    "# --- Repeat pseudo_label_and_bucket(...) for each of your 4 chunks ---"
   ]
  }
 ],
 "metadata": {
  "kernelspec": {
   "display_name": "vae",
   "language": "python",
   "name": "python3"
  },
  "language_info": {
   "codemirror_mode": {
    "name": "ipython",
    "version": 3
   },
   "file_extension": ".py",
   "mimetype": "text/x-python",
   "name": "python",
   "nbconvert_exporter": "python",
   "pygments_lexer": "ipython3",
   "version": "3.10.16"
  }
 },
 "nbformat": 4,
 "nbformat_minor": 5
}
