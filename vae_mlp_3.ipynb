{
 "cells": [
  {
   "cell_type": "markdown",
   "id": "881ae435",
   "metadata": {},
   "source": [
    "here i will train a new mlp on pseudo + synth data"
   ]
  },
  {
   "cell_type": "code",
   "execution_count": 1,
   "id": "47806213",
   "metadata": {},
   "outputs": [],
   "source": [
    "import numpy as np\n",
    "import random\n",
    "import tensorflow as tf\n",
    "from tensorflow.keras import layers, Model\n",
    "from tensorflow.keras import backend as K\n",
    "from sklearn.model_selection import train_test_split\n",
    "from tensorflow.keras.callbacks import EarlyStopping, ModelCheckpoint\n",
    "import matplotlib.pyplot as plt\n",
    "from sklearn.decomposition import PCA\n",
    "from sklearn.cluster import KMeans\n",
    "from scipy.spatial import ConvexHull\n",
    "import pandas as pd\n",
    "from tensorflow import keras\n",
    "from sklearn.manifold import TSNE\n",
    "import os\n",
    "from collections import Counter"
   ]
  },
  {
   "cell_type": "code",
   "execution_count": null,
   "id": "aa985b37",
   "metadata": {},
   "outputs": [],
   "source": []
  },
  {
   "cell_type": "markdown",
   "id": "9377ebdd",
   "metadata": {},
   "source": [
    "#### prepare the data ( so the data would be pseudo + synth)"
   ]
  },
  {
   "cell_type": "code",
   "execution_count": 4,
   "id": "6bf9a203",
   "metadata": {},
   "outputs": [
    {
     "name": "stdout",
     "output_type": "stream",
     "text": [
      "Found 15 class files in vae_mlp_2 models/synthetic_plus_pseudo\n",
      "\n",
      "Class  0 →    100 sequences loaded from class_0.npz\n",
      "Class  1 →     80 sequences loaded from class_1.npz\n",
      "Class 10 →    510 sequences loaded from class_10.npz\n",
      "Class 11 →    257 sequences loaded from class_11.npz\n",
      "Class 12 →    100 sequences loaded from class_12.npz\n",
      "Class 13 →   1050 sequences loaded from class_13.npz\n",
      "Class 14 →     80 sequences loaded from class_14.npz\n",
      "Class  2 →    250 sequences loaded from class_2.npz\n",
      "Class  3 →    168 sequences loaded from class_3.npz\n",
      "Class  4 →    214 sequences loaded from class_4.npz\n",
      "Class  5 →    350 sequences loaded from class_5.npz\n",
      "Class  6 →    310 sequences loaded from class_6.npz\n",
      "Class  7 →    510 sequences loaded from class_7.npz\n",
      "Class  8 →     80 sequences loaded from class_8.npz\n",
      "Class  9 →     30 sequences loaded from class_9.npz\n",
      "\n",
      "Total sequences across all classes: 4089\n",
      "\n",
      "After 80/20 split:\n",
      "  Training set:   X_tr=(3271, 263, 21), y_tr=(3271,)\n",
      "  Validation set: X_val=(818, 263, 21), y_val=(818,)\n",
      "\n",
      "Per-class counts:\n",
      "Class |  Total |  Train |    Val\n",
      "--------------------------------\n",
      "    0 |    100 |     80 |     20\n",
      "    1 |     80 |     64 |     16\n",
      "    2 |    250 |    200 |     50\n",
      "    3 |    168 |    134 |     34\n",
      "    4 |    214 |    171 |     43\n",
      "    5 |    350 |    280 |     70\n",
      "    6 |    310 |    248 |     62\n",
      "    7 |    510 |    408 |    102\n",
      "    8 |     80 |     64 |     16\n",
      "    9 |     30 |     24 |      6\n",
      "   10 |    510 |    408 |    102\n",
      "   11 |    257 |    206 |     51\n",
      "   12 |    100 |     80 |     20\n",
      "   13 |   1050 |    840 |    210\n",
      "   14 |     80 |     64 |     16\n",
      "\n",
      "Saved train/val splits to vae_mlp_2 models/final_training_data\\train_val_split.npz\n"
     ]
    }
   ],
   "source": [
    "import os\n",
    "import numpy as np\n",
    "from sklearn.model_selection import train_test_split\n",
    "\n",
    "# 1) Directory containing your merged .npz per class\n",
    "dir_q = 'vae_mlp_2 models/synthetic_plus_pseudo'\n",
    "\n",
    "# 2) Discover all .npz files\n",
    "files = [f for f in os.listdir(dir_q) if f.endswith('.npz')]\n",
    "print(f\"Found {len(files)} class files in {dir_q}\\n\")\n",
    "\n",
    "# 3) Load each, record counts, and build X_all, y_all\n",
    "X_list = []\n",
    "y_list = []\n",
    "class_counts = {}\n",
    "\n",
    "for fname in sorted(files):\n",
    "    path = os.path.join(dir_q, fname)\n",
    "    # assume filename like \"class_3_plus_synth.npz\" or \"class_3.npz\"\n",
    "    # extract the first integer you find in the filename\n",
    "    import re\n",
    "    m = re.search(r'(\\d+)', fname)\n",
    "    if not m:\n",
    "        print(f\"Skipping {fname}: no class index found\")\n",
    "        continue\n",
    "    cls = int(m.group(1))\n",
    "\n",
    "    data = np.load(path)\n",
    "    # your arrays are saved under key 'X' or 'arr_0'\n",
    "    X = data.get('X', data.get('arr_0'))\n",
    "    n = X.shape[0]\n",
    "    class_counts[cls] = n\n",
    "\n",
    "    print(f\"Class {cls:2d} → {n:6d} sequences loaded from {fname}\")\n",
    "\n",
    "    X_list.append(X)\n",
    "    y_list.append(np.full(n, cls, dtype=np.int32))\n",
    "\n",
    "# 4) Concatenate into full dataset\n",
    "X_all = np.concatenate(X_list, axis=0)\n",
    "y_all = np.concatenate(y_list, axis=0)\n",
    "total = X_all.shape[0]\n",
    "print(f\"\\nTotal sequences across all classes: {total}\\n\")\n",
    "\n",
    "# 5) Stratified train/validation split (80/20)\n",
    "X_tr, X_val, y_tr, y_val = train_test_split(\n",
    "    X_all, y_all,\n",
    "    test_size=0.2,\n",
    "    random_state=42,\n",
    "    stratify=y_all\n",
    ")\n",
    "\n",
    "print(f\"After 80/20 split:\")\n",
    "print(f\"  Training set:   X_tr={X_tr.shape}, y_tr={y_tr.shape}\")\n",
    "print(f\"  Validation set: X_val={X_val.shape}, y_val={y_val.shape}\\n\")\n",
    "\n",
    "# 6) Report per-class counts in each split\n",
    "print(\"Per-class counts:\")\n",
    "classes = sorted(class_counts.keys())\n",
    "print(f\"{'Class':>5s} | {'Total':>6s} | {'Train':>6s} | {'Val':>6s}\")\n",
    "print(\"-\" * 32)\n",
    "for cls in classes:\n",
    "    total_c = class_counts[cls]\n",
    "    train_c = np.sum(y_tr == cls)\n",
    "    val_c   = np.sum(y_val == cls)\n",
    "    print(f\"{cls:5d} | {total_c:6d} | {train_c:6d} | {val_c:6d}\")\n",
    "\n",
    "# 7) Save splits to .npz\n",
    "out_path = os.path.join('vae_mlp_2 models/final_training_data', 'train_val_split.npz')\n",
    "np.savez_compressed(\n",
    "    out_path,\n",
    "    X_train=X_tr,\n",
    "    y_train=y_tr,\n",
    "    X_val=X_val,\n",
    "    y_val=y_val\n",
    ")\n",
    "print(f\"\\nSaved train/val splits to {out_path}\")\n"
   ]
  },
  {
   "cell_type": "code",
   "execution_count": null,
   "id": "d24c98b2",
   "metadata": {},
   "outputs": [],
   "source": [
    "# to load\n",
    "# 1) Load your train/val split\n",
    "data = np.load('vae_mlp_2/models/synthetic_plus_pseudo/train_val_split.npz')\n",
    "X_tr, y_tr = data['X_train'], data['y_train']\n",
    "X_val, y_val = data['X_val'], data['y_val']\n",
    "\n",
    "print(f\"X_tr shape: {X_tr.shape}, y_tr shape: {y_tr.shape}\")\n",
    "print(f\"X_val shape: {X_val.shape}, y_val shape: {y_val.shape}\")"
   ]
  },
  {
   "cell_type": "markdown",
   "id": "42f7e79a",
   "metadata": {},
   "source": [
    "### read fasta stuff"
   ]
  },
  {
   "cell_type": "code",
   "execution_count": 2,
   "id": "ebbb8ba9",
   "metadata": {},
   "outputs": [],
   "source": [
    "def read_fasta(input_f):\n",
    "    sequences = []\n",
    "    current_seq = \"\"\n",
    "    with open(input_f, 'r') as f:\n",
    "        for line in f:\n",
    "            line = line.strip()\n",
    "            if line.startswith('>'):\n",
    "                if current_seq:\n",
    "                    sequences.append(current_seq)\n",
    "                    current_seq = \"\"\n",
    "            else:\n",
    "                current_seq += line\n",
    "        if current_seq:\n",
    "            sequences.append(current_seq)\n",
    "    return sequences\n",
    "\n",
    "def select_random_sequences(sequences, num_samples=10000):\n",
    "    if len(sequences) < num_samples :\n",
    "        raise ValueError(\"The number of requested sequences exceeds the initial list size.\")\n",
    "\n",
    "    return random.sample(sequences, num_samples)\n",
    "\n",
    "\n",
    "def encode_sequences_one_hot_with_gap(sequences, max_length=None) :\n",
    "\n",
    "    amino_acids = '-ACDEFGHIKLMNPQRSTVWY'\n",
    "    aa_to_idx = {aa: idx for idx, aa in enumerate(amino_acids)}\n",
    "    valid_sequences = [seq for seq in sequences if all(aa in aa_to_idx for aa in seq)]\n",
    "\n",
    "    if not valid_sequences :  # Return empty array if no valid sequences remain\n",
    "        return np.array([])\n",
    "\n",
    "    # Set maximum length\n",
    "    if max_length is None :\n",
    "        max_length = max(len(seq) for seq in valid_sequences)\n",
    "\n",
    "    # Initialize the output matrix with zeros\n",
    "    M = len(valid_sequences)\n",
    "    L = max_length\n",
    "    encoded_matrix = np.zeros((M, L, len(amino_acids)), dtype=np.float32)\n",
    "\n",
    "    # Encode each sequence\n",
    "    for i, seq in enumerate(valid_sequences) :\n",
    "        for j, aa in enumerate(seq[:max_length]) :  # Truncate sequences longer than max_length\n",
    "            encoded_matrix[i, j, aa_to_idx[aa]] = 1.0  # One-hot encode valid amino acids and gaps\n",
    "    return encoded_matrix"
   ]
  },
  {
   "cell_type": "markdown",
   "id": "5233dcb2",
   "metadata": {},
   "source": [
    "### vae model"
   ]
  },
  {
   "cell_type": "code",
   "execution_count": 3,
   "id": "0fd553ac",
   "metadata": {},
   "outputs": [
    {
     "data": {
      "text/html": [
       "<pre style=\"white-space:pre;overflow-x:auto;line-height:normal;font-family:Menlo,'DejaVu Sans Mono',consolas,'Courier New',monospace\"><span style=\"font-weight: bold\">Model: \"vae\"</span>\n",
       "</pre>\n"
      ],
      "text/plain": [
       "\u001b[1mModel: \"vae\"\u001b[0m\n"
      ]
     },
     "metadata": {},
     "output_type": "display_data"
    },
    {
     "data": {
      "text/html": [
       "<pre style=\"white-space:pre;overflow-x:auto;line-height:normal;font-family:Menlo,'DejaVu Sans Mono',consolas,'Courier New',monospace\">┏━━━━━━━━━━━━━━━━━━━━━━━━━━━━━━━━━┳━━━━━━━━━━━━━━━━━━━━━━━━┳━━━━━━━━━━━━━━━┓\n",
       "┃<span style=\"font-weight: bold\"> Layer (type)                    </span>┃<span style=\"font-weight: bold\"> Output Shape           </span>┃<span style=\"font-weight: bold\">       Param # </span>┃\n",
       "┡━━━━━━━━━━━━━━━━━━━━━━━━━━━━━━━━━╇━━━━━━━━━━━━━━━━━━━━━━━━╇━━━━━━━━━━━━━━━┩\n",
       "│ encoder (<span style=\"color: #0087ff; text-decoration-color: #0087ff\">Encoder</span>)               │ ?                      │     <span style=\"color: #00af00; text-decoration-color: #00af00\">1,461,248</span> │\n",
       "├─────────────────────────────────┼────────────────────────┼───────────────┤\n",
       "│ decoder (<span style=\"color: #0087ff; text-decoration-color: #0087ff\">Decoder</span>)               │ ?                      │     <span style=\"color: #00af00; text-decoration-color: #00af00\">1,464,659</span> │\n",
       "└─────────────────────────────────┴────────────────────────┴───────────────┘\n",
       "</pre>\n"
      ],
      "text/plain": [
       "┏━━━━━━━━━━━━━━━━━━━━━━━━━━━━━━━━━┳━━━━━━━━━━━━━━━━━━━━━━━━┳━━━━━━━━━━━━━━━┓\n",
       "┃\u001b[1m \u001b[0m\u001b[1mLayer (type)                   \u001b[0m\u001b[1m \u001b[0m┃\u001b[1m \u001b[0m\u001b[1mOutput Shape          \u001b[0m\u001b[1m \u001b[0m┃\u001b[1m \u001b[0m\u001b[1m      Param #\u001b[0m\u001b[1m \u001b[0m┃\n",
       "┡━━━━━━━━━━━━━━━━━━━━━━━━━━━━━━━━━╇━━━━━━━━━━━━━━━━━━━━━━━━╇━━━━━━━━━━━━━━━┩\n",
       "│ encoder (\u001b[38;5;33mEncoder\u001b[0m)               │ ?                      │     \u001b[38;5;34m1,461,248\u001b[0m │\n",
       "├─────────────────────────────────┼────────────────────────┼───────────────┤\n",
       "│ decoder (\u001b[38;5;33mDecoder\u001b[0m)               │ ?                      │     \u001b[38;5;34m1,464,659\u001b[0m │\n",
       "└─────────────────────────────────┴────────────────────────┴───────────────┘\n"
      ]
     },
     "metadata": {},
     "output_type": "display_data"
    },
    {
     "data": {
      "text/html": [
       "<pre style=\"white-space:pre;overflow-x:auto;line-height:normal;font-family:Menlo,'DejaVu Sans Mono',consolas,'Courier New',monospace\"><span style=\"font-weight: bold\"> Total params: </span><span style=\"color: #00af00; text-decoration-color: #00af00\">2,925,907</span> (11.16 MB)\n",
       "</pre>\n"
      ],
      "text/plain": [
       "\u001b[1m Total params: \u001b[0m\u001b[38;5;34m2,925,907\u001b[0m (11.16 MB)\n"
      ]
     },
     "metadata": {},
     "output_type": "display_data"
    },
    {
     "data": {
      "text/html": [
       "<pre style=\"white-space:pre;overflow-x:auto;line-height:normal;font-family:Menlo,'DejaVu Sans Mono',consolas,'Courier New',monospace\"><span style=\"font-weight: bold\"> Trainable params: </span><span style=\"color: #00af00; text-decoration-color: #00af00\">2,924,115</span> (11.15 MB)\n",
       "</pre>\n"
      ],
      "text/plain": [
       "\u001b[1m Trainable params: \u001b[0m\u001b[38;5;34m2,924,115\u001b[0m (11.15 MB)\n"
      ]
     },
     "metadata": {},
     "output_type": "display_data"
    },
    {
     "data": {
      "text/html": [
       "<pre style=\"white-space:pre;overflow-x:auto;line-height:normal;font-family:Menlo,'DejaVu Sans Mono',consolas,'Courier New',monospace\"><span style=\"font-weight: bold\"> Non-trainable params: </span><span style=\"color: #00af00; text-decoration-color: #00af00\">1,792</span> (7.00 KB)\n",
       "</pre>\n"
      ],
      "text/plain": [
       "\u001b[1m Non-trainable params: \u001b[0m\u001b[38;5;34m1,792\u001b[0m (7.00 KB)\n"
      ]
     },
     "metadata": {},
     "output_type": "display_data"
    }
   ],
   "source": [
    "class Sampling(layers.Layer):\n",
    "    \"\"\"Uses (z_mean, z_log_var) to sample z, the vector encoding a sequence.\"\"\"\n",
    "    \n",
    "    def call(self, inputs):\n",
    "        z_mean, z_log_var = inputs\n",
    "        batch = tf.shape(z_mean)[0]\n",
    "        dim = tf.shape(z_mean)[1]\n",
    "        epsilon = tf.keras.backend.random_normal(shape=(batch, dim))\n",
    "        return z_mean + tf.exp(0.5 * z_log_var) * epsilon\n",
    "\n",
    "class Encoder(layers.Layer):\n",
    "    \"\"\"Encodes sequences into latent space.\"\"\"\n",
    "    \n",
    "    def __init__(self, latent_dim, intermediate_dims=[256, 128, 64], **kwargs):\n",
    "        super(Encoder, self).__init__(**kwargs)\n",
    "        self.dense_layers = []\n",
    "        for dim in intermediate_dims:\n",
    "            self.dense_layers.append(layers.Dense(dim, activation='relu'))\n",
    "            self.dense_layers.append(layers.BatchNormalization())\n",
    "            self.dense_layers.append(layers.Dropout(0.3))\n",
    "        \n",
    "        self.dense_mean = layers.Dense(latent_dim)\n",
    "        self.dense_log_var = layers.Dense(latent_dim)\n",
    "        self.sampling = Sampling()\n",
    "    \n",
    "    def call(self, inputs):\n",
    "        x = inputs\n",
    "        for layer in self.dense_layers:\n",
    "            x = layer(x)\n",
    "        \n",
    "        z_mean = self.dense_mean(x)\n",
    "        z_log_var = self.dense_log_var(x)\n",
    "        z = self.sampling([z_mean, z_log_var])\n",
    "        \n",
    "        return z_mean, z_log_var, z\n",
    "\n",
    "class Decoder(layers.Layer):\n",
    "    \"\"\"Decodes a latent space point into a sequence.\"\"\"\n",
    "    \n",
    "    def __init__(self, original_dim, intermediate_dims=[64, 128, 256], **kwargs):\n",
    "        super(Decoder, self).__init__(**kwargs)\n",
    "        self.dense_layers = []\n",
    "        for dim in intermediate_dims:\n",
    "            self.dense_layers.append(layers.Dense(dim, activation='relu'))\n",
    "            self.dense_layers.append(layers.BatchNormalization())\n",
    "            self.dense_layers.append(layers.Dropout(0.3))\n",
    "        \n",
    "        self.dense_output = layers.Dense(original_dim, activation='sigmoid')\n",
    "    \n",
    "    def call(self, inputs):\n",
    "        x = inputs\n",
    "        for layer in self.dense_layers:\n",
    "            x = layer(x)\n",
    "        \n",
    "        return self.dense_output(x)\n",
    "\n",
    "class VAE(Model):\n",
    "    \"\"\"Variational Autoencoder for protein sequences.\"\"\"\n",
    "    \n",
    "    def __init__(self, original_dim, latent_dim, **kwargs):\n",
    "        super(VAE, self).__init__(**kwargs)\n",
    "        self.original_dim = original_dim\n",
    "        self.latent_dim = latent_dim\n",
    "        self.encoder = Encoder(latent_dim)\n",
    "        self.decoder = Decoder(original_dim)\n",
    "        \n",
    "    def call(self, inputs):\n",
    "        z_mean, z_log_var, z = self.encoder(inputs)\n",
    "        reconstructed = self.decoder(z)\n",
    "        \n",
    "        # Add KL divergence regularization loss\n",
    "        kl_loss = -0.5 * tf.reduce_mean(\n",
    "            tf.reduce_sum(1 + z_log_var - tf.square(z_mean) - tf.exp(z_log_var), axis=1)\n",
    "        )\n",
    "        \n",
    "        # Scale KL loss by input dimension to balance it with reconstruction loss\n",
    "        kl_loss = kl_loss * (1.0 / self.original_dim)\n",
    "        \n",
    "        self.add_loss(kl_loss)\n",
    "        return reconstructed\n",
    "    \n",
    "    def encode(self, inputs):\n",
    "        z_mean, z_log_var, z = self.encoder(inputs)\n",
    "        return z_mean, z_log_var, z\n",
    "    \n",
    "    def decode(self, z):\n",
    "        return self.decoder(z)\n",
    "    \n",
    "    def get_config(self):\n",
    "        config = super(VAE, self).get_config()\n",
    "        config.update({\n",
    "            'original_dim': self.original_dim,\n",
    "            'latent_dim': self.latent_dim\n",
    "        })\n",
    "        return config\n",
    "    \n",
    "\n",
    "# Rebuild the model architecture\n",
    "vae = VAE(original_dim=5523, latent_dim=32)\n",
    "\n",
    "dummy_input = np.zeros((1, 5523), dtype=np.float32)  # Match input shape\n",
    "_ = vae(dummy_input)  # Force layer creation\n",
    "\n",
    "vae.load_weights('models/200000seq_best_vae_model.h5')  # Load weights\n",
    "\n",
    "vae.summary()"
   ]
  },
  {
   "cell_type": "markdown",
   "id": "00678d8b",
   "metadata": {},
   "source": [
    "### freez the encoder"
   ]
  },
  {
   "cell_type": "code",
   "execution_count": 6,
   "id": "49ac95a5",
   "metadata": {},
   "outputs": [
    {
     "name": "stdout",
     "output_type": "stream",
     "text": [
      "WARNING:tensorflow:From c:\\Users\\sajdv\\anaconda3\\envs\\vae\\lib\\site-packages\\keras\\src\\backend\\tensorflow\\core.py:219: The name tf.placeholder is deprecated. Please use tf.compat.v1.placeholder instead.\n",
      "\n"
     ]
    },
    {
     "data": {
      "text/html": [
       "<pre style=\"white-space:pre;overflow-x:auto;line-height:normal;font-family:Menlo,'DejaVu Sans Mono',consolas,'Courier New',monospace\"><span style=\"font-weight: bold\">Model: \"encoder_3d_to_32\"</span>\n",
       "</pre>\n"
      ],
      "text/plain": [
       "\u001b[1mModel: \"encoder_3d_to_32\"\u001b[0m\n"
      ]
     },
     "metadata": {},
     "output_type": "display_data"
    },
    {
     "data": {
      "text/html": [
       "<pre style=\"white-space:pre;overflow-x:auto;line-height:normal;font-family:Menlo,'DejaVu Sans Mono',consolas,'Courier New',monospace\">┏━━━━━━━━━━━━━━━━━━━━━━━━━━━━━━━━━┳━━━━━━━━━━━━━━━━━━━━━━━━┳━━━━━━━━━━━━━━━┓\n",
       "┃<span style=\"font-weight: bold\"> Layer (type)                    </span>┃<span style=\"font-weight: bold\"> Output Shape           </span>┃<span style=\"font-weight: bold\">       Param # </span>┃\n",
       "┡━━━━━━━━━━━━━━━━━━━━━━━━━━━━━━━━━╇━━━━━━━━━━━━━━━━━━━━━━━━╇━━━━━━━━━━━━━━━┩\n",
       "│ onehot_input (<span style=\"color: #0087ff; text-decoration-color: #0087ff\">InputLayer</span>)       │ (<span style=\"color: #00d7ff; text-decoration-color: #00d7ff\">None</span>, <span style=\"color: #00af00; text-decoration-color: #00af00\">263</span>, <span style=\"color: #00af00; text-decoration-color: #00af00\">21</span>)        │             <span style=\"color: #00af00; text-decoration-color: #00af00\">0</span> │\n",
       "├─────────────────────────────────┼────────────────────────┼───────────────┤\n",
       "│ flatten (<span style=\"color: #0087ff; text-decoration-color: #0087ff\">Flatten</span>)               │ (<span style=\"color: #00d7ff; text-decoration-color: #00d7ff\">None</span>, <span style=\"color: #00af00; text-decoration-color: #00af00\">5523</span>)           │             <span style=\"color: #00af00; text-decoration-color: #00af00\">0</span> │\n",
       "├─────────────────────────────────┼────────────────────────┼───────────────┤\n",
       "│ encoder (<span style=\"color: #0087ff; text-decoration-color: #0087ff\">Encoder</span>)               │ [(<span style=\"color: #00d7ff; text-decoration-color: #00d7ff\">None</span>, <span style=\"color: #00af00; text-decoration-color: #00af00\">32</span>), (<span style=\"color: #00d7ff; text-decoration-color: #00d7ff\">None</span>,    │     <span style=\"color: #00af00; text-decoration-color: #00af00\">1,461,248</span> │\n",
       "│                                 │ <span style=\"color: #00af00; text-decoration-color: #00af00\">32</span>), (<span style=\"color: #00d7ff; text-decoration-color: #00d7ff\">None</span>, <span style=\"color: #00af00; text-decoration-color: #00af00\">32</span>)]       │               │\n",
       "└─────────────────────────────────┴────────────────────────┴───────────────┘\n",
       "</pre>\n"
      ],
      "text/plain": [
       "┏━━━━━━━━━━━━━━━━━━━━━━━━━━━━━━━━━┳━━━━━━━━━━━━━━━━━━━━━━━━┳━━━━━━━━━━━━━━━┓\n",
       "┃\u001b[1m \u001b[0m\u001b[1mLayer (type)                   \u001b[0m\u001b[1m \u001b[0m┃\u001b[1m \u001b[0m\u001b[1mOutput Shape          \u001b[0m\u001b[1m \u001b[0m┃\u001b[1m \u001b[0m\u001b[1m      Param #\u001b[0m\u001b[1m \u001b[0m┃\n",
       "┡━━━━━━━━━━━━━━━━━━━━━━━━━━━━━━━━━╇━━━━━━━━━━━━━━━━━━━━━━━━╇━━━━━━━━━━━━━━━┩\n",
       "│ onehot_input (\u001b[38;5;33mInputLayer\u001b[0m)       │ (\u001b[38;5;45mNone\u001b[0m, \u001b[38;5;34m263\u001b[0m, \u001b[38;5;34m21\u001b[0m)        │             \u001b[38;5;34m0\u001b[0m │\n",
       "├─────────────────────────────────┼────────────────────────┼───────────────┤\n",
       "│ flatten (\u001b[38;5;33mFlatten\u001b[0m)               │ (\u001b[38;5;45mNone\u001b[0m, \u001b[38;5;34m5523\u001b[0m)           │             \u001b[38;5;34m0\u001b[0m │\n",
       "├─────────────────────────────────┼────────────────────────┼───────────────┤\n",
       "│ encoder (\u001b[38;5;33mEncoder\u001b[0m)               │ [(\u001b[38;5;45mNone\u001b[0m, \u001b[38;5;34m32\u001b[0m), (\u001b[38;5;45mNone\u001b[0m,    │     \u001b[38;5;34m1,461,248\u001b[0m │\n",
       "│                                 │ \u001b[38;5;34m32\u001b[0m), (\u001b[38;5;45mNone\u001b[0m, \u001b[38;5;34m32\u001b[0m)]       │               │\n",
       "└─────────────────────────────────┴────────────────────────┴───────────────┘\n"
      ]
     },
     "metadata": {},
     "output_type": "display_data"
    },
    {
     "data": {
      "text/html": [
       "<pre style=\"white-space:pre;overflow-x:auto;line-height:normal;font-family:Menlo,'DejaVu Sans Mono',consolas,'Courier New',monospace\"><span style=\"font-weight: bold\"> Total params: </span><span style=\"color: #00af00; text-decoration-color: #00af00\">1,461,248</span> (5.57 MB)\n",
       "</pre>\n"
      ],
      "text/plain": [
       "\u001b[1m Total params: \u001b[0m\u001b[38;5;34m1,461,248\u001b[0m (5.57 MB)\n"
      ]
     },
     "metadata": {},
     "output_type": "display_data"
    },
    {
     "data": {
      "text/html": [
       "<pre style=\"white-space:pre;overflow-x:auto;line-height:normal;font-family:Menlo,'DejaVu Sans Mono',consolas,'Courier New',monospace\"><span style=\"font-weight: bold\"> Trainable params: </span><span style=\"color: #00af00; text-decoration-color: #00af00\">1,460,352</span> (5.57 MB)\n",
       "</pre>\n"
      ],
      "text/plain": [
       "\u001b[1m Trainable params: \u001b[0m\u001b[38;5;34m1,460,352\u001b[0m (5.57 MB)\n"
      ]
     },
     "metadata": {},
     "output_type": "display_data"
    },
    {
     "data": {
      "text/html": [
       "<pre style=\"white-space:pre;overflow-x:auto;line-height:normal;font-family:Menlo,'DejaVu Sans Mono',consolas,'Courier New',monospace\"><span style=\"font-weight: bold\"> Non-trainable params: </span><span style=\"color: #00af00; text-decoration-color: #00af00\">896</span> (3.50 KB)\n",
       "</pre>\n"
      ],
      "text/plain": [
       "\u001b[1m Non-trainable params: \u001b[0m\u001b[38;5;34m896\u001b[0m (3.50 KB)\n"
      ]
     },
     "metadata": {},
     "output_type": "display_data"
    }
   ],
   "source": [
    "# build a standalone encoder that outputs only z_mean\n",
    "# 1) One‑hot 3D input\n",
    "inp_3d = layers.Input(shape=(263, 21), name='onehot_input')\n",
    "\n",
    "# 2) Flatten to the original_dim your VAE expects\n",
    "flat   = layers.Flatten(name='flatten')(inp_3d)\n",
    "\n",
    "# 3) Call encode() without the training kwarg\n",
    "z_mean, z_logvar, z = vae.encode(flat)\n",
    "\n",
    "# 4) Build the encoder model\n",
    "encoder = Model(inputs=inp_3d, outputs=z_mean, name='encoder_3d_to_32')\n",
    "encoder.summary()"
   ]
  },
  {
   "cell_type": "markdown",
   "id": "c89747bb",
   "metadata": {},
   "source": [
    "#### embeding labeled data via 3D→32 encoder\n",
    "we are not changing encoder weights, we just want to have 32 dim vectors of our data in latent space.\n",
    "our model is not expose and not learning our labled data"
   ]
  },
  {
   "cell_type": "code",
   "execution_count": 7,
   "id": "77c2cf58",
   "metadata": {},
   "outputs": [
    {
     "name": "stdout",
     "output_type": "stream",
     "text": [
      "\u001b[1m52/52\u001b[0m \u001b[32m━━━━━━━━━━━━━━━━━━━━\u001b[0m\u001b[37m\u001b[0m \u001b[1m0s\u001b[0m 5ms/step\n",
      "\u001b[1m13/13\u001b[0m \u001b[32m━━━━━━━━━━━━━━━━━━━━\u001b[0m\u001b[37m\u001b[0m \u001b[1m0s\u001b[0m 5ms/step \n",
      "Latent shapes: (3271, 32) (818, 32)\n"
     ]
    }
   ],
   "source": [
    "# 2) Choose embedding batch size\n",
    "batch_size = 64\n",
    "\n",
    "# 3) If you're using the standalone encoder model (3D → 32):\n",
    "encoder.trainable = False\n",
    "\n",
    "Z_tr  = encoder.predict(X_tr,  batch_size=batch_size, verbose=1)  # → (n_train, 32)\n",
    "Z_val = encoder.predict(X_val, batch_size=batch_size, verbose=1)  # → (n_val,   32)\n",
    "\n",
    "print(\"Latent shapes:\", Z_tr.shape, Z_val.shape)\n"
   ]
  },
  {
   "cell_type": "markdown",
   "id": "abeafa83",
   "metadata": {},
   "source": [
    "### train mlp on tr/val data"
   ]
  },
  {
   "cell_type": "code",
   "execution_count": 8,
   "id": "f7b70d24",
   "metadata": {},
   "outputs": [
    {
     "name": "stdout",
     "output_type": "stream",
     "text": [
      "Epoch 1/100\n",
      "\u001b[1m103/103\u001b[0m \u001b[32m━━━━━━━━━━━━━━━━━━━━\u001b[0m\u001b[37m\u001b[0m \u001b[1m1s\u001b[0m 4ms/step - accuracy: 0.2217 - loss: 2.4312 - val_accuracy: 0.7726 - val_loss: 1.3337\n",
      "Epoch 2/100\n",
      "\u001b[1m103/103\u001b[0m \u001b[32m━━━━━━━━━━━━━━━━━━━━\u001b[0m\u001b[37m\u001b[0m \u001b[1m0s\u001b[0m 3ms/step - accuracy: 0.7281 - loss: 1.2257 - val_accuracy: 0.8374 - val_loss: 0.7752\n",
      "Epoch 3/100\n",
      "\u001b[1m103/103\u001b[0m \u001b[32m━━━━━━━━━━━━━━━━━━━━\u001b[0m\u001b[37m\u001b[0m \u001b[1m0s\u001b[0m 3ms/step - accuracy: 0.8340 - loss: 0.7617 - val_accuracy: 0.8765 - val_loss: 0.5330\n",
      "Epoch 4/100\n",
      "\u001b[1m103/103\u001b[0m \u001b[32m━━━━━━━━━━━━━━━━━━━━\u001b[0m\u001b[37m\u001b[0m \u001b[1m0s\u001b[0m 3ms/step - accuracy: 0.8689 - loss: 0.5668 - val_accuracy: 0.9193 - val_loss: 0.3987\n",
      "Epoch 5/100\n",
      "\u001b[1m103/103\u001b[0m \u001b[32m━━━━━━━━━━━━━━━━━━━━\u001b[0m\u001b[37m\u001b[0m \u001b[1m0s\u001b[0m 3ms/step - accuracy: 0.9043 - loss: 0.4316 - val_accuracy: 0.9364 - val_loss: 0.3157\n",
      "Epoch 6/100\n",
      "\u001b[1m103/103\u001b[0m \u001b[32m━━━━━━━━━━━━━━━━━━━━\u001b[0m\u001b[37m\u001b[0m \u001b[1m0s\u001b[0m 3ms/step - accuracy: 0.9074 - loss: 0.3684 - val_accuracy: 0.9462 - val_loss: 0.2634\n",
      "Epoch 7/100\n",
      "\u001b[1m103/103\u001b[0m \u001b[32m━━━━━━━━━━━━━━━━━━━━\u001b[0m\u001b[37m\u001b[0m \u001b[1m0s\u001b[0m 3ms/step - accuracy: 0.9211 - loss: 0.3233 - val_accuracy: 0.9499 - val_loss: 0.2219\n",
      "Epoch 8/100\n",
      "\u001b[1m103/103\u001b[0m \u001b[32m━━━━━━━━━━━━━━━━━━━━\u001b[0m\u001b[37m\u001b[0m \u001b[1m0s\u001b[0m 3ms/step - accuracy: 0.9396 - loss: 0.2628 - val_accuracy: 0.9658 - val_loss: 0.1929\n",
      "Epoch 9/100\n",
      "\u001b[1m103/103\u001b[0m \u001b[32m━━━━━━━━━━━━━━━━━━━━\u001b[0m\u001b[37m\u001b[0m \u001b[1m0s\u001b[0m 3ms/step - accuracy: 0.9405 - loss: 0.2533 - val_accuracy: 0.9645 - val_loss: 0.1726\n",
      "Epoch 10/100\n",
      "\u001b[1m103/103\u001b[0m \u001b[32m━━━━━━━━━━━━━━━━━━━━\u001b[0m\u001b[37m\u001b[0m \u001b[1m0s\u001b[0m 3ms/step - accuracy: 0.9425 - loss: 0.2241 - val_accuracy: 0.9658 - val_loss: 0.1577\n",
      "Epoch 11/100\n",
      "\u001b[1m103/103\u001b[0m \u001b[32m━━━━━━━━━━━━━━━━━━━━\u001b[0m\u001b[37m\u001b[0m \u001b[1m0s\u001b[0m 3ms/step - accuracy: 0.9522 - loss: 0.1972 - val_accuracy: 0.9682 - val_loss: 0.1437\n",
      "Epoch 12/100\n",
      "\u001b[1m103/103\u001b[0m \u001b[32m━━━━━━━━━━━━━━━━━━━━\u001b[0m\u001b[37m\u001b[0m \u001b[1m0s\u001b[0m 3ms/step - accuracy: 0.9484 - loss: 0.1946 - val_accuracy: 0.9670 - val_loss: 0.1346\n",
      "Epoch 13/100\n",
      "\u001b[1m103/103\u001b[0m \u001b[32m━━━━━━━━━━━━━━━━━━━━\u001b[0m\u001b[37m\u001b[0m \u001b[1m0s\u001b[0m 3ms/step - accuracy: 0.9547 - loss: 0.1813 - val_accuracy: 0.9682 - val_loss: 0.1268\n",
      "Epoch 14/100\n",
      "\u001b[1m103/103\u001b[0m \u001b[32m━━━━━━━━━━━━━━━━━━━━\u001b[0m\u001b[37m\u001b[0m \u001b[1m0s\u001b[0m 3ms/step - accuracy: 0.9602 - loss: 0.1699 - val_accuracy: 0.9682 - val_loss: 0.1182\n",
      "Epoch 15/100\n",
      "\u001b[1m103/103\u001b[0m \u001b[32m━━━━━━━━━━━━━━━━━━━━\u001b[0m\u001b[37m\u001b[0m \u001b[1m0s\u001b[0m 3ms/step - accuracy: 0.9662 - loss: 0.1423 - val_accuracy: 0.9670 - val_loss: 0.1124\n",
      "Epoch 16/100\n",
      "\u001b[1m103/103\u001b[0m \u001b[32m━━━━━━━━━━━━━━━━━━━━\u001b[0m\u001b[37m\u001b[0m \u001b[1m0s\u001b[0m 3ms/step - accuracy: 0.9605 - loss: 0.1618 - val_accuracy: 0.9707 - val_loss: 0.1074\n",
      "Epoch 17/100\n",
      "\u001b[1m103/103\u001b[0m \u001b[32m━━━━━━━━━━━━━━━━━━━━\u001b[0m\u001b[37m\u001b[0m \u001b[1m0s\u001b[0m 3ms/step - accuracy: 0.9689 - loss: 0.1341 - val_accuracy: 0.9719 - val_loss: 0.1036\n",
      "Epoch 18/100\n",
      "\u001b[1m103/103\u001b[0m \u001b[32m━━━━━━━━━━━━━━━━━━━━\u001b[0m\u001b[37m\u001b[0m \u001b[1m0s\u001b[0m 3ms/step - accuracy: 0.9653 - loss: 0.1337 - val_accuracy: 0.9731 - val_loss: 0.1003\n",
      "Epoch 19/100\n",
      "\u001b[1m103/103\u001b[0m \u001b[32m━━━━━━━━━━━━━━━━━━━━\u001b[0m\u001b[37m\u001b[0m \u001b[1m0s\u001b[0m 3ms/step - accuracy: 0.9644 - loss: 0.1457 - val_accuracy: 0.9756 - val_loss: 0.0958\n",
      "Epoch 20/100\n",
      "\u001b[1m103/103\u001b[0m \u001b[32m━━━━━━━━━━━━━━━━━━━━\u001b[0m\u001b[37m\u001b[0m \u001b[1m0s\u001b[0m 3ms/step - accuracy: 0.9648 - loss: 0.1361 - val_accuracy: 0.9743 - val_loss: 0.0916\n",
      "Epoch 21/100\n",
      "\u001b[1m103/103\u001b[0m \u001b[32m━━━━━━━━━━━━━━━━━━━━\u001b[0m\u001b[37m\u001b[0m \u001b[1m0s\u001b[0m 3ms/step - accuracy: 0.9699 - loss: 0.1173 - val_accuracy: 0.9756 - val_loss: 0.0883\n",
      "Epoch 22/100\n",
      "\u001b[1m103/103\u001b[0m \u001b[32m━━━━━━━━━━━━━━━━━━━━\u001b[0m\u001b[37m\u001b[0m \u001b[1m0s\u001b[0m 3ms/step - accuracy: 0.9712 - loss: 0.1208 - val_accuracy: 0.9756 - val_loss: 0.0866\n",
      "Epoch 23/100\n",
      "\u001b[1m103/103\u001b[0m \u001b[32m━━━━━━━━━━━━━━━━━━━━\u001b[0m\u001b[37m\u001b[0m \u001b[1m0s\u001b[0m 3ms/step - accuracy: 0.9738 - loss: 0.1053 - val_accuracy: 0.9768 - val_loss: 0.0851\n",
      "Epoch 24/100\n",
      "\u001b[1m103/103\u001b[0m \u001b[32m━━━━━━━━━━━━━━━━━━━━\u001b[0m\u001b[37m\u001b[0m \u001b[1m0s\u001b[0m 3ms/step - accuracy: 0.9700 - loss: 0.1024 - val_accuracy: 0.9768 - val_loss: 0.0821\n",
      "Epoch 25/100\n",
      "\u001b[1m103/103\u001b[0m \u001b[32m━━━━━━━━━━━━━━━━━━━━\u001b[0m\u001b[37m\u001b[0m \u001b[1m0s\u001b[0m 3ms/step - accuracy: 0.9699 - loss: 0.1111 - val_accuracy: 0.9756 - val_loss: 0.0790\n",
      "Epoch 26/100\n",
      "\u001b[1m103/103\u001b[0m \u001b[32m━━━━━━━━━━━━━━━━━━━━\u001b[0m\u001b[37m\u001b[0m \u001b[1m0s\u001b[0m 3ms/step - accuracy: 0.9773 - loss: 0.0966 - val_accuracy: 0.9792 - val_loss: 0.0765\n",
      "Epoch 27/100\n",
      "\u001b[1m103/103\u001b[0m \u001b[32m━━━━━━━━━━━━━━━━━━━━\u001b[0m\u001b[37m\u001b[0m \u001b[1m0s\u001b[0m 3ms/step - accuracy: 0.9750 - loss: 0.1028 - val_accuracy: 0.9780 - val_loss: 0.0748\n",
      "Epoch 28/100\n",
      "\u001b[1m103/103\u001b[0m \u001b[32m━━━━━━━━━━━━━━━━━━━━\u001b[0m\u001b[37m\u001b[0m \u001b[1m0s\u001b[0m 3ms/step - accuracy: 0.9719 - loss: 0.0940 - val_accuracy: 0.9756 - val_loss: 0.0747\n",
      "Epoch 29/100\n",
      "\u001b[1m103/103\u001b[0m \u001b[32m━━━━━━━━━━━━━━━━━━━━\u001b[0m\u001b[37m\u001b[0m \u001b[1m0s\u001b[0m 3ms/step - accuracy: 0.9747 - loss: 0.0901 - val_accuracy: 0.9768 - val_loss: 0.0714\n",
      "Epoch 30/100\n",
      "\u001b[1m103/103\u001b[0m \u001b[32m━━━━━━━━━━━━━━━━━━━━\u001b[0m\u001b[37m\u001b[0m \u001b[1m0s\u001b[0m 3ms/step - accuracy: 0.9698 - loss: 0.0936 - val_accuracy: 0.9780 - val_loss: 0.0702\n",
      "Epoch 31/100\n",
      "\u001b[1m103/103\u001b[0m \u001b[32m━━━━━━━━━━━━━━━━━━━━\u001b[0m\u001b[37m\u001b[0m \u001b[1m0s\u001b[0m 3ms/step - accuracy: 0.9827 - loss: 0.0744 - val_accuracy: 0.9780 - val_loss: 0.0696\n",
      "\n",
      "Validation accuracy: 97.92%\n",
      "\u001b[1m26/26\u001b[0m \u001b[32m━━━━━━━━━━━━━━━━━━━━\u001b[0m\u001b[37m\u001b[0m \u001b[1m0s\u001b[0m 3ms/step\n",
      "\n",
      "Classification report on validation set:\n",
      "              precision    recall  f1-score   support\n",
      "\n",
      "           0     0.9524    1.0000    0.9756        20\n",
      "           1     1.0000    1.0000    1.0000        16\n",
      "           2     1.0000    0.9800    0.9899        50\n",
      "           3     0.9714    1.0000    0.9855        34\n",
      "           4     1.0000    0.9767    0.9882        43\n",
      "           5     0.9722    1.0000    0.9859        70\n",
      "           6     1.0000    1.0000    1.0000        62\n",
      "           7     1.0000    1.0000    1.0000       102\n",
      "           8     1.0000    0.9375    0.9677        16\n",
      "           9     1.0000    0.3333    0.5000         6\n",
      "          10     0.9808    1.0000    0.9903       102\n",
      "          11     1.0000    0.8627    0.9263        51\n",
      "          12     1.0000    0.9500    0.9744        20\n",
      "          13     0.9498    0.9905    0.9697       210\n",
      "          14     1.0000    1.0000    1.0000        16\n",
      "\n",
      "    accuracy                         0.9792       818\n",
      "   macro avg     0.9884    0.9354    0.9502       818\n",
      "weighted avg     0.9800    0.9792    0.9779       818\n",
      "\n"
     ]
    }
   ],
   "source": [
    "import tensorflow as tf\n",
    "from tensorflow.keras import layers, Sequential\n",
    "\n",
    "input_dim   = Z_tr.shape[1]\n",
    "num_classes = len(np.unique(y_tr))\n",
    "\n",
    "clf = Sequential([\n",
    "    layers.Input(shape=(input_dim,)),\n",
    "    layers.Dense(64, activation='relu'),\n",
    "    layers.Dropout(0.3),\n",
    "    layers.Dense(num_classes, activation='softmax')\n",
    "], name='latent_mlp')\n",
    "\n",
    "clf.compile(\n",
    "    optimizer='adam',\n",
    "    loss='sparse_categorical_crossentropy',\n",
    "    metrics=['accuracy']\n",
    ")\n",
    "\n",
    "history = clf.fit(\n",
    "    Z_tr, y_tr,\n",
    "    validation_data=(Z_val, y_val),\n",
    "    batch_size=32,\n",
    "    epochs=100,\n",
    "    callbacks=[\n",
    "        tf.keras.callbacks.EarlyStopping(\n",
    "            monitor='val_accuracy',\n",
    "            patience=5,\n",
    "            restore_best_weights=True\n",
    "        )\n",
    "    ]\n",
    ")\n",
    "\n",
    "# 4) Evaluate on validation splits\n",
    "val_loss, val_acc = clf.evaluate(Z_val, y_val, verbose=0)\n",
    "print(f\"\\nValidation accuracy: {val_acc:.2%}\")\n",
    "\n",
    "from sklearn.metrics import classification_report\n",
    "# 5) Detailed classification report\n",
    "y_pred = np.argmax(clf.predict(Z_val), axis=1)\n",
    "print(\"\\nClassification report on validation set:\")\n",
    "print(classification_report(y_val, y_pred, digits=4))\n"
   ]
  },
  {
   "cell_type": "markdown",
   "id": "b528ede8",
   "metadata": {},
   "source": [
    "### test data"
   ]
  },
  {
   "cell_type": "code",
   "execution_count": 11,
   "id": "888079e4",
   "metadata": {},
   "outputs": [
    {
     "name": "stdout",
     "output_type": "stream",
     "text": [
      "Rebuilt label_counts and label_to_idx:\n",
      "  CBL_interacting_protein_kinases                    → 0\n",
      "  L_type_lectin_kinases                              → 1\n",
      "  aurora_kinases                                     → 2\n",
      "  cAMP_dependent_protein_kinases                     → 3\n",
      "  calcium_calmodulin_dependent_kinases               → 4\n",
      "  calcium_dependent_kinases                          → 5\n",
      "  casein_kinases                                     → 6\n",
      "  cyclin_dependent_kinases                           → 7\n",
      "  dual_specificity_protein_kinases                   → 8\n",
      "  eukaryotic_translation_initiation_factor_kinases   → 9\n",
      "  mitogen_activated_kinases                          → 10\n",
      "  protein_kinases                                    → 11\n",
      "  ribosomal_protein_S6_kinases                       → 12\n",
      "  serine_threonine_kinases                           → 13\n",
      "  tyrosine_kinases                                   → 14\n",
      "\n",
      "After filtering: 1757 valid sequences, y_test shape: (1757,)\n",
      "X_test shape: (1757, 263, 21)\n"
     ]
    }
   ],
   "source": [
    "import os\n",
    "import numpy as np\n",
    "from sklearn.metrics import accuracy_score, confusion_matrix, classification_report\n",
    "\n",
    "# --- 1) Rebuild label_counts & label_to_idx from your FASTA folder ---\n",
    "data_dir = \"hmm_20\"\n",
    "suffix   = \"_noInserts_noGaps_noDuplicates\"\n",
    "\n",
    "label_counts = {}\n",
    "all_seqs     = []\n",
    "all_labels   = []\n",
    "\n",
    "for fname in os.listdir(data_dir):\n",
    "    if not fname.lower().endswith('.fasta'):\n",
    "        continue\n",
    "    base = os.path.splitext(fname)[0]\n",
    "    label = base[:-len(suffix)] if base.endswith(suffix) else base\n",
    "\n",
    "    path = os.path.join(data_dir, fname)\n",
    "    seqs = read_fasta(path)                 # your FASTA reader\n",
    "    label_counts[label] = len(seqs)\n",
    "    all_seqs.extend(seqs)\n",
    "    all_labels.extend([label] * len(seqs))\n",
    "\n",
    "# Now create a consistent sorted mapping\n",
    "unique_labels = sorted(label_counts.keys())\n",
    "label_to_idx  = {lbl: i for i, lbl in enumerate(unique_labels)}\n",
    "\n",
    "print(\"Rebuilt label_counts and label_to_idx:\")\n",
    "for lbl, idx in label_to_idx.items():\n",
    "    print(f\"  {lbl:50s} → {idx}\")\n",
    "\n",
    "# --- 2) Filter out invalid sequences ---\n",
    "amino_acids = '-ACDEFGHIKLMNPQRSTVWY'\n",
    "aa_to_idx   = {aa: i for i, aa in enumerate(amino_acids)}\n",
    "\n",
    "valid_idxs = [i for i, seq in enumerate(all_seqs)\n",
    "              if all(ch in aa_to_idx for ch in seq)]\n",
    "\n",
    "filtered_seqs   = [all_seqs[i]       for i in valid_idxs]\n",
    "filtered_labels = [all_labels[i]     for i in valid_idxs]\n",
    "\n",
    "# Convert labels to integers\n",
    "y_test = np.array([label_to_idx[lbl] for lbl in filtered_labels], dtype=np.int32)\n",
    "print(f\"\\nAfter filtering: {len(filtered_seqs)} valid sequences, y_test shape: {y_test.shape}\")\n",
    "\n",
    "# --- 3) One-hot encode into shape (N, 263, 21) ---\n",
    "X_test = encode_sequences_one_hot_with_gap(filtered_seqs, max_length=263)\n",
    "print(f\"X_test shape: {X_test.shape}\")"
   ]
  },
  {
   "cell_type": "code",
   "execution_count": 12,
   "id": "c6158bee",
   "metadata": {},
   "outputs": [
    {
     "name": "stdout",
     "output_type": "stream",
     "text": [
      "\u001b[1m28/28\u001b[0m \u001b[32m━━━━━━━━━━━━━━━━━━━━\u001b[0m\u001b[37m\u001b[0m \u001b[1m0s\u001b[0m 4ms/step\n",
      "Z_test shape: (1757, 32)\n",
      "\u001b[1m28/28\u001b[0m \u001b[32m━━━━━━━━━━━━━━━━━━━━\u001b[0m\u001b[37m\u001b[0m \u001b[1m0s\u001b[0m 2ms/step \n",
      "\n",
      "Test accuracy: 82.13%\n",
      "\n",
      "Confusion matrix:\n",
      "[[ 29   0   0   0   0   0   0   0   0   0   0   0   0   2   0]\n",
      " [  0  12   0   0   0   0   0   0   0   0   0   0   0   0   0]\n",
      " [  0   0  31   0   0   0   0   0   0   0   0   0   0   1   0]\n",
      " [  0   0   0  26   0   0   0   0   0   0   0   1   0   0   0]\n",
      " [  0   0   0   0  30   0   0   0   0   0   0   0   0   2   0]\n",
      " [  0   0   0   0   0  78   0   0   0   0   0   1   0   1   0]\n",
      " [  0   0   0   0   0   0  30   0   0   0   0   0   0   1   0]\n",
      " [  0   0   0   0   0   0   0 170   0   0   2   0   0   0   0]\n",
      " [  0   0   0   0   0   0   0   0  15   0   1   0   0   1   0]\n",
      " [  0   0   0   0   0   0   0   0   0   6   0   0   0   2   0]\n",
      " [  0   0   0   0   0   0   0   7   1   0 207   0   0  39   0]\n",
      " [  0   0   0   0   0   0   1   4   0   0   2  49   0  21   1]\n",
      " [  0   0   0   0   0   0   0   0   0   0   0   1  21   1   0]\n",
      " [ 47   0   2  13  13   5   8  53  13   0  21  34  10 724   1]\n",
      " [  0   0   0   0   0   0   0   0   1   0   0   0   0   0  15]]\n",
      "\n",
      "Classification report:\n",
      "              precision    recall  f1-score   support\n",
      "\n",
      "           0     0.3816    0.9355    0.5421        31\n",
      "           1     1.0000    1.0000    1.0000        12\n",
      "           2     0.9394    0.9688    0.9538        32\n",
      "           3     0.6667    0.9630    0.7879        27\n",
      "           4     0.6977    0.9375    0.8000        32\n",
      "           5     0.9398    0.9750    0.9571        80\n",
      "           6     0.7692    0.9677    0.8571        31\n",
      "           7     0.7265    0.9884    0.8374       172\n",
      "           8     0.5000    0.8824    0.6383        17\n",
      "           9     1.0000    0.7500    0.8571         8\n",
      "          10     0.8884    0.8150    0.8501       254\n",
      "          11     0.5698    0.6282    0.5976        78\n",
      "          12     0.6774    0.9130    0.7778        23\n",
      "          13     0.9107    0.7669    0.8327       944\n",
      "          14     0.8824    0.9375    0.9091        16\n",
      "\n",
      "    accuracy                         0.8213      1757\n",
      "   macro avg     0.7700    0.8953    0.8132      1757\n",
      "weighted avg     0.8504    0.8213    0.8265      1757\n",
      "\n"
     ]
    }
   ],
   "source": [
    "# --- 4) Embed via your encoder ---\n",
    "# If you have a standalone encoder model:\n",
    "Z_test = encoder.predict(X_test, batch_size=64, verbose=1)\n",
    "# Or, using vae.encode:\n",
    "# X_flat = X_test.reshape(X_test.shape[0], -1)\n",
    "# z_mean, _, _ = vae.encode(X_flat)\n",
    "# Z_test = z_mean.numpy()\n",
    "\n",
    "print(f\"Z_test shape: {Z_test.shape}\")\n",
    "\n",
    "# --- 5) Predict & evaluate using your trained classifier ---\n",
    "y_pred = np.argmax(clf.predict(Z_test, batch_size=64, verbose=1), axis=1)\n",
    "\n",
    "acc = accuracy_score(y_test, y_pred)\n",
    "print(f\"\\nTest accuracy: {acc:.2%}\")\n",
    "\n",
    "print(\"\\nConfusion matrix:\")\n",
    "print(confusion_matrix(y_test, y_pred))\n",
    "\n",
    "print(\"\\nClassification report:\")\n",
    "print(classification_report(y_test, y_pred, digits=4))\n"
   ]
  },
  {
   "cell_type": "code",
   "execution_count": 25,
   "id": "a5d97dd6",
   "metadata": {},
   "outputs": [
    {
     "data": {
      "image/png": "[encoded data removed]",
      "text/plain": [
       "<Figure size 1200x1200 with 2 Axes>"
      ]
     },
     "metadata": {},
     "output_type": "display_data"
    }
   ],
   "source": [
    "import seaborn as sns\n",
    "# 2) Compute confusion matrix\n",
    "cm = confusion_matrix(y_test, y_pred)\n",
    "\n",
    "# 2) Wrap in a DataFrame for nicer indexing\n",
    "df_cm = pd.DataFrame(cm,\n",
    "                     index=unique_labels,\n",
    "                     columns=unique_labels)\n",
    "\n",
    "# 3) Plot\n",
    "plt.figure(figsize=(12, 12))\n",
    "sns.heatmap(\n",
    "    df_cm,\n",
    "    annot=True,\n",
    "    fmt='d',\n",
    "    cmap='Blues',\n",
    "    cbar=True,\n",
    "    linewidths=0.8,\n",
    "    linecolor='black',\n",
    "    xticklabels=unique_labels,\n",
    "    yticklabels=unique_labels\n",
    ")\n",
    "plt.xlabel('Predicted Label', fontsize=14)\n",
    "plt.ylabel('True Label', fontsize=14)\n",
    "plt.title('Confusion Matrix (Counts)', fontsize=16)\n",
    "plt.xticks(rotation=90, fontsize=10)\n",
    "plt.yticks(rotation=0, fontsize=10)\n",
    "plt.tight_layout()\n",
    "plt.show()\n"
   ]
  },
  {
   "cell_type": "markdown",
   "id": "c56a1f49",
   "metadata": {},
   "source": [
    "#### save the model & how to load"
   ]
  },
  {
   "cell_type": "code",
   "execution_count": 13,
   "id": "c4ba5e0a",
   "metadata": {},
   "outputs": [],
   "source": [
    "# this writes a directory “encoder_3d_to_32” in TensorFlow’s SavedModel format\n",
    "encoder.save('vae_mlp_3 models/encoder_3d_to_32.keras')\n",
    "clf.save('vae_mlp_3 models/latent_mlp_classifier.keras')\n",
    "vae.save('vae_mlp_3 models/protein_vae_model.keras')"
   ]
  },
  {
   "cell_type": "code",
   "execution_count": null,
   "id": "ffa03ae0",
   "metadata": {},
   "outputs": [],
   "source": [
    "import tensorflow as tf\n",
    "from tensorflow.keras.models import load_model\n",
    "# from your_module import Sampling, Encoder, Decoder, VAE  # if you need them\n",
    "\n",
    "# 1) Re-load encoder\n",
    "encoder = load_model(\n",
    "    'vae_mlp_2 models/encoder_3d_to_32.keras',\n",
    "    custom_objects={'Sampling': Sampling,\n",
    "                    'Encoder': Encoder}\n",
    ")\n",
    "\n",
    "# 2) Re-load classifier\n",
    "clf = load_model('vae_mlp_2 models/latent_mlp_classifier.keras')\n",
    "\n",
    "\"\"\"\n",
    "# 3) (Optional) Re-load full VAE\n",
    "vae = load_model(\n",
    "    'vae_mlp_2 models/protein_vae_model.keras',\n",
    "    custom_objects={'Sampling': Sampling, 'Encoder': Encoder, 'Decoder': Decoder, 'VAE': VAE}\n",
    ")\n",
    "\"\"\""
   ]
  },
  {
   "cell_type": "markdown",
   "id": "7228d75b",
   "metadata": {},
   "source": [
    "### AGAIN, pseudo labeling to augment labled data"
   ]
  },
  {
   "cell_type": "code",
   "execution_count": 27,
   "id": "70968bb7",
   "metadata": {},
   "outputs": [],
   "source": [
    "seq_list = read_fasta('PF00069_noinserts_gaps_noduplicates.fasta')"
   ]
  },
  {
   "cell_type": "code",
   "execution_count": 28,
   "id": "6088018e",
   "metadata": {},
   "outputs": [],
   "source": [
    "batch1 = seq_list[:100000]"
   ]
  },
  {
   "cell_type": "code",
   "execution_count": 42,
   "id": "22cc03f1",
   "metadata": {},
   "outputs": [],
   "source": [
    "batch2 = seq_list[100000:200000]"
   ]
  },
  {
   "cell_type": "code",
   "execution_count": 46,
   "id": "f72435a5",
   "metadata": {},
   "outputs": [],
   "source": [
    "batch3 = seq_list[200000:300000]"
   ]
  },
  {
   "cell_type": "code",
   "execution_count": 50,
   "id": "8da44f03",
   "metadata": {},
   "outputs": [],
   "source": [
    "batch4 = seq_list[300000:400000]"
   ]
  },
  {
   "cell_type": "code",
   "execution_count": 54,
   "id": "96fe44ab",
   "metadata": {},
   "outputs": [],
   "source": [
    "batch5 = seq_list[400000:500000]"
   ]
  },
  {
   "cell_type": "code",
   "execution_count": 29,
   "id": "01ffe44b",
   "metadata": {},
   "outputs": [],
   "source": [
    "X_unlab_onehot_1 = encode_sequences_one_hot_with_gap(batch1, max_length=None)"
   ]
  },
  {
   "cell_type": "code",
   "execution_count": 43,
   "id": "f52007ef",
   "metadata": {},
   "outputs": [],
   "source": [
    "X_unlab_onehot_2 = encode_sequences_one_hot_with_gap(batch2, max_length=None)"
   ]
  },
  {
   "cell_type": "code",
   "execution_count": 47,
   "id": "fa07e037",
   "metadata": {},
   "outputs": [],
   "source": [
    "X_unlab_onehot_3 = encode_sequences_one_hot_with_gap(batch3, max_length=None)"
   ]
  },
  {
   "cell_type": "code",
   "execution_count": 51,
   "id": "5327581f",
   "metadata": {},
   "outputs": [],
   "source": [
    "X_unlab_onehot_4 = encode_sequences_one_hot_with_gap(batch4, max_length=None)"
   ]
  },
  {
   "cell_type": "code",
   "execution_count": 55,
   "id": "debb7765",
   "metadata": {},
   "outputs": [],
   "source": [
    "X_unlab_onehot_5 = encode_sequences_one_hot_with_gap(batch5, max_length=None)"
   ]
  },
  {
   "cell_type": "code",
   "execution_count": 30,
   "id": "4e3af394",
   "metadata": {},
   "outputs": [
    {
     "data": {
      "text/plain": [
       "(99697, 263, 21)"
      ]
     },
     "execution_count": 30,
     "metadata": {},
     "output_type": "execute_result"
    }
   ],
   "source": [
    "X_unlab_onehot_1.shape"
   ]
  },
  {
   "cell_type": "code",
   "execution_count": 44,
   "id": "ee57b110",
   "metadata": {},
   "outputs": [
    {
     "data": {
      "text/plain": [
       "(99626, 263, 21)"
      ]
     },
     "execution_count": 44,
     "metadata": {},
     "output_type": "execute_result"
    }
   ],
   "source": [
    "X_unlab_onehot_2.shape"
   ]
  },
  {
   "cell_type": "code",
   "execution_count": 48,
   "id": "bdc0cbfc",
   "metadata": {},
   "outputs": [
    {
     "data": {
      "text/plain": [
       "(99644, 263, 21)"
      ]
     },
     "execution_count": 48,
     "metadata": {},
     "output_type": "execute_result"
    }
   ],
   "source": [
    "X_unlab_onehot_3.shape"
   ]
  },
  {
   "cell_type": "code",
   "execution_count": 52,
   "id": "a923f8bd",
   "metadata": {},
   "outputs": [
    {
     "data": {
      "text/plain": [
       "(99616, 263, 21)"
      ]
     },
     "execution_count": 52,
     "metadata": {},
     "output_type": "execute_result"
    }
   ],
   "source": [
    "X_unlab_onehot_4.shape"
   ]
  },
  {
   "cell_type": "code",
   "execution_count": 56,
   "id": "dd221b12",
   "metadata": {},
   "outputs": [
    {
     "data": {
      "text/plain": [
       "(99593, 263, 21)"
      ]
     },
     "execution_count": 56,
     "metadata": {},
     "output_type": "execute_result"
    }
   ],
   "source": [
    "X_unlab_onehot_5.shape"
   ]
  },
  {
   "cell_type": "code",
   "execution_count": 39,
   "id": "ff80f076",
   "metadata": {},
   "outputs": [],
   "source": [
    "# creating a dict for saving\n",
    "from collections import defaultdict\n",
    "\n",
    "# --- BEGIN GLOBALS: run once before your first chunk ---\n",
    "# Number of classes in your classifier\n",
    "num_classes = clf.output_shape[-1]\n",
    "\n",
    "# This dict will hold lists of one-hot arrays for each class\n",
    "# e.g. pseudo_buckets[5] = [ array(chunk1_class5), array(chunk2_class5), ... ]\n",
    "pseudo_buckets = defaultdict(list)\n",
    "\n",
    "# (Optionally) one bucket for “uncertain” if you care\n",
    "uncertain_bucket = []\n",
    "\n",
    "# --- END GLOBALS ---"
   ]
  },
  {
   "cell_type": "code",
   "execution_count": 32,
   "id": "3abe9003",
   "metadata": {},
   "outputs": [],
   "source": [
    "# Now, for each new chunk of X_unlab_onehot you process, run this:\n",
    "\n",
    "def pseudo_label_and_bucket(X_unlab_onehot, encoder, clf,\n",
    "                            threshold=0.95):\n",
    "    \"\"\"\n",
    "    Pseudo-label one-hot batch, then append high-confidence examples\n",
    "    into the global pseudo_buckets dict.\n",
    "    \"\"\"\n",
    "    # 1) Embed to latent\n",
    "    Z = encoder.predict(X_unlab_onehot, batch_size=256, verbose=1)\n",
    "    # 2) Predict\n",
    "    probs      = clf.predict(Z, batch_size=256, verbose=1)\n",
    "    preds      = np.argmax(probs, axis=1)\n",
    "    confidences = probs.max(axis=1)\n",
    "    # 3) Mask high-confidence\n",
    "    mask_conf  = confidences >= threshold\n",
    "\n",
    "    # 4) Report coverage\n",
    "    coverage = mask_conf.mean() * 100\n",
    "    print(f\"Labeled {coverage:.1f}% of this chunk at ≥{threshold:.0%} confidence\")\n",
    "\n",
    "    # 5) Bucket per class\n",
    "    for cls in range(num_classes):\n",
    "        idxs = np.where((preds == cls) & mask_conf)[0]\n",
    "        if idxs.size:\n",
    "            # append the sub-array of one-hots for this class\n",
    "            pseudo_buckets[cls].append(X_unlab_onehot[idxs])\n",
    "    # 6) (Optional) store uncertain for later\n",
    "    uncertain_idxs = np.where(~mask_conf)[0]\n",
    "    if uncertain_idxs.size:\n",
    "        uncertain_bucket.append(X_unlab_onehot[uncertain_idxs])\n",
    "\n",
    "    # 7) Print per-class counts this chunk\n",
    "    counts = {cls: sum(arr.shape[0] for arr in pseudo_buckets[cls])\n",
    "              for cls in range(num_classes)}\n",
    "    print(\"Accumulated counts so far:\", counts)"
   ]
  },
  {
   "cell_type": "code",
   "execution_count": 41,
   "id": "947f2b6f",
   "metadata": {},
   "outputs": [
    {
     "name": "stdout",
     "output_type": "stream",
     "text": [
      "\u001b[1m390/390\u001b[0m \u001b[32m━━━━━━━━━━━━━━━━━━━━\u001b[0m\u001b[37m\u001b[0m \u001b[1m2s\u001b[0m 5ms/step\n",
      "\u001b[1m390/390\u001b[0m \u001b[32m━━━━━━━━━━━━━━━━━━━━\u001b[0m\u001b[37m\u001b[0m \u001b[1m0s\u001b[0m 1ms/step\n",
      "Labeled 22.5% of this chunk at ≥98% confidence\n",
      "Accumulated counts so far: {0: 72, 1: 130, 2: 50, 3: 216, 4: 571, 5: 386, 6: 325, 7: 2633, 8: 0, 9: 0, 10: 1251, 11: 157, 12: 19, 13: 16532, 14: 80}\n"
     ]
    }
   ],
   "source": [
    "# Example usage (run for your first 200K chunk):\n",
    "pseudo_label_and_bucket(X_unlab_onehot_1, encoder, clf, threshold=0.98)\n",
    "\n",
    "# --- Repeat pseudo_label_and_bucket(...) for each of your 4 chunks ---"
   ]
  },
  {
   "cell_type": "code",
   "execution_count": 45,
   "id": "f144fbf4",
   "metadata": {},
   "outputs": [
    {
     "name": "stdout",
     "output_type": "stream",
     "text": [
      "\u001b[1m390/390\u001b[0m \u001b[32m━━━━━━━━━━━━━━━━━━━━\u001b[0m\u001b[37m\u001b[0m \u001b[1m2s\u001b[0m 6ms/step\n",
      "\u001b[1m390/390\u001b[0m \u001b[32m━━━━━━━━━━━━━━━━━━━━\u001b[0m\u001b[37m\u001b[0m \u001b[1m0s\u001b[0m 1ms/step\n",
      "Labeled 21.7% of this chunk at ≥98% confidence\n",
      "Accumulated counts so far: {0: 130, 1: 273, 2: 91, 3: 382, 4: 973, 5: 727, 6: 654, 7: 5347, 8: 0, 9: 0, 10: 2353, 11: 294, 12: 37, 13: 32648, 14: 138}\n"
     ]
    }
   ],
   "source": [
    "pseudo_label_and_bucket(X_unlab_onehot_2, encoder, clf, threshold=0.98)"
   ]
  },
  {
   "cell_type": "code",
   "execution_count": 49,
   "id": "fed870c5",
   "metadata": {},
   "outputs": [
    {
     "name": "stdout",
     "output_type": "stream",
     "text": [
      "\u001b[1m390/390\u001b[0m \u001b[32m━━━━━━━━━━━━━━━━━━━━\u001b[0m\u001b[37m\u001b[0m \u001b[1m4s\u001b[0m 8ms/step\n",
      "\u001b[1m390/390\u001b[0m \u001b[32m━━━━━━━━━━━━━━━━━━━━\u001b[0m\u001b[37m\u001b[0m \u001b[1m1s\u001b[0m 2ms/step\n",
      "Labeled 21.0% of this chunk at ≥98% confidence\n",
      "Accumulated counts so far: {0: 185, 1: 410, 2: 129, 3: 512, 4: 1327, 5: 1091, 6: 952, 7: 8001, 8: 0, 9: 0, 10: 3306, 11: 407, 12: 52, 13: 48421, 14: 188}\n"
     ]
    }
   ],
   "source": [
    "pseudo_label_and_bucket(X_unlab_onehot_3, encoder, clf, threshold=0.98)"
   ]
  },
  {
   "cell_type": "code",
   "execution_count": 53,
   "id": "50efd5e9",
   "metadata": {},
   "outputs": [
    {
     "name": "stdout",
     "output_type": "stream",
     "text": [
      "\u001b[1m390/390\u001b[0m \u001b[32m━━━━━━━━━━━━━━━━━━━━\u001b[0m\u001b[37m\u001b[0m \u001b[1m2s\u001b[0m 6ms/step\n",
      "\u001b[1m390/390\u001b[0m \u001b[32m━━━━━━━━━━━━━━━━━━━━\u001b[0m\u001b[37m\u001b[0m \u001b[1m1s\u001b[0m 1ms/step\n",
      "Labeled 20.7% of this chunk at ≥98% confidence\n",
      "Accumulated counts so far: {0: 233, 1: 566, 2: 165, 3: 647, 4: 1646, 5: 1454, 6: 1204, 7: 10529, 8: 0, 9: 0, 10: 4206, 11: 498, 12: 63, 13: 64187, 14: 239}\n"
     ]
    }
   ],
   "source": [
    "pseudo_label_and_bucket(X_unlab_onehot_4, encoder, clf, threshold=0.98)"
   ]
  },
  {
   "cell_type": "code",
   "execution_count": 57,
   "id": "81ed023b",
   "metadata": {},
   "outputs": [
    {
     "name": "stdout",
     "output_type": "stream",
     "text": [
      "\u001b[1m390/390\u001b[0m \u001b[32m━━━━━━━━━━━━━━━━━━━━\u001b[0m\u001b[37m\u001b[0m \u001b[1m3s\u001b[0m 8ms/step\n",
      "\u001b[1m390/390\u001b[0m \u001b[32m━━━━━━━━━━━━━━━━━━━━\u001b[0m\u001b[37m\u001b[0m \u001b[1m1s\u001b[0m 2ms/step\n",
      "Labeled 20.7% of this chunk at ≥98% confidence\n",
      "Accumulated counts so far: {0: 275, 1: 750, 2: 194, 3: 743, 4: 1924, 5: 1823, 6: 1436, 7: 12945, 8: 0, 9: 0, 10: 5124, 11: 588, 12: 78, 13: 80092, 14: 297}\n"
     ]
    }
   ],
   "source": [
    "pseudo_label_and_bucket(X_unlab_onehot_5, encoder, clf, threshold=0.98)"
   ]
  },
  {
   "cell_type": "markdown",
   "id": "2e1215a1",
   "metadata": {},
   "source": [
    "alright thats enough"
   ]
  },
  {
   "cell_type": "code",
   "execution_count": 58,
   "id": "9799652e",
   "metadata": {},
   "outputs": [
    {
     "name": "stdout",
     "output_type": "stream",
     "text": [
      "Class  0: 275 sequences\n",
      "Class  1: 750 sequences\n",
      "Class  2: 194 sequences\n",
      "Class  3: 743 sequences\n",
      "Class  4: 1924 sequences\n",
      "Class  5: 1823 sequences\n",
      "Class  6: 1436 sequences\n",
      "Class  7: 12945 sequences\n",
      "Class  8: 0 sequences\n",
      "Class  9: 0 sequences\n",
      "Class 10: 5124 sequences\n",
      "Class 11: 588 sequences\n",
      "Class 12: 78 sequences\n",
      "Class 13: 80092 sequences\n",
      "Class 14: 297 sequences\n",
      "Uncertain: 391907 sequences\n"
     ]
    }
   ],
   "source": [
    "# Assuming pseudo_buckets is your dict: class_index → list of np.ndarrays\n",
    "\n",
    "for cls in sorted(pseudo_buckets.keys()):\n",
    "    # Sum the sizes of all arrays in the list for this class\n",
    "    total = sum(arr.shape[0] for arr in pseudo_buckets[cls])\n",
    "    print(f\"Class {cls:2d}: {total} sequences\")\n",
    "\n",
    "# (Optional) If you also kept uncertain examples in uncertain_bucket:\n",
    "uncertain_total = sum(arr.shape[0] for arr in uncertain_bucket)\n",
    "print(f\"Uncertain: {uncertain_total} sequences\")\n"
   ]
  },
  {
   "cell_type": "markdown",
   "id": "3344719c",
   "metadata": {},
   "source": [
    "now save them.\n",
    "im gonna save max 1000 seq per"
   ]
  },
  {
   "cell_type": "code",
   "execution_count": 60,
   "id": "982787d1",
   "metadata": {},
   "outputs": [
    {
     "name": "stdout",
     "output_type": "stream",
     "text": [
      "Saved class  0 →    275 sequences in vae_mlp_3 models/pseudo_per_class\\class_0.npz\n",
      "Saved class  1 →    750 sequences in vae_mlp_3 models/pseudo_per_class\\class_1.npz\n",
      "Saved class  2 →    194 sequences in vae_mlp_3 models/pseudo_per_class\\class_2.npz\n",
      "Saved class  3 →    743 sequences in vae_mlp_3 models/pseudo_per_class\\class_3.npz\n",
      "Saved class  4 →   1000 sequences in vae_mlp_3 models/pseudo_per_class\\class_4.npz\n",
      "Saved class  5 →   1000 sequences in vae_mlp_3 models/pseudo_per_class\\class_5.npz\n",
      "Saved class  6 →   1000 sequences in vae_mlp_3 models/pseudo_per_class\\class_6.npz\n",
      "Saved class  7 →   1000 sequences in vae_mlp_3 models/pseudo_per_class\\class_7.npz\n",
      "Saved class 10 →   1000 sequences in vae_mlp_3 models/pseudo_per_class\\class_10.npz\n",
      "Saved class 11 →    588 sequences in vae_mlp_3 models/pseudo_per_class\\class_11.npz\n",
      "Saved class 12 →     78 sequences in vae_mlp_3 models/pseudo_per_class\\class_12.npz\n",
      "Saved class 13 →   1000 sequences in vae_mlp_3 models/pseudo_per_class\\class_13.npz\n",
      "Saved class 14 →    297 sequences in vae_mlp_3 models/pseudo_per_class\\class_14.npz\n",
      "Saved class  8 →      0 sequences in vae_mlp_3 models/pseudo_per_class\\class_8.npz\n",
      "Saved class  9 →      0 sequences in vae_mlp_3 models/pseudo_per_class\\class_9.npz\n"
     ]
    }
   ],
   "source": [
    "import os\n",
    "import numpy as np\n",
    "\n",
    "# Directory to hold per-class files\n",
    "save_dir = 'vae_mlp_3 models/pseudo_per_class'\n",
    "os.makedirs(save_dir, exist_ok=True)\n",
    "\n",
    "# 1) Save each numeric class with a max of 1000 sequences\n",
    "for cls, arr_list in pseudo_buckets.items():\n",
    "    # Concatenate all arrays (or make empty if none)\n",
    "    if arr_list:\n",
    "        X_cls = np.concatenate(arr_list, axis=0)   # (N_cls, 263,21)\n",
    "    else:\n",
    "        X_cls = np.empty((0, 263, 21), dtype=np.float32)\n",
    "\n",
    "    # Apply universal cap at 1000\n",
    "    n_total = X_cls.shape[0]\n",
    "    if n_total > 1000:\n",
    "        idxs = np.random.choice(n_total, size=1000, replace=False)\n",
    "        X_save = X_cls[idxs]\n",
    "    else:\n",
    "        X_save = X_cls\n",
    "\n",
    "    # Save out\n",
    "    fname = os.path.join(save_dir, f'class_{cls}.npz')\n",
    "    np.savez_compressed(fname, X=X_save)\n",
    "    print(f\"Saved class {cls:2d} → {X_save.shape[0]:6d} sequences in {fname}\")\n",
    "\n"
   ]
  },
  {
   "cell_type": "markdown",
   "id": "4e76eddc",
   "metadata": {},
   "source": [
    "#### i will not generte new data, i will copy the generated seq from previous model\n",
    "my goal is to augment to 1000 per class"
   ]
  },
  {
   "cell_type": "code",
   "execution_count": 69,
   "id": "3e8ed0ea",
   "metadata": {},
   "outputs": [
    {
     "name": "stdout",
     "output_type": "stream",
     "text": [
      "Loading pseudo-labeled data from vae_mlp_3 models/pseudo_per_class\\class_14.npz …\n",
      " → Found 297 total pseudo-labeled sequences\n",
      " → Selected first 297 pseudo sequences\n",
      "\n",
      "Loading synthetic data from vae_mlp_3 models/synthetic_per_class\\class_14_synthetic_80.npz …\n",
      " → Found 80 synthetic sequences\n",
      "\n",
      "Shapes match. Ready to concatenate.\n",
      " → Combined dataset shape: (377, 263, 21) (297 pseudo + 80 synth)\n",
      "\n",
      "Saving combined data to vae_mlp_3 models/synthetic_plus_pseudo\\class_14.npz …\n",
      "Done!\n",
      "\n",
      "Summary:\n",
      "  Pseudo-labeled used : 297\n",
      "  Synthetic used      : 80\n",
      "  Total combined      : 377\n"
     ]
    }
   ],
   "source": [
    "import os\n",
    "import numpy as np\n",
    "\n",
    "name_n      = 'class_14'            # base name of the pseudo file: class_0.npz\n",
    "N_pseudo    = 297               # how many pseudo-labeled seqs to take\n",
    "name_p       = 'class_14_synthetic_80'  # base name of the synthetic file: class_0_synthetic_5000.npz\n",
    "# --- User parameters ---\n",
    "dir_n       = 'vae_mlp_3 models/pseudo_per_class'\n",
    "dir_p       = 'vae_mlp_3 models/synthetic_per_class'\n",
    "dir_q       = 'vae_mlp_3 models/synthetic_plus_pseudo'\n",
    "out_name_q  = f'{name_n}.npz'\n",
    "\n",
    "# 1) Load first N_pseudo from the pseudo-labeled pool\n",
    "pseudo_path = os.path.join(dir_n, name_n + '.npz')\n",
    "print(f\"Loading pseudo-labeled data from {pseudo_path} …\")\n",
    "pseudo_data = np.load(pseudo_path)\n",
    "# key might be 'X' or 'arr_0'\n",
    "X_pseudo_all = pseudo_data.get('X', pseudo_data.get('arr_0'))\n",
    "print(f\" → Found {X_pseudo_all.shape[0]} total pseudo-labeled sequences\")\n",
    "\n",
    "# take only the first N_pseudo (or all if fewer)\n",
    "X_pseudo = X_pseudo_all[:N_pseudo]\n",
    "print(f\" → Selected first {X_pseudo.shape[0]} pseudo sequences\")\n",
    "\n",
    "# 2) Load all synthetic sequences for that class\n",
    "synth_path = os.path.join(dir_p, name_p + '.npz')\n",
    "print(f\"\\nLoading synthetic data from {synth_path} …\")\n",
    "synth_data = np.load(synth_path)\n",
    "X_synth    = synth_data.get('X_synth', synth_data.get('X', synth_data.get('arr_0')))\n",
    "print(f\" → Found {X_synth.shape[0]} synthetic sequences\")\n",
    "\n",
    "# 3) Verify shapes match on (L, alphabet)\n",
    "assert X_pseudo.shape[1:] == X_synth.shape[1:], (\n",
    "    f\"Shape mismatch: pseudo {X_pseudo.shape[1:]} vs synth {X_synth.shape[1:]}\"\n",
    ")\n",
    "print(\"\\nShapes match. Ready to concatenate.\")\n",
    "\n",
    "# 4) Concatenate\n",
    "X_combined = np.concatenate([X_pseudo, X_synth], axis=0)\n",
    "print(f\" → Combined dataset shape: {X_combined.shape} \"\n",
    "      f\"({X_pseudo.shape[0]} pseudo + {X_synth.shape[0]} synth)\")\n",
    "\n",
    "# 5) Save to output .npz\n",
    "os.makedirs(dir_q, exist_ok=True)\n",
    "out_path = os.path.join(dir_q, out_name_q)\n",
    "print(f\"\\nSaving combined data to {out_path} …\")\n",
    "np.savez_compressed(out_path, X=X_combined)\n",
    "print(\"Done!\")\n",
    "\n",
    "# Final summary\n",
    "print(\"\\nSummary:\")\n",
    "print(f\"  Pseudo-labeled used : {X_pseudo.shape[0]}\")\n",
    "print(f\"  Synthetic used      : {X_synth.shape[0]}\")\n",
    "print(f\"  Total combined      : {X_combined.shape[0]}\")\n"
   ]
  },
  {
   "cell_type": "code",
   "execution_count": null,
   "id": "fba12e83",
   "metadata": {},
   "outputs": [],
   "source": []
  },
  {
   "cell_type": "code",
   "execution_count": null,
   "id": "becce457",
   "metadata": {},
   "outputs": [],
   "source": []
  },
  {
   "cell_type": "code",
   "execution_count": null,
   "id": "9c0f188d",
   "metadata": {},
   "outputs": [],
   "source": []
  },
  {
   "cell_type": "code",
   "execution_count": 3,
   "id": "8e4b3fd8",
   "metadata": {},
   "outputs": [
    {
     "name": "stdout",
     "output_type": "stream",
     "text": [
      "Exported 1134 synthetic sequences to vae_mlp_2 models/synthetic_per_class\\all_synthetic_sequences.fasta\n"
     ]
    }
   ],
   "source": [
    "import os\n",
    "import numpy as np\n",
    "\n",
    "# User parameters\n",
    "dir_synth = 'vae_mlp_2 models/synthetic_per_class'  # directory with synthetic .npz files\n",
    "out_fasta = os.path.join(dir_synth, 'all_synthetic_sequences.fasta')\n",
    "\n",
    "# Amino acid mapping (index to character)\n",
    "amino_acids = '-ACDEFGHIKLMNPQRSTVWY'\n",
    "\n",
    "# 1) Collect all one-hot arrays from .npz files\n",
    "sequences = []\n",
    "for fname in os.listdir(dir_synth):\n",
    "    if not fname.endswith('.npz'):\n",
    "        continue\n",
    "    path = os.path.join(dir_synth, fname)\n",
    "    data = np.load(path)\n",
    "    # handle possible keys\n",
    "    X = data.get('X_synth', data.get('X', data.get('arr_0')))\n",
    "    sequences.append(X)\n",
    "\n",
    "# 2) Concatenate into one big array\n",
    "if sequences:\n",
    "    X_all = np.concatenate(sequences, axis=0)\n",
    "else:\n",
    "    raise ValueError(\"No synthetic .npz files found in directory\")\n",
    "\n",
    "# 3) Convert one-hot to amino-acid strings and save FASTA\n",
    "N, L, A = X_all.shape\n",
    "with open(out_fasta, 'w') as f:\n",
    "    for i in range(N):\n",
    "        aa_idxs = np.argmax(X_all[i], axis=1)\n",
    "        seq = ''.join(amino_acids[idx] for idx in aa_idxs)\n",
    "        f.write(f\">synth_{i}\\n{seq}\\n\")\n",
    "\n",
    "print(f\"Exported {N} synthetic sequences to {out_fasta}\")\n"
   ]
  }
 ],
 "metadata": {
  "kernelspec": {
   "display_name": "vae",
   "language": "python",
   "name": "python3"
  },
  "language_info": {
   "codemirror_mode": {
    "name": "ipython",
    "version": 3
   },
   "file_extension": ".py",
   "mimetype": "text/x-python",
   "name": "python",
   "nbconvert_exporter": "python",
   "pygments_lexer": "ipython3",
   "version": "3.10.16"
  }
 },
 "nbformat": 4,
 "nbformat_minor": 5
}
