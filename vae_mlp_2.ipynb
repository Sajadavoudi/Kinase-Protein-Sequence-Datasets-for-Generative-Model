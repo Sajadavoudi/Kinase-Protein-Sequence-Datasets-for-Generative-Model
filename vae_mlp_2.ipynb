{
 "cells": [
  {
   "cell_type": "code",
   "execution_count": 1,
   "id": "061c2109",
   "metadata": {},
   "outputs": [],
   "source": [
    "import numpy as np\n",
    "import random\n",
    "import tensorflow as tf\n",
    "from tensorflow.keras import layers, Model\n",
    "from tensorflow.keras import backend as K\n",
    "from sklearn.model_selection import train_test_split\n",
    "from tensorflow.keras.callbacks import EarlyStopping, ModelCheckpoint\n",
    "import matplotlib.pyplot as plt\n",
    "from sklearn.decomposition import PCA\n",
    "from sklearn.cluster import KMeans\n",
    "from scipy.spatial import ConvexHull\n",
    "import pandas as pd\n",
    "from tensorflow import keras\n",
    "from sklearn.manifold import TSNE\n",
    "import os\n",
    "from collections import Counter"
   ]
  },
  {
   "cell_type": "code",
   "execution_count": null,
   "id": "9bc3624d",
   "metadata": {},
   "outputs": [],
   "source": []
  },
  {
   "cell_type": "markdown",
   "id": "2d185037",
   "metadata": {},
   "source": [
    "#### read fasta stuff"
   ]
  },
  {
   "cell_type": "code",
   "execution_count": 2,
   "id": "7a90563b",
   "metadata": {},
   "outputs": [],
   "source": [
    "def read_fasta(input_f):\n",
    "    sequences = []\n",
    "    current_seq = \"\"\n",
    "    with open(input_f, 'r') as f:\n",
    "        for line in f:\n",
    "            line = line.strip()\n",
    "            if line.startswith('>'):\n",
    "                if current_seq:\n",
    "                    sequences.append(current_seq)\n",
    "                    current_seq = \"\"\n",
    "            else:\n",
    "                current_seq += line\n",
    "        if current_seq:\n",
    "            sequences.append(current_seq)\n",
    "    return sequences\n",
    "\n",
    "def select_random_sequences(sequences, num_samples=10000):\n",
    "    if len(sequences) < num_samples :\n",
    "        raise ValueError(\"The number of requested sequences exceeds the initial list size.\")\n",
    "\n",
    "    return random.sample(sequences, num_samples)\n",
    "\n",
    "\n",
    "def encode_sequences_one_hot_with_gap(sequences, max_length=None) :\n",
    "\n",
    "    amino_acids = '-ACDEFGHIKLMNPQRSTVWY'\n",
    "    aa_to_idx = {aa: idx for idx, aa in enumerate(amino_acids)}\n",
    "    valid_sequences = [seq for seq in sequences if all(aa in aa_to_idx for aa in seq)]\n",
    "\n",
    "    if not valid_sequences :  # Return empty array if no valid sequences remain\n",
    "        return np.array([])\n",
    "\n",
    "    # Set maximum length\n",
    "    if max_length is None :\n",
    "        max_length = max(len(seq) for seq in valid_sequences)\n",
    "\n",
    "    # Initialize the output matrix with zeros\n",
    "    M = len(valid_sequences)\n",
    "    L = max_length\n",
    "    encoded_matrix = np.zeros((M, L, len(amino_acids)), dtype=np.float32)\n",
    "\n",
    "    # Encode each sequence\n",
    "    for i, seq in enumerate(valid_sequences) :\n",
    "        for j, aa in enumerate(seq[:max_length]) :  # Truncate sequences longer than max_length\n",
    "            encoded_matrix[i, j, aa_to_idx[aa]] = 1.0  # One-hot encode valid amino acids and gaps\n",
    "    return encoded_matrix"
   ]
  },
  {
   "cell_type": "markdown",
   "id": "3167340c",
   "metadata": {},
   "source": [
    "#### vae model"
   ]
  },
  {
   "cell_type": "code",
   "execution_count": 3,
   "id": "28c208af",
   "metadata": {},
   "outputs": [
    {
     "data": {
      "text/html": [
       "<pre style=\"white-space:pre;overflow-x:auto;line-height:normal;font-family:Menlo,'DejaVu Sans Mono',consolas,'Courier New',monospace\"><span style=\"font-weight: bold\">Model: \"vae\"</span>\n",
       "</pre>\n"
      ],
      "text/plain": [
       "\u001b[1mModel: \"vae\"\u001b[0m\n"
      ]
     },
     "metadata": {},
     "output_type": "display_data"
    },
    {
     "data": {
      "text/html": [
       "<pre style=\"white-space:pre;overflow-x:auto;line-height:normal;font-family:Menlo,'DejaVu Sans Mono',consolas,'Courier New',monospace\">┏━━━━━━━━━━━━━━━━━━━━━━━━━━━━━━━━━┳━━━━━━━━━━━━━━━━━━━━━━━━┳━━━━━━━━━━━━━━━┓\n",
       "┃<span style=\"font-weight: bold\"> Layer (type)                    </span>┃<span style=\"font-weight: bold\"> Output Shape           </span>┃<span style=\"font-weight: bold\">       Param # </span>┃\n",
       "┡━━━━━━━━━━━━━━━━━━━━━━━━━━━━━━━━━╇━━━━━━━━━━━━━━━━━━━━━━━━╇━━━━━━━━━━━━━━━┩\n",
       "│ encoder (<span style=\"color: #0087ff; text-decoration-color: #0087ff\">Encoder</span>)               │ ?                      │     <span style=\"color: #00af00; text-decoration-color: #00af00\">1,461,248</span> │\n",
       "├─────────────────────────────────┼────────────────────────┼───────────────┤\n",
       "│ decoder (<span style=\"color: #0087ff; text-decoration-color: #0087ff\">Decoder</span>)               │ ?                      │     <span style=\"color: #00af00; text-decoration-color: #00af00\">1,464,659</span> │\n",
       "└─────────────────────────────────┴────────────────────────┴───────────────┘\n",
       "</pre>\n"
      ],
      "text/plain": [
       "┏━━━━━━━━━━━━━━━━━━━━━━━━━━━━━━━━━┳━━━━━━━━━━━━━━━━━━━━━━━━┳━━━━━━━━━━━━━━━┓\n",
       "┃\u001b[1m \u001b[0m\u001b[1mLayer (type)                   \u001b[0m\u001b[1m \u001b[0m┃\u001b[1m \u001b[0m\u001b[1mOutput Shape          \u001b[0m\u001b[1m \u001b[0m┃\u001b[1m \u001b[0m\u001b[1m      Param #\u001b[0m\u001b[1m \u001b[0m┃\n",
       "┡━━━━━━━━━━━━━━━━━━━━━━━━━━━━━━━━━╇━━━━━━━━━━━━━━━━━━━━━━━━╇━━━━━━━━━━━━━━━┩\n",
       "│ encoder (\u001b[38;5;33mEncoder\u001b[0m)               │ ?                      │     \u001b[38;5;34m1,461,248\u001b[0m │\n",
       "├─────────────────────────────────┼────────────────────────┼───────────────┤\n",
       "│ decoder (\u001b[38;5;33mDecoder\u001b[0m)               │ ?                      │     \u001b[38;5;34m1,464,659\u001b[0m │\n",
       "└─────────────────────────────────┴────────────────────────┴───────────────┘\n"
      ]
     },
     "metadata": {},
     "output_type": "display_data"
    },
    {
     "data": {
      "text/html": [
       "<pre style=\"white-space:pre;overflow-x:auto;line-height:normal;font-family:Menlo,'DejaVu Sans Mono',consolas,'Courier New',monospace\"><span style=\"font-weight: bold\"> Total params: </span><span style=\"color: #00af00; text-decoration-color: #00af00\">2,925,907</span> (11.16 MB)\n",
       "</pre>\n"
      ],
      "text/plain": [
       "\u001b[1m Total params: \u001b[0m\u001b[38;5;34m2,925,907\u001b[0m (11.16 MB)\n"
      ]
     },
     "metadata": {},
     "output_type": "display_data"
    },
    {
     "data": {
      "text/html": [
       "<pre style=\"white-space:pre;overflow-x:auto;line-height:normal;font-family:Menlo,'DejaVu Sans Mono',consolas,'Courier New',monospace\"><span style=\"font-weight: bold\"> Trainable params: </span><span style=\"color: #00af00; text-decoration-color: #00af00\">2,924,115</span> (11.15 MB)\n",
       "</pre>\n"
      ],
      "text/plain": [
       "\u001b[1m Trainable params: \u001b[0m\u001b[38;5;34m2,924,115\u001b[0m (11.15 MB)\n"
      ]
     },
     "metadata": {},
     "output_type": "display_data"
    },
    {
     "data": {
      "text/html": [
       "<pre style=\"white-space:pre;overflow-x:auto;line-height:normal;font-family:Menlo,'DejaVu Sans Mono',consolas,'Courier New',monospace\"><span style=\"font-weight: bold\"> Non-trainable params: </span><span style=\"color: #00af00; text-decoration-color: #00af00\">1,792</span> (7.00 KB)\n",
       "</pre>\n"
      ],
      "text/plain": [
       "\u001b[1m Non-trainable params: \u001b[0m\u001b[38;5;34m1,792\u001b[0m (7.00 KB)\n"
      ]
     },
     "metadata": {},
     "output_type": "display_data"
    }
   ],
   "source": [
    "class Sampling(layers.Layer):\n",
    "    \"\"\"Uses (z_mean, z_log_var) to sample z, the vector encoding a sequence.\"\"\"\n",
    "    \n",
    "    def call(self, inputs):\n",
    "        z_mean, z_log_var = inputs\n",
    "        batch = tf.shape(z_mean)[0]\n",
    "        dim = tf.shape(z_mean)[1]\n",
    "        epsilon = tf.keras.backend.random_normal(shape=(batch, dim))\n",
    "        return z_mean + tf.exp(0.5 * z_log_var) * epsilon\n",
    "\n",
    "class Encoder(layers.Layer):\n",
    "    \"\"\"Encodes sequences into latent space.\"\"\"\n",
    "    \n",
    "    def __init__(self, latent_dim, intermediate_dims=[256, 128, 64], **kwargs):\n",
    "        super(Encoder, self).__init__(**kwargs)\n",
    "        self.dense_layers = []\n",
    "        for dim in intermediate_dims:\n",
    "            self.dense_layers.append(layers.Dense(dim, activation='relu'))\n",
    "            self.dense_layers.append(layers.BatchNormalization())\n",
    "            self.dense_layers.append(layers.Dropout(0.3))\n",
    "        \n",
    "        self.dense_mean = layers.Dense(latent_dim)\n",
    "        self.dense_log_var = layers.Dense(latent_dim)\n",
    "        self.sampling = Sampling()\n",
    "    \n",
    "    def call(self, inputs):\n",
    "        x = inputs\n",
    "        for layer in self.dense_layers:\n",
    "            x = layer(x)\n",
    "        \n",
    "        z_mean = self.dense_mean(x)\n",
    "        z_log_var = self.dense_log_var(x)\n",
    "        z = self.sampling([z_mean, z_log_var])\n",
    "        \n",
    "        return z_mean, z_log_var, z\n",
    "\n",
    "class Decoder(layers.Layer):\n",
    "    \"\"\"Decodes a latent space point into a sequence.\"\"\"\n",
    "    \n",
    "    def __init__(self, original_dim, intermediate_dims=[64, 128, 256], **kwargs):\n",
    "        super(Decoder, self).__init__(**kwargs)\n",
    "        self.dense_layers = []\n",
    "        for dim in intermediate_dims:\n",
    "            self.dense_layers.append(layers.Dense(dim, activation='relu'))\n",
    "            self.dense_layers.append(layers.BatchNormalization())\n",
    "            self.dense_layers.append(layers.Dropout(0.3))\n",
    "        \n",
    "        self.dense_output = layers.Dense(original_dim, activation='sigmoid')\n",
    "    \n",
    "    def call(self, inputs):\n",
    "        x = inputs\n",
    "        for layer in self.dense_layers:\n",
    "            x = layer(x)\n",
    "        \n",
    "        return self.dense_output(x)\n",
    "\n",
    "class VAE(Model):\n",
    "    \"\"\"Variational Autoencoder for protein sequences.\"\"\"\n",
    "    \n",
    "    def __init__(self, original_dim, latent_dim, **kwargs):\n",
    "        super(VAE, self).__init__(**kwargs)\n",
    "        self.original_dim = original_dim\n",
    "        self.latent_dim = latent_dim\n",
    "        self.encoder = Encoder(latent_dim)\n",
    "        self.decoder = Decoder(original_dim)\n",
    "        \n",
    "    def call(self, inputs):\n",
    "        z_mean, z_log_var, z = self.encoder(inputs)\n",
    "        reconstructed = self.decoder(z)\n",
    "        \n",
    "        # Add KL divergence regularization loss\n",
    "        kl_loss = -0.5 * tf.reduce_mean(\n",
    "            tf.reduce_sum(1 + z_log_var - tf.square(z_mean) - tf.exp(z_log_var), axis=1)\n",
    "        )\n",
    "        \n",
    "        # Scale KL loss by input dimension to balance it with reconstruction loss\n",
    "        kl_loss = kl_loss * (1.0 / self.original_dim)\n",
    "        \n",
    "        self.add_loss(kl_loss)\n",
    "        return reconstructed\n",
    "    \n",
    "    def encode(self, inputs):\n",
    "        z_mean, z_log_var, z = self.encoder(inputs)\n",
    "        return z_mean, z_log_var, z\n",
    "    \n",
    "    def decode(self, z):\n",
    "        return self.decoder(z)\n",
    "    \n",
    "    def get_config(self):\n",
    "        config = super(VAE, self).get_config()\n",
    "        config.update({\n",
    "            'original_dim': self.original_dim,\n",
    "            'latent_dim': self.latent_dim\n",
    "        })\n",
    "        return config\n",
    "    \n",
    "\n",
    "# Rebuild the model architecture\n",
    "vae = VAE(original_dim=5523, latent_dim=32)\n",
    "\n",
    "dummy_input = np.zeros((1, 5523), dtype=np.float32)  # Match input shape\n",
    "_ = vae(dummy_input)  # Force layer creation\n",
    "\n",
    "vae.load_weights('models/200000seq_best_vae_model.h5')  # Load weights\n",
    "\n",
    "vae.summary()"
   ]
  },
  {
   "cell_type": "markdown",
   "id": "f98107da",
   "metadata": {},
   "source": [
    "##### wrap the 3D→32 encoder:\n",
    "Turning trained VAE into an standalone encoder for a deterministic feature extractor.\n",
    "this model mapes high dim flattened matrix to latent 32 dim space.\n",
    "that is the whole point"
   ]
  },
  {
   "cell_type": "code",
   "execution_count": 4,
   "id": "bbc3594c",
   "metadata": {},
   "outputs": [
    {
     "name": "stdout",
     "output_type": "stream",
     "text": [
      "WARNING:tensorflow:From c:\\Users\\sajdv\\anaconda3\\envs\\vae\\lib\\site-packages\\keras\\src\\backend\\tensorflow\\core.py:219: The name tf.placeholder is deprecated. Please use tf.compat.v1.placeholder instead.\n",
      "\n"
     ]
    },
    {
     "data": {
      "text/html": [
       "<pre style=\"white-space:pre;overflow-x:auto;line-height:normal;font-family:Menlo,'DejaVu Sans Mono',consolas,'Courier New',monospace\"><span style=\"font-weight: bold\">Model: \"encoder_3d_to_32\"</span>\n",
       "</pre>\n"
      ],
      "text/plain": [
       "\u001b[1mModel: \"encoder_3d_to_32\"\u001b[0m\n"
      ]
     },
     "metadata": {},
     "output_type": "display_data"
    },
    {
     "data": {
      "text/html": [
       "<pre style=\"white-space:pre;overflow-x:auto;line-height:normal;font-family:Menlo,'DejaVu Sans Mono',consolas,'Courier New',monospace\">┏━━━━━━━━━━━━━━━━━━━━━━━━━━━━━━━━━┳━━━━━━━━━━━━━━━━━━━━━━━━┳━━━━━━━━━━━━━━━┓\n",
       "┃<span style=\"font-weight: bold\"> Layer (type)                    </span>┃<span style=\"font-weight: bold\"> Output Shape           </span>┃<span style=\"font-weight: bold\">       Param # </span>┃\n",
       "┡━━━━━━━━━━━━━━━━━━━━━━━━━━━━━━━━━╇━━━━━━━━━━━━━━━━━━━━━━━━╇━━━━━━━━━━━━━━━┩\n",
       "│ onehot_input (<span style=\"color: #0087ff; text-decoration-color: #0087ff\">InputLayer</span>)       │ (<span style=\"color: #00d7ff; text-decoration-color: #00d7ff\">None</span>, <span style=\"color: #00af00; text-decoration-color: #00af00\">263</span>, <span style=\"color: #00af00; text-decoration-color: #00af00\">21</span>)        │             <span style=\"color: #00af00; text-decoration-color: #00af00\">0</span> │\n",
       "├─────────────────────────────────┼────────────────────────┼───────────────┤\n",
       "│ flatten (<span style=\"color: #0087ff; text-decoration-color: #0087ff\">Flatten</span>)               │ (<span style=\"color: #00d7ff; text-decoration-color: #00d7ff\">None</span>, <span style=\"color: #00af00; text-decoration-color: #00af00\">5523</span>)           │             <span style=\"color: #00af00; text-decoration-color: #00af00\">0</span> │\n",
       "├─────────────────────────────────┼────────────────────────┼───────────────┤\n",
       "│ encoder (<span style=\"color: #0087ff; text-decoration-color: #0087ff\">Encoder</span>)               │ [(<span style=\"color: #00d7ff; text-decoration-color: #00d7ff\">None</span>, <span style=\"color: #00af00; text-decoration-color: #00af00\">32</span>), (<span style=\"color: #00d7ff; text-decoration-color: #00d7ff\">None</span>,    │     <span style=\"color: #00af00; text-decoration-color: #00af00\">1,461,248</span> │\n",
       "│                                 │ <span style=\"color: #00af00; text-decoration-color: #00af00\">32</span>), (<span style=\"color: #00d7ff; text-decoration-color: #00d7ff\">None</span>, <span style=\"color: #00af00; text-decoration-color: #00af00\">32</span>)]       │               │\n",
       "└─────────────────────────────────┴────────────────────────┴───────────────┘\n",
       "</pre>\n"
      ],
      "text/plain": [
       "┏━━━━━━━━━━━━━━━━━━━━━━━━━━━━━━━━━┳━━━━━━━━━━━━━━━━━━━━━━━━┳━━━━━━━━━━━━━━━┓\n",
       "┃\u001b[1m \u001b[0m\u001b[1mLayer (type)                   \u001b[0m\u001b[1m \u001b[0m┃\u001b[1m \u001b[0m\u001b[1mOutput Shape          \u001b[0m\u001b[1m \u001b[0m┃\u001b[1m \u001b[0m\u001b[1m      Param #\u001b[0m\u001b[1m \u001b[0m┃\n",
       "┡━━━━━━━━━━━━━━━━━━━━━━━━━━━━━━━━━╇━━━━━━━━━━━━━━━━━━━━━━━━╇━━━━━━━━━━━━━━━┩\n",
       "│ onehot_input (\u001b[38;5;33mInputLayer\u001b[0m)       │ (\u001b[38;5;45mNone\u001b[0m, \u001b[38;5;34m263\u001b[0m, \u001b[38;5;34m21\u001b[0m)        │             \u001b[38;5;34m0\u001b[0m │\n",
       "├─────────────────────────────────┼────────────────────────┼───────────────┤\n",
       "│ flatten (\u001b[38;5;33mFlatten\u001b[0m)               │ (\u001b[38;5;45mNone\u001b[0m, \u001b[38;5;34m5523\u001b[0m)           │             \u001b[38;5;34m0\u001b[0m │\n",
       "├─────────────────────────────────┼────────────────────────┼───────────────┤\n",
       "│ encoder (\u001b[38;5;33mEncoder\u001b[0m)               │ [(\u001b[38;5;45mNone\u001b[0m, \u001b[38;5;34m32\u001b[0m), (\u001b[38;5;45mNone\u001b[0m,    │     \u001b[38;5;34m1,461,248\u001b[0m │\n",
       "│                                 │ \u001b[38;5;34m32\u001b[0m), (\u001b[38;5;45mNone\u001b[0m, \u001b[38;5;34m32\u001b[0m)]       │               │\n",
       "└─────────────────────────────────┴────────────────────────┴───────────────┘\n"
      ]
     },
     "metadata": {},
     "output_type": "display_data"
    },
    {
     "data": {
      "text/html": [
       "<pre style=\"white-space:pre;overflow-x:auto;line-height:normal;font-family:Menlo,'DejaVu Sans Mono',consolas,'Courier New',monospace\"><span style=\"font-weight: bold\"> Total params: </span><span style=\"color: #00af00; text-decoration-color: #00af00\">1,461,248</span> (5.57 MB)\n",
       "</pre>\n"
      ],
      "text/plain": [
       "\u001b[1m Total params: \u001b[0m\u001b[38;5;34m1,461,248\u001b[0m (5.57 MB)\n"
      ]
     },
     "metadata": {},
     "output_type": "display_data"
    },
    {
     "data": {
      "text/html": [
       "<pre style=\"white-space:pre;overflow-x:auto;line-height:normal;font-family:Menlo,'DejaVu Sans Mono',consolas,'Courier New',monospace\"><span style=\"font-weight: bold\"> Trainable params: </span><span style=\"color: #00af00; text-decoration-color: #00af00\">1,460,352</span> (5.57 MB)\n",
       "</pre>\n"
      ],
      "text/plain": [
       "\u001b[1m Trainable params: \u001b[0m\u001b[38;5;34m1,460,352\u001b[0m (5.57 MB)\n"
      ]
     },
     "metadata": {},
     "output_type": "display_data"
    },
    {
     "data": {
      "text/html": [
       "<pre style=\"white-space:pre;overflow-x:auto;line-height:normal;font-family:Menlo,'DejaVu Sans Mono',consolas,'Courier New',monospace\"><span style=\"font-weight: bold\"> Non-trainable params: </span><span style=\"color: #00af00; text-decoration-color: #00af00\">896</span> (3.50 KB)\n",
       "</pre>\n"
      ],
      "text/plain": [
       "\u001b[1m Non-trainable params: \u001b[0m\u001b[38;5;34m896\u001b[0m (3.50 KB)\n"
      ]
     },
     "metadata": {},
     "output_type": "display_data"
    }
   ],
   "source": [
    "# build a standalone encoder that outputs only z_mean\n",
    "# 1) One‑hot 3D input\n",
    "inp_3d = layers.Input(shape=(263, 21), name='onehot_input')\n",
    "\n",
    "# 2) Flatten to the original_dim your VAE expects\n",
    "flat   = layers.Flatten(name='flatten')(inp_3d)\n",
    "\n",
    "# 3) Call encode() without the training kwarg\n",
    "z_mean, z_logvar, z = vae.encode(flat)\n",
    "\n",
    "# 4) Build the encoder model\n",
    "encoder = Model(inputs=inp_3d, outputs=z_mean, name='encoder_3d_to_32')\n",
    "encoder.summary()"
   ]
  },
  {
   "cell_type": "markdown",
   "id": "0cf5f8f7",
   "metadata": {},
   "source": [
    "##### preparing data: getting labled sequence, split them for training/val/test (without flattening them cuz encoder would do it)"
   ]
  },
  {
   "cell_type": "code",
   "execution_count": 8,
   "id": "6979de51",
   "metadata": {},
   "outputs": [
    {
     "name": "stdout",
     "output_type": "stream",
     "text": [
      "Found 15 classes, 1758 total sequences\n",
      "\n",
      "  aurora_kinases                 : 32\n",
      "  calcium_calmodulin_dependent_kinases : 32\n",
      "  calcium_dependent_kinases      : 80\n",
      "  cAMP_dependent_protein_kinases : 27\n",
      "  casein_kinases                 : 31\n",
      "  CBL_interacting_protein_kinases : 31\n",
      "  cyclin_dependent_kinases       : 172\n",
      "  dual_specificity_protein_kinases : 17\n",
      "  eukaryotic_translation_initiation_factor_kinases : 8\n",
      "  L_type_lectin_kinases          : 12\n",
      "  mitogen_activated_kinases      : 255\n",
      "  protein_kinases                : 78\n",
      "  ribosomal_protein_S6_kinases   : 23\n",
      "  serine_threonine_kinases       : 944\n",
      "  tyrosine_kinases               : 16\n",
      "\n",
      "Label → index mapping:\n",
      "  CBL_interacting_protein_kinases → 0\n",
      "  L_type_lectin_kinases          → 1\n",
      "  aurora_kinases                 → 2\n",
      "  cAMP_dependent_protein_kinases → 3\n",
      "  calcium_calmodulin_dependent_kinases → 4\n",
      "  calcium_dependent_kinases      → 5\n",
      "  casein_kinases                 → 6\n",
      "  cyclin_dependent_kinases       → 7\n",
      "  dual_specificity_protein_kinases → 8\n",
      "  eukaryotic_translation_initiation_factor_kinases → 9\n",
      "  mitogen_activated_kinases      → 10\n",
      "  protein_kinases                → 11\n",
      "  ribosomal_protein_S6_kinases   → 12\n",
      "  serine_threonine_kinases       → 13\n",
      "  tyrosine_kinases               → 14\n",
      "\n",
      "all_seqs  length: 1758\n",
      "y_labels  shape : (1758,)\n",
      "After filtering: (1757, 263, 21) (1757,)\n"
     ]
    }
   ],
   "source": [
    "# 1) Path to your labeled-folder\n",
    "data_dir = \"hmm_20\"\n",
    "\n",
    "# 2) Find all .fasta files in there\n",
    "fasta_files = [f for f in os.listdir(data_dir) if f.lower().endswith('.fasta')]\n",
    "\n",
    "# 3) Read & count\n",
    "label_counts = {}\n",
    "all_seqs     = []\n",
    "all_labels   = []\n",
    "\n",
    "suffix = \"_noInserts_noGaps_noDuplicates\"\n",
    "\n",
    "for fname in fasta_files:\n",
    "    # strip extension\n",
    "    base = os.path.splitext(fname)[0]\n",
    "    # remove the unwanted suffix if present\n",
    "    if base.endswith(suffix):\n",
    "        label = base[:-len(suffix)]\n",
    "    else:\n",
    "        label = base\n",
    "\n",
    "    path  = os.path.join(data_dir, fname)\n",
    "    seqs  = read_fasta(path)                # your existing FASTA reader\n",
    "    n     = len(seqs)\n",
    "\n",
    "    label_counts[label] = n\n",
    "    all_seqs.extend(seqs)\n",
    "    all_labels.extend([label] * n)\n",
    "\n",
    "# 4) Print summary\n",
    "print(f\"Found {len(label_counts)} classes, {sum(label_counts.values())} total sequences\\n\")\n",
    "for lbl, cnt in label_counts.items():\n",
    "    print(f\"  {lbl:30s} : {cnt}\")\n",
    "\n",
    "# 5) Map labels → integer IDs\n",
    "unique_labels = sorted(label_counts.keys())\n",
    "label_to_idx  = {lbl:i for i,lbl in enumerate(unique_labels)}\n",
    "y_labels      = np.array([label_to_idx[lbl] for lbl in all_labels], dtype=np.int32)\n",
    "\n",
    "print(\"\\nLabel → index mapping:\")\n",
    "for lbl, idx in label_to_idx.items():\n",
    "    print(f\"  {lbl:30s} → {idx}\")\n",
    "\n",
    "print(f\"\\nall_seqs  length: {len(all_seqs)}\")\n",
    "print(f\"y_labels  shape : {y_labels.shape}\")\n",
    "\n",
    "# 0) your amino‑acid map (same as in your encoder)\n",
    "amino_acids = '-ACDEFGHIKLMNPQRSTVWY'\n",
    "aa_to_idx   = {aa: i for i, aa in enumerate(amino_acids)}\n",
    "\n",
    "# 1) Build a mask of “valid” sequences (only drop those that truly have bad chars)\n",
    "valid_idxs = [\n",
    "    i for i, seq in enumerate(all_seqs)\n",
    "    if all(aa in aa_to_idx for aa in seq)\n",
    "]\n",
    "\n",
    "# 2) Filter both sequences *and* labels\n",
    "filtered_seqs   = [all_seqs[i]    for i in valid_idxs]\n",
    "filtered_labels = [y_labels[i]     for i in valid_idxs]\n",
    "\n",
    "# 3) Now one‑hot encode the filtered list\n",
    "X_lab_onehot = encode_sequences_one_hot_with_gap(filtered_seqs, max_length=263)\n",
    "y_lab = np.array(filtered_labels, dtype=np.int32)\n",
    "\n",
    "print(\"After filtering:\", X_lab_onehot.shape, y_lab.shape)\n"
   ]
  },
  {
   "cell_type": "code",
   "execution_count": 12,
   "id": "2e632787",
   "metadata": {},
   "outputs": [
    {
     "name": "stdout",
     "output_type": "stream",
     "text": [
      "Shapes: (1053, 263, 21) (352, 263, 21) (352, 263, 21) (1053,) (352,) (352,)\n"
     ]
    }
   ],
   "source": [
    "# starting from X_lab_onehot (N,263,21) and y_lab (N,)\n",
    "# a) carve off test (20%)\n",
    "X_temp, X_test, y_temp, y_test = train_test_split(\n",
    "    X_lab_onehot, y_lab,\n",
    "    test_size=0.2,\n",
    "    random_state=42,\n",
    "    stratify=y_lab\n",
    ")\n",
    "\n",
    "\n",
    "# b) split remaining 80% into train (60% total) and val (20% total)\n",
    "X_tr, X_val, y_tr, y_val = train_test_split(\n",
    "    X_temp, y_temp,\n",
    "    test_size=0.25,   # 0.25 * 0.8 = 0.2 overall\n",
    "    random_state=42,\n",
    "    stratify=y_temp\n",
    ")\n",
    "\n",
    "print(\n",
    "    \"Shapes:\",\n",
    "    X_tr.shape, X_val.shape, X_test.shape,\n",
    "    y_tr.shape, y_val.shape, y_test.shape\n",
    ")"
   ]
  },
  {
   "cell_type": "markdown",
   "id": "890af8f1",
   "metadata": {},
   "source": [
    "#### embeding labeled data via 3D→32 encoder\n",
    "we are not changing encoder weights, we just want to have 32 dim vectors of our data in latent space.\n",
    "our model is not expose and not learning our labled data"
   ]
  },
  {
   "cell_type": "code",
   "execution_count": 13,
   "id": "463b0bee",
   "metadata": {},
   "outputs": [
    {
     "name": "stdout",
     "output_type": "stream",
     "text": [
      "\u001b[1m17/17\u001b[0m \u001b[32m━━━━━━━━━━━━━━━━━━━━\u001b[0m\u001b[37m\u001b[0m \u001b[1m0s\u001b[0m 6ms/step\n",
      "\u001b[1m6/6\u001b[0m \u001b[32m━━━━━━━━━━━━━━━━━━━━\u001b[0m\u001b[37m\u001b[0m \u001b[1m0s\u001b[0m 9ms/step \n",
      "\u001b[1m6/6\u001b[0m \u001b[32m━━━━━━━━━━━━━━━━━━━━\u001b[0m\u001b[37m\u001b[0m \u001b[1m0s\u001b[0m 9ms/step \n",
      "Latent shapes: (1053, 32) (352, 32) (352, 32)\n"
     ]
    }
   ],
   "source": [
    "batch_size = 64\n",
    "\n",
    "# freeze encoder so no weights change\n",
    "encoder.trainable = False\n",
    "\n",
    "# produce embeddings\n",
    "Z_tr  = encoder.predict(X_tr,  batch_size=batch_size, verbose=1)\n",
    "Z_val = encoder.predict(X_val, batch_size=batch_size, verbose=1)\n",
    "Z_test= encoder.predict(X_test,batch_size=batch_size, verbose=1)\n",
    "\n",
    "print(\"Latent shapes:\", Z_tr.shape, Z_val.shape, Z_test.shape)\n"
   ]
  },
  {
   "cell_type": "markdown",
   "id": "3d9b0ba9",
   "metadata": {},
   "source": [
    "#### train mlp on tr/val data"
   ]
  },
  {
   "cell_type": "code",
   "execution_count": 14,
   "id": "9e466d25",
   "metadata": {},
   "outputs": [
    {
     "name": "stdout",
     "output_type": "stream",
     "text": [
      "Epoch 1/100\n",
      "\u001b[1m33/33\u001b[0m \u001b[32m━━━━━━━━━━━━━━━━━━━━\u001b[0m\u001b[37m\u001b[0m \u001b[1m2s\u001b[0m 14ms/step - accuracy: 0.1768 - loss: 2.5771 - val_accuracy: 0.4773 - val_loss: 2.1073\n",
      "Epoch 2/100\n",
      "\u001b[1m33/33\u001b[0m \u001b[32m━━━━━━━━━━━━━━━━━━━━\u001b[0m\u001b[37m\u001b[0m \u001b[1m0s\u001b[0m 7ms/step - accuracy: 0.4751 - loss: 2.0883 - val_accuracy: 0.5312 - val_loss: 1.7455\n",
      "Epoch 3/100\n",
      "\u001b[1m33/33\u001b[0m \u001b[32m━━━━━━━━━━━━━━━━━━━━\u001b[0m\u001b[37m\u001b[0m \u001b[1m0s\u001b[0m 6ms/step - accuracy: 0.5481 - loss: 1.7260 - val_accuracy: 0.5682 - val_loss: 1.5250\n",
      "Epoch 4/100\n",
      "\u001b[1m33/33\u001b[0m \u001b[32m━━━━━━━━━━━━━━━━━━━━\u001b[0m\u001b[37m\u001b[0m \u001b[1m0s\u001b[0m 6ms/step - accuracy: 0.5877 - loss: 1.5762 - val_accuracy: 0.6278 - val_loss: 1.3768\n",
      "Epoch 5/100\n",
      "\u001b[1m33/33\u001b[0m \u001b[32m━━━━━━━━━━━━━━━━━━━━\u001b[0m\u001b[37m\u001b[0m \u001b[1m0s\u001b[0m 6ms/step - accuracy: 0.6170 - loss: 1.4366 - val_accuracy: 0.6534 - val_loss: 1.2644\n",
      "Epoch 6/100\n",
      "\u001b[1m33/33\u001b[0m \u001b[32m━━━━━━━━━━━━━━━━━━━━\u001b[0m\u001b[37m\u001b[0m \u001b[1m0s\u001b[0m 6ms/step - accuracy: 0.6510 - loss: 1.2891 - val_accuracy: 0.6761 - val_loss: 1.1759\n",
      "Epoch 7/100\n",
      "\u001b[1m33/33\u001b[0m \u001b[32m━━━━━━━━━━━━━━━━━━━━\u001b[0m\u001b[37m\u001b[0m \u001b[1m0s\u001b[0m 6ms/step - accuracy: 0.6613 - loss: 1.1905 - val_accuracy: 0.6989 - val_loss: 1.0979\n",
      "Epoch 8/100\n",
      "\u001b[1m33/33\u001b[0m \u001b[32m━━━━━━━━━━━━━━━━━━━━\u001b[0m\u001b[37m\u001b[0m \u001b[1m0s\u001b[0m 6ms/step - accuracy: 0.6642 - loss: 1.1284 - val_accuracy: 0.7017 - val_loss: 1.0304\n",
      "Epoch 9/100\n",
      "\u001b[1m33/33\u001b[0m \u001b[32m━━━━━━━━━━━━━━━━━━━━\u001b[0m\u001b[37m\u001b[0m \u001b[1m0s\u001b[0m 6ms/step - accuracy: 0.6884 - loss: 1.0878 - val_accuracy: 0.7188 - val_loss: 0.9715\n",
      "Epoch 10/100\n",
      "\u001b[1m33/33\u001b[0m \u001b[32m━━━━━━━━━━━━━━━━━━━━\u001b[0m\u001b[37m\u001b[0m \u001b[1m0s\u001b[0m 6ms/step - accuracy: 0.6992 - loss: 1.0594 - val_accuracy: 0.7443 - val_loss: 0.9203\n",
      "Epoch 11/100\n",
      "\u001b[1m33/33\u001b[0m \u001b[32m━━━━━━━━━━━━━━━━━━━━\u001b[0m\u001b[37m\u001b[0m \u001b[1m0s\u001b[0m 6ms/step - accuracy: 0.7331 - loss: 0.9336 - val_accuracy: 0.7642 - val_loss: 0.8711\n",
      "Epoch 12/100\n",
      "\u001b[1m33/33\u001b[0m \u001b[32m━━━━━━━━━━━━━━━━━━━━\u001b[0m\u001b[37m\u001b[0m \u001b[1m0s\u001b[0m 6ms/step - accuracy: 0.7189 - loss: 0.9358 - val_accuracy: 0.7756 - val_loss: 0.8288\n",
      "Epoch 13/100\n",
      "\u001b[1m33/33\u001b[0m \u001b[32m━━━━━━━━━━━━━━━━━━━━\u001b[0m\u001b[37m\u001b[0m \u001b[1m0s\u001b[0m 7ms/step - accuracy: 0.7021 - loss: 0.9315 - val_accuracy: 0.7841 - val_loss: 0.7915\n",
      "Epoch 14/100\n",
      "\u001b[1m33/33\u001b[0m \u001b[32m━━━━━━━━━━━━━━━━━━━━\u001b[0m\u001b[37m\u001b[0m \u001b[1m0s\u001b[0m 6ms/step - accuracy: 0.7475 - loss: 0.8407 - val_accuracy: 0.7869 - val_loss: 0.7567\n",
      "Epoch 15/100\n",
      "\u001b[1m33/33\u001b[0m \u001b[32m━━━━━━━━━━━━━━━━━━━━\u001b[0m\u001b[37m\u001b[0m \u001b[1m0s\u001b[0m 6ms/step - accuracy: 0.7532 - loss: 0.8334 - val_accuracy: 0.7983 - val_loss: 0.7264\n",
      "Epoch 16/100\n",
      "\u001b[1m33/33\u001b[0m \u001b[32m━━━━━━━━━━━━━━━━━━━━\u001b[0m\u001b[37m\u001b[0m \u001b[1m0s\u001b[0m 6ms/step - accuracy: 0.7509 - loss: 0.8512 - val_accuracy: 0.7983 - val_loss: 0.6965\n",
      "Epoch 17/100\n",
      "\u001b[1m33/33\u001b[0m \u001b[32m━━━━━━━━━━━━━━━━━━━━\u001b[0m\u001b[37m\u001b[0m \u001b[1m0s\u001b[0m 7ms/step - accuracy: 0.7689 - loss: 0.7344 - val_accuracy: 0.8097 - val_loss: 0.6743\n",
      "Epoch 18/100\n",
      "\u001b[1m33/33\u001b[0m \u001b[32m━━━━━━━━━━━━━━━━━━━━\u001b[0m\u001b[37m\u001b[0m \u001b[1m0s\u001b[0m 7ms/step - accuracy: 0.7712 - loss: 0.7571 - val_accuracy: 0.8125 - val_loss: 0.6529\n",
      "Epoch 19/100\n",
      "\u001b[1m33/33\u001b[0m \u001b[32m━━━━━━━━━━━━━━━━━━━━\u001b[0m\u001b[37m\u001b[0m \u001b[1m0s\u001b[0m 7ms/step - accuracy: 0.7723 - loss: 0.7461 - val_accuracy: 0.8267 - val_loss: 0.6298\n",
      "Epoch 20/100\n",
      "\u001b[1m33/33\u001b[0m \u001b[32m━━━━━━━━━━━━━━━━━━━━\u001b[0m\u001b[37m\u001b[0m \u001b[1m0s\u001b[0m 7ms/step - accuracy: 0.7748 - loss: 0.7211 - val_accuracy: 0.8239 - val_loss: 0.6117\n",
      "Epoch 21/100\n",
      "\u001b[1m33/33\u001b[0m \u001b[32m━━━━━━━━━━━━━━━━━━━━\u001b[0m\u001b[37m\u001b[0m \u001b[1m0s\u001b[0m 7ms/step - accuracy: 0.7901 - loss: 0.6818 - val_accuracy: 0.8267 - val_loss: 0.5919\n",
      "Epoch 22/100\n",
      "\u001b[1m33/33\u001b[0m \u001b[32m━━━━━━━━━━━━━━━━━━━━\u001b[0m\u001b[37m\u001b[0m \u001b[1m0s\u001b[0m 7ms/step - accuracy: 0.7997 - loss: 0.6232 - val_accuracy: 0.8295 - val_loss: 0.5741\n",
      "Epoch 23/100\n",
      "\u001b[1m33/33\u001b[0m \u001b[32m━━━━━━━━━━━━━━━━━━━━\u001b[0m\u001b[37m\u001b[0m \u001b[1m0s\u001b[0m 7ms/step - accuracy: 0.7970 - loss: 0.6658 - val_accuracy: 0.8295 - val_loss: 0.5579\n",
      "Epoch 24/100\n",
      "\u001b[1m33/33\u001b[0m \u001b[32m━━━━━━━━━━━━━━━━━━━━\u001b[0m\u001b[37m\u001b[0m \u001b[1m0s\u001b[0m 7ms/step - accuracy: 0.8002 - loss: 0.6331 - val_accuracy: 0.8409 - val_loss: 0.5460\n",
      "Epoch 25/100\n",
      "\u001b[1m33/33\u001b[0m \u001b[32m━━━━━━━━━━━━━━━━━━━━\u001b[0m\u001b[37m\u001b[0m \u001b[1m0s\u001b[0m 7ms/step - accuracy: 0.7967 - loss: 0.6391 - val_accuracy: 0.8494 - val_loss: 0.5309\n",
      "Epoch 26/100\n",
      "\u001b[1m33/33\u001b[0m \u001b[32m━━━━━━━━━━━━━━━━━━━━\u001b[0m\u001b[37m\u001b[0m \u001b[1m0s\u001b[0m 7ms/step - accuracy: 0.8012 - loss: 0.5836 - val_accuracy: 0.8523 - val_loss: 0.5185\n",
      "Epoch 27/100\n",
      "\u001b[1m33/33\u001b[0m \u001b[32m━━━━━━━━━━━━━━━━━━━━\u001b[0m\u001b[37m\u001b[0m \u001b[1m0s\u001b[0m 6ms/step - accuracy: 0.8026 - loss: 0.6042 - val_accuracy: 0.8494 - val_loss: 0.5064\n",
      "Epoch 28/100\n",
      "\u001b[1m33/33\u001b[0m \u001b[32m━━━━━━━━━━━━━━━━━━━━\u001b[0m\u001b[37m\u001b[0m \u001b[1m0s\u001b[0m 7ms/step - accuracy: 0.8089 - loss: 0.5624 - val_accuracy: 0.8466 - val_loss: 0.4958\n",
      "Epoch 29/100\n",
      "\u001b[1m33/33\u001b[0m \u001b[32m━━━━━━━━━━━━━━━━━━━━\u001b[0m\u001b[37m\u001b[0m \u001b[1m0s\u001b[0m 6ms/step - accuracy: 0.8140 - loss: 0.5791 - val_accuracy: 0.8580 - val_loss: 0.4914\n",
      "Epoch 30/100\n",
      "\u001b[1m33/33\u001b[0m \u001b[32m━━━━━━━━━━━━━━━━━━━━\u001b[0m\u001b[37m\u001b[0m \u001b[1m0s\u001b[0m 6ms/step - accuracy: 0.8284 - loss: 0.5476 - val_accuracy: 0.8608 - val_loss: 0.4775\n",
      "Epoch 31/100\n",
      "\u001b[1m33/33\u001b[0m \u001b[32m━━━━━━━━━━━━━━━━━━━━\u001b[0m\u001b[37m\u001b[0m \u001b[1m0s\u001b[0m 6ms/step - accuracy: 0.8430 - loss: 0.5253 - val_accuracy: 0.8551 - val_loss: 0.4692\n",
      "Epoch 32/100\n",
      "\u001b[1m33/33\u001b[0m \u001b[32m━━━━━━━━━━━━━━━━━━━━\u001b[0m\u001b[37m\u001b[0m \u001b[1m0s\u001b[0m 6ms/step - accuracy: 0.8204 - loss: 0.5544 - val_accuracy: 0.8665 - val_loss: 0.4593\n",
      "Epoch 33/100\n",
      "\u001b[1m33/33\u001b[0m \u001b[32m━━━━━━━━━━━━━━━━━━━━\u001b[0m\u001b[37m\u001b[0m \u001b[1m0s\u001b[0m 6ms/step - accuracy: 0.8439 - loss: 0.4958 - val_accuracy: 0.8693 - val_loss: 0.4512\n",
      "Epoch 34/100\n",
      "\u001b[1m33/33\u001b[0m \u001b[32m━━━━━━━━━━━━━━━━━━━━\u001b[0m\u001b[37m\u001b[0m \u001b[1m0s\u001b[0m 6ms/step - accuracy: 0.8414 - loss: 0.5139 - val_accuracy: 0.8636 - val_loss: 0.4473\n",
      "Epoch 35/100\n",
      "\u001b[1m33/33\u001b[0m \u001b[32m━━━━━━━━━━━━━━━━━━━━\u001b[0m\u001b[37m\u001b[0m \u001b[1m0s\u001b[0m 6ms/step - accuracy: 0.8491 - loss: 0.4783 - val_accuracy: 0.8722 - val_loss: 0.4374\n",
      "Epoch 36/100\n",
      "\u001b[1m33/33\u001b[0m \u001b[32m━━━━━━━━━━━━━━━━━━━━\u001b[0m\u001b[37m\u001b[0m \u001b[1m0s\u001b[0m 6ms/step - accuracy: 0.8306 - loss: 0.5108 - val_accuracy: 0.8722 - val_loss: 0.4322\n",
      "Epoch 37/100\n",
      "\u001b[1m33/33\u001b[0m \u001b[32m━━━━━━━━━━━━━━━━━━━━\u001b[0m\u001b[37m\u001b[0m \u001b[1m0s\u001b[0m 6ms/step - accuracy: 0.8494 - loss: 0.4674 - val_accuracy: 0.8693 - val_loss: 0.4280\n",
      "Epoch 38/100\n",
      "\u001b[1m33/33\u001b[0m \u001b[32m━━━━━━━━━━━━━━━━━━━━\u001b[0m\u001b[37m\u001b[0m \u001b[1m0s\u001b[0m 6ms/step - accuracy: 0.8491 - loss: 0.5030 - val_accuracy: 0.8750 - val_loss: 0.4190\n",
      "Epoch 39/100\n",
      "\u001b[1m33/33\u001b[0m \u001b[32m━━━━━━━━━━━━━━━━━━━━\u001b[0m\u001b[37m\u001b[0m \u001b[1m0s\u001b[0m 5ms/step - accuracy: 0.8326 - loss: 0.5044 - val_accuracy: 0.8750 - val_loss: 0.4158\n",
      "Epoch 40/100\n",
      "\u001b[1m33/33\u001b[0m \u001b[32m━━━━━━━━━━━━━━━━━━━━\u001b[0m\u001b[37m\u001b[0m \u001b[1m0s\u001b[0m 5ms/step - accuracy: 0.8516 - loss: 0.4441 - val_accuracy: 0.8722 - val_loss: 0.4095\n",
      "Epoch 41/100\n",
      "\u001b[1m33/33\u001b[0m \u001b[32m━━━━━━━━━━━━━━━━━━━━\u001b[0m\u001b[37m\u001b[0m \u001b[1m0s\u001b[0m 5ms/step - accuracy: 0.8424 - loss: 0.4977 - val_accuracy: 0.8807 - val_loss: 0.4030\n",
      "Epoch 42/100\n",
      "\u001b[1m33/33\u001b[0m \u001b[32m━━━━━━━━━━━━━━━━━━━━\u001b[0m\u001b[37m\u001b[0m \u001b[1m0s\u001b[0m 5ms/step - accuracy: 0.8447 - loss: 0.4836 - val_accuracy: 0.8778 - val_loss: 0.3970\n",
      "Epoch 43/100\n",
      "\u001b[1m33/33\u001b[0m \u001b[32m━━━━━━━━━━━━━━━━━━━━\u001b[0m\u001b[37m\u001b[0m \u001b[1m0s\u001b[0m 5ms/step - accuracy: 0.8533 - loss: 0.4423 - val_accuracy: 0.8750 - val_loss: 0.3937\n",
      "Epoch 44/100\n",
      "\u001b[1m33/33\u001b[0m \u001b[32m━━━━━━━━━━━━━━━━━━━━\u001b[0m\u001b[37m\u001b[0m \u001b[1m0s\u001b[0m 5ms/step - accuracy: 0.8668 - loss: 0.4481 - val_accuracy: 0.8807 - val_loss: 0.3927\n",
      "Epoch 45/100\n",
      "\u001b[1m33/33\u001b[0m \u001b[32m━━━━━━━━━━━━━━━━━━━━\u001b[0m\u001b[37m\u001b[0m \u001b[1m0s\u001b[0m 4ms/step - accuracy: 0.8523 - loss: 0.4246 - val_accuracy: 0.8778 - val_loss: 0.3903\n",
      "Epoch 46/100\n",
      "\u001b[1m33/33\u001b[0m \u001b[32m━━━━━━━━━━━━━━━━━━━━\u001b[0m\u001b[37m\u001b[0m \u001b[1m0s\u001b[0m 4ms/step - accuracy: 0.8368 - loss: 0.4615 - val_accuracy: 0.8778 - val_loss: 0.3839\n"
     ]
    }
   ],
   "source": [
    "import tensorflow as tf\n",
    "from tensorflow.keras import layers, Sequential\n",
    "\n",
    "input_dim   = Z_tr.shape[1]\n",
    "num_classes = len(np.unique(y_tr))\n",
    "\n",
    "clf = Sequential([\n",
    "    layers.Input(shape=(input_dim,)),\n",
    "    layers.Dense(64, activation='relu'),\n",
    "    layers.Dropout(0.3),\n",
    "    layers.Dense(num_classes, activation='softmax')\n",
    "], name='latent_mlp')\n",
    "\n",
    "clf.compile(\n",
    "    optimizer='adam',\n",
    "    loss='sparse_categorical_crossentropy',\n",
    "    metrics=['accuracy']\n",
    ")\n",
    "\n",
    "history = clf.fit(\n",
    "    Z_tr, y_tr,\n",
    "    validation_data=(Z_val, y_val),\n",
    "    batch_size=32,\n",
    "    epochs=100,\n",
    "    callbacks=[\n",
    "        tf.keras.callbacks.EarlyStopping(\n",
    "            monitor='val_accuracy',\n",
    "            patience=5,\n",
    "            restore_best_weights=True\n",
    "        )\n",
    "    ]\n",
    ")\n"
   ]
  },
  {
   "cell_type": "markdown",
   "id": "efe5d88c",
   "metadata": {},
   "source": [
    "#### validation split"
   ]
  },
  {
   "cell_type": "code",
   "execution_count": 17,
   "id": "b96959b1",
   "metadata": {},
   "outputs": [
    {
     "name": "stdout",
     "output_type": "stream",
     "text": [
      "\n",
      "Validation accuracy: 88.07%\n",
      "\u001b[1m11/11\u001b[0m \u001b[32m━━━━━━━━━━━━━━━━━━━━\u001b[0m\u001b[37m\u001b[0m \u001b[1m0s\u001b[0m 4ms/step \n",
      "\n",
      "Classification report on validation set:\n",
      "              precision    recall  f1-score   support\n",
      "\n",
      "           0     0.5000    0.1667    0.2500         6\n",
      "           1     1.0000    1.0000    1.0000         2\n",
      "           2     0.8571    0.8571    0.8571         7\n",
      "           3     1.0000    0.3333    0.5000         6\n",
      "           4     1.0000    0.6667    0.8000         6\n",
      "           5     1.0000    0.8750    0.9333        16\n",
      "           6     1.0000    0.6667    0.8000         6\n",
      "           7     0.8462    0.9706    0.9041        34\n",
      "           8     0.0000    0.0000    0.0000         4\n",
      "           9     0.0000    0.0000    0.0000         1\n",
      "          10     0.9592    0.9216    0.9400        51\n",
      "          11     0.8571    0.7500    0.8000        16\n",
      "          12     1.0000    0.8000    0.8889         5\n",
      "          13     0.8606    0.9471    0.9018       189\n",
      "          14     1.0000    0.6667    0.8000         3\n",
      "\n",
      "    accuracy                         0.8807       352\n",
      "   macro avg     0.7920    0.6414    0.6917       352\n",
      "weighted avg     0.8723    0.8807    0.8687       352\n",
      "\n"
     ]
    },
    {
     "name": "stderr",
     "output_type": "stream",
     "text": [
      "c:\\Users\\sajdv\\anaconda3\\envs\\vae\\lib\\site-packages\\sklearn\\metrics\\_classification.py:1565: UndefinedMetricWarning: Precision is ill-defined and being set to 0.0 in labels with no predicted samples. Use `zero_division` parameter to control this behavior.\n",
      "  _warn_prf(average, modifier, f\"{metric.capitalize()} is\", len(result))\n",
      "c:\\Users\\sajdv\\anaconda3\\envs\\vae\\lib\\site-packages\\sklearn\\metrics\\_classification.py:1565: UndefinedMetricWarning: Precision is ill-defined and being set to 0.0 in labels with no predicted samples. Use `zero_division` parameter to control this behavior.\n",
      "  _warn_prf(average, modifier, f\"{metric.capitalize()} is\", len(result))\n",
      "c:\\Users\\sajdv\\anaconda3\\envs\\vae\\lib\\site-packages\\sklearn\\metrics\\_classification.py:1565: UndefinedMetricWarning: Precision is ill-defined and being set to 0.0 in labels with no predicted samples. Use `zero_division` parameter to control this behavior.\n",
      "  _warn_prf(average, modifier, f\"{metric.capitalize()} is\", len(result))\n"
     ]
    }
   ],
   "source": [
    "# 4) Evaluate on validation splits\n",
    "val_loss, val_acc = clf.evaluate(Z_val, y_val, verbose=0)\n",
    "print(f\"\\nValidation accuracy: {val_acc:.2%}\")\n",
    "\n",
    "from sklearn.metrics import classification_report\n",
    "# 5) Detailed classification report\n",
    "y_pred = np.argmax(clf.predict(Z_val), axis=1)\n",
    "print(\"\\nClassification report on validation set:\")\n",
    "print(classification_report(y_val, y_pred, digits=4))"
   ]
  },
  {
   "cell_type": "code",
   "execution_count": 20,
   "id": "e744407e",
   "metadata": {},
   "outputs": [
    {
     "name": "stdout",
     "output_type": "stream",
     "text": [
      "Confusion matrix (counts):\n",
      "                                                  CBL_interacting_protein_kinases  \\\n",
      "CBL_interacting_protein_kinases                                                 1   \n",
      "L_type_lectin_kinases                                                           0   \n",
      "aurora_kinases                                                                  0   \n",
      "cAMP_dependent_protein_kinases                                                  0   \n",
      "calcium_calmodulin_dependent_kinases                                            0   \n",
      "calcium_dependent_kinases                                                       0   \n",
      "casein_kinases                                                                  0   \n",
      "cyclin_dependent_kinases                                                        0   \n",
      "dual_specificity_protein_kinases                                                0   \n",
      "eukaryotic_translation_initiation_factor_kinases                                0   \n",
      "mitogen_activated_kinases                                                       0   \n",
      "protein_kinases                                                                 0   \n",
      "ribosomal_protein_S6_kinases                                                    0   \n",
      "serine_threonine_kinases                                                        1   \n",
      "tyrosine_kinases                                                                0   \n",
      "\n",
      "                                                  L_type_lectin_kinases  \\\n",
      "CBL_interacting_protein_kinases                                       0   \n",
      "L_type_lectin_kinases                                                 2   \n",
      "aurora_kinases                                                        0   \n",
      "cAMP_dependent_protein_kinases                                        0   \n",
      "calcium_calmodulin_dependent_kinases                                  0   \n",
      "calcium_dependent_kinases                                             0   \n",
      "casein_kinases                                                        0   \n",
      "cyclin_dependent_kinases                                              0   \n",
      "dual_specificity_protein_kinases                                      0   \n",
      "eukaryotic_translation_initiation_factor_kinases                      0   \n",
      "mitogen_activated_kinases                                             0   \n",
      "protein_kinases                                                       0   \n",
      "ribosomal_protein_S6_kinases                                          0   \n",
      "serine_threonine_kinases                                              0   \n",
      "tyrosine_kinases                                                      0   \n",
      "\n",
      "                                                  aurora_kinases  \\\n",
      "CBL_interacting_protein_kinases                                0   \n",
      "L_type_lectin_kinases                                          0   \n",
      "aurora_kinases                                                 6   \n",
      "cAMP_dependent_protein_kinases                                 0   \n",
      "calcium_calmodulin_dependent_kinases                           0   \n",
      "calcium_dependent_kinases                                      0   \n",
      "casein_kinases                                                 0   \n",
      "cyclin_dependent_kinases                                       0   \n",
      "dual_specificity_protein_kinases                               0   \n",
      "eukaryotic_translation_initiation_factor_kinases               0   \n",
      "mitogen_activated_kinases                                      0   \n",
      "protein_kinases                                                0   \n",
      "ribosomal_protein_S6_kinases                                   0   \n",
      "serine_threonine_kinases                                       1   \n",
      "tyrosine_kinases                                               0   \n",
      "\n",
      "                                                  cAMP_dependent_protein_kinases  \\\n",
      "CBL_interacting_protein_kinases                                                0   \n",
      "L_type_lectin_kinases                                                          0   \n",
      "aurora_kinases                                                                 0   \n",
      "cAMP_dependent_protein_kinases                                                 2   \n",
      "calcium_calmodulin_dependent_kinases                                           0   \n",
      "calcium_dependent_kinases                                                      0   \n",
      "casein_kinases                                                                 0   \n",
      "cyclin_dependent_kinases                                                       0   \n",
      "dual_specificity_protein_kinases                                               0   \n",
      "eukaryotic_translation_initiation_factor_kinases                               0   \n",
      "mitogen_activated_kinases                                                      0   \n",
      "protein_kinases                                                                0   \n",
      "ribosomal_protein_S6_kinases                                                   0   \n",
      "serine_threonine_kinases                                                       0   \n",
      "tyrosine_kinases                                                               0   \n",
      "\n",
      "                                                  calcium_calmodulin_dependent_kinases  \\\n",
      "CBL_interacting_protein_kinases                                                      0   \n",
      "L_type_lectin_kinases                                                                0   \n",
      "aurora_kinases                                                                       0   \n",
      "cAMP_dependent_protein_kinases                                                       0   \n",
      "calcium_calmodulin_dependent_kinases                                                 4   \n",
      "calcium_dependent_kinases                                                            0   \n",
      "casein_kinases                                                                       0   \n",
      "cyclin_dependent_kinases                                                             0   \n",
      "dual_specificity_protein_kinases                                                     0   \n",
      "eukaryotic_translation_initiation_factor_kinases                                     0   \n",
      "mitogen_activated_kinases                                                            0   \n",
      "protein_kinases                                                                      0   \n",
      "ribosomal_protein_S6_kinases                                                         0   \n",
      "serine_threonine_kinases                                                             0   \n",
      "tyrosine_kinases                                                                     0   \n",
      "\n",
      "                                                  calcium_dependent_kinases  \\\n",
      "CBL_interacting_protein_kinases                                           0   \n",
      "L_type_lectin_kinases                                                     0   \n",
      "aurora_kinases                                                            0   \n",
      "cAMP_dependent_protein_kinases                                            0   \n",
      "calcium_calmodulin_dependent_kinases                                      0   \n",
      "calcium_dependent_kinases                                                14   \n",
      "casein_kinases                                                            0   \n",
      "cyclin_dependent_kinases                                                  0   \n",
      "dual_specificity_protein_kinases                                          0   \n",
      "eukaryotic_translation_initiation_factor_kinases                          0   \n",
      "mitogen_activated_kinases                                                 0   \n",
      "protein_kinases                                                           0   \n",
      "ribosomal_protein_S6_kinases                                              0   \n",
      "serine_threonine_kinases                                                  0   \n",
      "tyrosine_kinases                                                          0   \n",
      "\n",
      "                                                  casein_kinases  \\\n",
      "CBL_interacting_protein_kinases                                0   \n",
      "L_type_lectin_kinases                                          0   \n",
      "aurora_kinases                                                 0   \n",
      "cAMP_dependent_protein_kinases                                 0   \n",
      "calcium_calmodulin_dependent_kinases                           0   \n",
      "calcium_dependent_kinases                                      0   \n",
      "casein_kinases                                                 4   \n",
      "cyclin_dependent_kinases                                       0   \n",
      "dual_specificity_protein_kinases                               0   \n",
      "eukaryotic_translation_initiation_factor_kinases               0   \n",
      "mitogen_activated_kinases                                      0   \n",
      "protein_kinases                                                0   \n",
      "ribosomal_protein_S6_kinases                                   0   \n",
      "serine_threonine_kinases                                       0   \n",
      "tyrosine_kinases                                               0   \n",
      "\n",
      "                                                  cyclin_dependent_kinases  \\\n",
      "CBL_interacting_protein_kinases                                          0   \n",
      "L_type_lectin_kinases                                                    0   \n",
      "aurora_kinases                                                           0   \n",
      "cAMP_dependent_protein_kinases                                           0   \n",
      "calcium_calmodulin_dependent_kinases                                     0   \n",
      "calcium_dependent_kinases                                                0   \n",
      "casein_kinases                                                           0   \n",
      "cyclin_dependent_kinases                                                33   \n",
      "dual_specificity_protein_kinases                                         0   \n",
      "eukaryotic_translation_initiation_factor_kinases                         0   \n",
      "mitogen_activated_kinases                                                0   \n",
      "protein_kinases                                                          0   \n",
      "ribosomal_protein_S6_kinases                                             0   \n",
      "serine_threonine_kinases                                                 6   \n",
      "tyrosine_kinases                                                         0   \n",
      "\n",
      "                                                  dual_specificity_protein_kinases  \\\n",
      "CBL_interacting_protein_kinases                                                  0   \n",
      "L_type_lectin_kinases                                                            0   \n",
      "aurora_kinases                                                                   0   \n",
      "cAMP_dependent_protein_kinases                                                   0   \n",
      "calcium_calmodulin_dependent_kinases                                             0   \n",
      "calcium_dependent_kinases                                                        0   \n",
      "casein_kinases                                                                   0   \n",
      "cyclin_dependent_kinases                                                         0   \n",
      "dual_specificity_protein_kinases                                                 0   \n",
      "eukaryotic_translation_initiation_factor_kinases                                 0   \n",
      "mitogen_activated_kinases                                                        0   \n",
      "protein_kinases                                                                  0   \n",
      "ribosomal_protein_S6_kinases                                                     0   \n",
      "serine_threonine_kinases                                                         1   \n",
      "tyrosine_kinases                                                                 0   \n",
      "\n",
      "                                                  eukaryotic_translation_initiation_factor_kinases  \\\n",
      "CBL_interacting_protein_kinases                                                                  0   \n",
      "L_type_lectin_kinases                                                                            0   \n",
      "aurora_kinases                                                                                   0   \n",
      "cAMP_dependent_protein_kinases                                                                   0   \n",
      "calcium_calmodulin_dependent_kinases                                                             0   \n",
      "calcium_dependent_kinases                                                                        0   \n",
      "casein_kinases                                                                                   0   \n",
      "cyclin_dependent_kinases                                                                         0   \n",
      "dual_specificity_protein_kinases                                                                 0   \n",
      "eukaryotic_translation_initiation_factor_kinases                                                 0   \n",
      "mitogen_activated_kinases                                                                        0   \n",
      "protein_kinases                                                                                  0   \n",
      "ribosomal_protein_S6_kinases                                                                     0   \n",
      "serine_threonine_kinases                                                                         0   \n",
      "tyrosine_kinases                                                                                 0   \n",
      "\n",
      "                                                  mitogen_activated_kinases  \\\n",
      "CBL_interacting_protein_kinases                                           0   \n",
      "L_type_lectin_kinases                                                     0   \n",
      "aurora_kinases                                                            0   \n",
      "cAMP_dependent_protein_kinases                                            0   \n",
      "calcium_calmodulin_dependent_kinases                                      0   \n",
      "calcium_dependent_kinases                                                 0   \n",
      "casein_kinases                                                            0   \n",
      "cyclin_dependent_kinases                                                  0   \n",
      "dual_specificity_protein_kinases                                          2   \n",
      "eukaryotic_translation_initiation_factor_kinases                          0   \n",
      "mitogen_activated_kinases                                                47   \n",
      "protein_kinases                                                           0   \n",
      "ribosomal_protein_S6_kinases                                              0   \n",
      "serine_threonine_kinases                                                  0   \n",
      "tyrosine_kinases                                                          0   \n",
      "\n",
      "                                                  protein_kinases  \\\n",
      "CBL_interacting_protein_kinases                                 0   \n",
      "L_type_lectin_kinases                                           0   \n",
      "aurora_kinases                                                  0   \n",
      "cAMP_dependent_protein_kinases                                  0   \n",
      "calcium_calmodulin_dependent_kinases                            0   \n",
      "calcium_dependent_kinases                                       1   \n",
      "casein_kinases                                                  0   \n",
      "cyclin_dependent_kinases                                        0   \n",
      "dual_specificity_protein_kinases                                0   \n",
      "eukaryotic_translation_initiation_factor_kinases                0   \n",
      "mitogen_activated_kinases                                       0   \n",
      "protein_kinases                                                12   \n",
      "ribosomal_protein_S6_kinases                                    0   \n",
      "serine_threonine_kinases                                        1   \n",
      "tyrosine_kinases                                                0   \n",
      "\n",
      "                                                  ribosomal_protein_S6_kinases  \\\n",
      "CBL_interacting_protein_kinases                                              0   \n",
      "L_type_lectin_kinases                                                        0   \n",
      "aurora_kinases                                                               0   \n",
      "cAMP_dependent_protein_kinases                                               0   \n",
      "calcium_calmodulin_dependent_kinases                                         0   \n",
      "calcium_dependent_kinases                                                    0   \n",
      "casein_kinases                                                               0   \n",
      "cyclin_dependent_kinases                                                     0   \n",
      "dual_specificity_protein_kinases                                             0   \n",
      "eukaryotic_translation_initiation_factor_kinases                             0   \n",
      "mitogen_activated_kinases                                                    0   \n",
      "protein_kinases                                                              0   \n",
      "ribosomal_protein_S6_kinases                                                 4   \n",
      "serine_threonine_kinases                                                     0   \n",
      "tyrosine_kinases                                                             0   \n",
      "\n",
      "                                                  serine_threonine_kinases  \\\n",
      "CBL_interacting_protein_kinases                                          5   \n",
      "L_type_lectin_kinases                                                    0   \n",
      "aurora_kinases                                                           1   \n",
      "cAMP_dependent_protein_kinases                                           4   \n",
      "calcium_calmodulin_dependent_kinases                                     2   \n",
      "calcium_dependent_kinases                                                1   \n",
      "casein_kinases                                                           2   \n",
      "cyclin_dependent_kinases                                                 1   \n",
      "dual_specificity_protein_kinases                                         2   \n",
      "eukaryotic_translation_initiation_factor_kinases                         1   \n",
      "mitogen_activated_kinases                                                4   \n",
      "protein_kinases                                                          4   \n",
      "ribosomal_protein_S6_kinases                                             1   \n",
      "serine_threonine_kinases                                               179   \n",
      "tyrosine_kinases                                                         1   \n",
      "\n",
      "                                                  tyrosine_kinases  \n",
      "CBL_interacting_protein_kinases                                  0  \n",
      "L_type_lectin_kinases                                            0  \n",
      "aurora_kinases                                                   0  \n",
      "cAMP_dependent_protein_kinases                                   0  \n",
      "calcium_calmodulin_dependent_kinases                             0  \n",
      "calcium_dependent_kinases                                        0  \n",
      "casein_kinases                                                   0  \n",
      "cyclin_dependent_kinases                                         0  \n",
      "dual_specificity_protein_kinases                                 0  \n",
      "eukaryotic_translation_initiation_factor_kinases                 0  \n",
      "mitogen_activated_kinases                                        0  \n",
      "protein_kinases                                                  0  \n",
      "ribosomal_protein_S6_kinases                                     0  \n",
      "serine_threonine_kinases                                         0  \n",
      "tyrosine_kinases                                                 2  \n"
     ]
    },
    {
     "data": {
      "image/png": "[encoded data removed]",
      "text/plain": [
       "<Figure size 1000x800 with 2 Axes>"
      ]
     },
     "metadata": {},
     "output_type": "display_data"
    }
   ],
   "source": [
    "from sklearn.metrics import confusion_matrix\n",
    "import seaborn as sns\n",
    "\n",
    "# 1) Compute the confusion matrix counts\n",
    "cm = confusion_matrix(y_val, y_pred)\n",
    "\n",
    "# 2) Wrap in a DataFrame for nicer indexing\n",
    "df_cm = pd.DataFrame(cm,\n",
    "                     index=unique_labels,\n",
    "                     columns=unique_labels)\n",
    "\n",
    "# 3) Print the raw matrix\n",
    "print(\"Confusion matrix (counts):\")\n",
    "print(df_cm)\n",
    "\n",
    "# 4) (Optional) Visualize with a heatmap\n",
    "plt.figure(figsize=(10,8))\n",
    "sns.heatmap(df_cm, annot=True, fmt='d', cmap='Blues')\n",
    "plt.ylabel('True label')\n",
    "plt.xlabel('Predicted label')\n",
    "plt.title('Confusion Matrix')\n",
    "plt.show()\n"
   ]
  },
  {
   "cell_type": "markdown",
   "id": "781534b4",
   "metadata": {},
   "source": [
    "#### test split"
   ]
  },
  {
   "cell_type": "code",
   "execution_count": 21,
   "id": "b278ef55",
   "metadata": {},
   "outputs": [
    {
     "name": "stdout",
     "output_type": "stream",
     "text": [
      "\u001b[1m11/11\u001b[0m \u001b[32m━━━━━━━━━━━━━━━━━━━━\u001b[0m\u001b[37m\u001b[0m \u001b[1m0s\u001b[0m 7ms/step \n",
      "Test accuracy: 89.77%\n",
      "Confusion matrix:\n",
      " [[  1   0   0   0   0   0   0   0   0   0   0   0   0   5   0]\n",
      " [  0   2   0   0   0   0   0   0   0   0   0   0   0   0   0]\n",
      " [  0   0   6   0   0   0   0   0   0   0   0   0   0   0   0]\n",
      " [  0   0   0   3   0   0   0   0   0   0   0   0   0   2   0]\n",
      " [  0   0   0   0   6   0   0   0   0   0   0   0   0   1   0]\n",
      " [  0   0   0   0   0  13   0   0   0   0   0   0   0   3   0]\n",
      " [  0   0   0   0   0   0   6   0   0   0   0   0   0   0   0]\n",
      " [  0   0   0   0   0   0   0  34   0   0   0   0   0   1   0]\n",
      " [  0   0   0   0   0   0   0   0   0   0   2   0   0   1   0]\n",
      " [  0   0   0   0   0   0   0   0   0   0   0   0   0   2   0]\n",
      " [  0   0   0   0   0   0   0   0   0   0  49   0   0   2   0]\n",
      " [  0   0   0   0   0   0   0   0   0   0   0   9   0   7   0]\n",
      " [  0   0   0   0   0   0   0   0   0   0   0   0   2   3   0]\n",
      " [  1   0   1   0   0   0   0   2   0   0   2   1   0 182   0]\n",
      " [  0   0   0   0   0   0   0   0   0   0   0   0   0   0   3]]\n",
      "\n",
      "Classification report:\n",
      "               precision    recall  f1-score   support\n",
      "\n",
      "           0     0.5000    0.1667    0.2500         6\n",
      "           1     1.0000    1.0000    1.0000         2\n",
      "           2     0.8571    1.0000    0.9231         6\n",
      "           3     1.0000    0.6000    0.7500         5\n",
      "           4     1.0000    0.8571    0.9231         7\n",
      "           5     1.0000    0.8125    0.8966        16\n",
      "           6     1.0000    1.0000    1.0000         6\n",
      "           7     0.9444    0.9714    0.9577        35\n",
      "           8     0.0000    0.0000    0.0000         3\n",
      "           9     0.0000    0.0000    0.0000         2\n",
      "          10     0.9245    0.9608    0.9423        51\n",
      "          11     0.9000    0.5625    0.6923        16\n",
      "          12     1.0000    0.4000    0.5714         5\n",
      "          13     0.8708    0.9630    0.9146       189\n",
      "          14     1.0000    1.0000    1.0000         3\n",
      "\n",
      "    accuracy                         0.8977       352\n",
      "   macro avg     0.7998    0.6863    0.7214       352\n",
      "weighted avg     0.8845    0.8977    0.8834       352\n",
      "\n"
     ]
    },
    {
     "name": "stderr",
     "output_type": "stream",
     "text": [
      "c:\\Users\\sajdv\\anaconda3\\envs\\vae\\lib\\site-packages\\sklearn\\metrics\\_classification.py:1565: UndefinedMetricWarning: Precision is ill-defined and being set to 0.0 in labels with no predicted samples. Use `zero_division` parameter to control this behavior.\n",
      "  _warn_prf(average, modifier, f\"{metric.capitalize()} is\", len(result))\n",
      "c:\\Users\\sajdv\\anaconda3\\envs\\vae\\lib\\site-packages\\sklearn\\metrics\\_classification.py:1565: UndefinedMetricWarning: Precision is ill-defined and being set to 0.0 in labels with no predicted samples. Use `zero_division` parameter to control this behavior.\n",
      "  _warn_prf(average, modifier, f\"{metric.capitalize()} is\", len(result))\n",
      "c:\\Users\\sajdv\\anaconda3\\envs\\vae\\lib\\site-packages\\sklearn\\metrics\\_classification.py:1565: UndefinedMetricWarning: Precision is ill-defined and being set to 0.0 in labels with no predicted samples. Use `zero_division` parameter to control this behavior.\n",
      "  _warn_prf(average, modifier, f\"{metric.capitalize()} is\", len(result))\n"
     ]
    }
   ],
   "source": [
    "import numpy as np\n",
    "from sklearn.metrics import confusion_matrix, classification_report, accuracy_score\n",
    "\n",
    "# a) get predictions\n",
    "y_pred_probs = clf.predict(Z_test)\n",
    "y_pred       = np.argmax(y_pred_probs, axis=1)\n",
    "\n",
    "# b) overall accuracy\n",
    "test_acc = accuracy_score(y_test, y_pred)\n",
    "print(f\"Test accuracy: {test_acc:.2%}\")\n",
    "\n",
    "# c) confusion matrix\n",
    "cm = confusion_matrix(y_test, y_pred)\n",
    "print(\"Confusion matrix:\\n\", cm)\n",
    "\n",
    "# d) per‑class metrics\n",
    "print(\"\\nClassification report:\\n\",\n",
    "      classification_report(y_test, y_pred, digits=4))\n"
   ]
  },
  {
   "cell_type": "code",
   "execution_count": 31,
   "id": "cce23a9e",
   "metadata": {},
   "outputs": [
    {
     "name": "stdout",
     "output_type": "stream",
     "text": [
      "\u001b[1m11/11\u001b[0m \u001b[32m━━━━━━━━━━━━━━━━━━━━\u001b[0m\u001b[37m\u001b[0m \u001b[1m0s\u001b[0m 9ms/step\n",
      "Test accuracy: 89.77%\n",
      "\n",
      "Classification report:\n",
      "               precision    recall  f1-score   support\n",
      "\n",
      "           0     0.5000    0.1667    0.2500         6\n",
      "           1     1.0000    1.0000    1.0000         2\n",
      "           2     0.8571    1.0000    0.9231         6\n",
      "           3     1.0000    0.6000    0.7500         5\n",
      "           4     1.0000    0.8571    0.9231         7\n",
      "           5     1.0000    0.8125    0.8966        16\n",
      "           6     1.0000    1.0000    1.0000         6\n",
      "           7     0.9444    0.9714    0.9577        35\n",
      "           8     0.0000    0.0000    0.0000         3\n",
      "           9     0.0000    0.0000    0.0000         2\n",
      "          10     0.9245    0.9608    0.9423        51\n",
      "          11     0.9000    0.5625    0.6923        16\n",
      "          12     1.0000    0.4000    0.5714         5\n",
      "          13     0.8708    0.9630    0.9146       189\n",
      "          14     1.0000    1.0000    1.0000         3\n",
      "\n",
      "    accuracy                         0.8977       352\n",
      "   macro avg     0.7998    0.6863    0.7214       352\n",
      "weighted avg     0.8845    0.8977    0.8834       352\n",
      "\n"
     ]
    },
    {
     "name": "stderr",
     "output_type": "stream",
     "text": [
      "c:\\Users\\sajdv\\anaconda3\\envs\\vae\\lib\\site-packages\\sklearn\\metrics\\_classification.py:1565: UndefinedMetricWarning: Precision is ill-defined and being set to 0.0 in labels with no predicted samples. Use `zero_division` parameter to control this behavior.\n",
      "  _warn_prf(average, modifier, f\"{metric.capitalize()} is\", len(result))\n",
      "c:\\Users\\sajdv\\anaconda3\\envs\\vae\\lib\\site-packages\\sklearn\\metrics\\_classification.py:1565: UndefinedMetricWarning: Precision is ill-defined and being set to 0.0 in labels with no predicted samples. Use `zero_division` parameter to control this behavior.\n",
      "  _warn_prf(average, modifier, f\"{metric.capitalize()} is\", len(result))\n",
      "c:\\Users\\sajdv\\anaconda3\\envs\\vae\\lib\\site-packages\\sklearn\\metrics\\_classification.py:1565: UndefinedMetricWarning: Precision is ill-defined and being set to 0.0 in labels with no predicted samples. Use `zero_division` parameter to control this behavior.\n",
      "  _warn_prf(average, modifier, f\"{metric.capitalize()} is\", len(result))\n"
     ]
    },
    {
     "data": {
      "image/png": "[encoded data removed]",
      "text/plain": [
       "<Figure size 1200x1000 with 2 Axes>"
      ]
     },
     "metadata": {},
     "output_type": "display_data"
    }
   ],
   "source": [
    "import numpy as np\n",
    "from sklearn.metrics import confusion_matrix, classification_report, accuracy_score\n",
    "import matplotlib.pyplot as plt\n",
    "\n",
    "# 1) Get predicted labels\n",
    "y_pred_probs = clf.predict(Z_test)\n",
    "y_pred = np.argmax(y_pred_probs, axis=1)\n",
    "\n",
    "# 2) Compute confusion matrix\n",
    "cm = confusion_matrix(y_test, y_pred)\n",
    "\n",
    "# 3) Print overall accuracy and detailed report\n",
    "test_acc = accuracy_score(y_test, y_pred)\n",
    "print(f\"Test accuracy: {test_acc:.2%}\\n\")\n",
    "print(\"Classification report:\\n\",\n",
    "      classification_report(y_test, y_pred, digits=4))\n",
    "\n",
    "# 4) Visualize with a heatmap\n",
    "plt.figure(figsize=(12,10))\n",
    "sns.heatmap(df_cm, annot=True, fmt='d', cmap='Blues')\n",
    "plt.ylabel('True label')\n",
    "plt.xlabel('Predicted label')\n",
    "plt.title('Confusion Matrix on Test Set')\n",
    "plt.xticks(rotation=90)\n",
    "plt.yticks(rotation=0)\n",
    "plt.tight_layout()\n",
    "plt.show()\n"
   ]
  },
  {
   "cell_type": "markdown",
   "id": "74067062",
   "metadata": {},
   "source": [
    "#### save the model & how to load"
   ]
  },
  {
   "cell_type": "code",
   "execution_count": 34,
   "id": "34d27d08",
   "metadata": {},
   "outputs": [],
   "source": [
    "# this writes a directory “encoder_3d_to_32” in TensorFlow’s SavedModel format\n",
    "encoder.save('vae_mlp_2 models/encoder_3d_to_32.keras')\n",
    "clf.save('vae_mlp_2 models/latent_mlp_classifier.keras')\n",
    "vae.save('vae_mlp_2 models/protein_vae_model.keras')"
   ]
  },
  {
   "cell_type": "code",
   "execution_count": 4,
   "id": "62ef66d9",
   "metadata": {},
   "outputs": [
    {
     "name": "stderr",
     "output_type": "stream",
     "text": [
      "c:\\Users\\sajdv\\anaconda3\\envs\\vae\\lib\\site-packages\\keras\\src\\layers\\layer.py:396: UserWarning: `build()` was called on layer 'encoder', however the layer does not have a `build()` method implemented and it looks like it has unbuilt state. This will cause the layer to be marked as built, despite not being actually built, which may cause failures down the line. Make sure to implement a proper `build()` method.\n",
      "  warnings.warn(\n"
     ]
    },
    {
     "name": "stdout",
     "output_type": "stream",
     "text": [
      "WARNING:tensorflow:From c:\\Users\\sajdv\\anaconda3\\envs\\vae\\lib\\site-packages\\keras\\src\\backend\\tensorflow\\core.py:219: The name tf.placeholder is deprecated. Please use tf.compat.v1.placeholder instead.\n",
      "\n"
     ]
    },
    {
     "data": {
      "text/plain": [
       "\"\\n# 3) (Optional) Re-load full VAE\\nvae = load_model(\\n    'vae_mlp_2 models/protein_vae_model.keras',\\n    custom_objects={'Sampling': Sampling, 'Encoder': Encoder, 'Decoder': Decoder, 'VAE': VAE}\\n)\\n\""
      ]
     },
     "execution_count": 4,
     "metadata": {},
     "output_type": "execute_result"
    }
   ],
   "source": [
    "import tensorflow as tf\n",
    "from tensorflow.keras.models import load_model\n",
    "# from your_module import Sampling, Encoder, Decoder, VAE  # if you need them\n",
    "\n",
    "# 1) Re-load encoder\n",
    "encoder = load_model(\n",
    "    'vae_mlp_2 models/encoder_3d_to_32.keras',\n",
    "    custom_objects={'Sampling': Sampling,\n",
    "                    'Encoder': Encoder}\n",
    ")\n",
    "\n",
    "# 2) Re-load classifier\n",
    "clf = load_model('vae_mlp_2 models/latent_mlp_classifier.keras')\n",
    "\n",
    "\"\"\"\n",
    "# 3) (Optional) Re-load full VAE\n",
    "vae = load_model(\n",
    "    'vae_mlp_2 models/protein_vae_model.keras',\n",
    "    custom_objects={'Sampling': Sampling, 'Encoder': Encoder, 'Decoder': Decoder, 'VAE': VAE}\n",
    ")\n",
    "\"\"\"\n",
    "\n"
   ]
  },
  {
   "cell_type": "markdown",
   "id": "238a3b33",
   "metadata": {},
   "source": [
    "### pseudo labeling to augment labled data\n",
    "we already have 200k one hot encoded unlabled sequences in X_unlab_onehot.npz file"
   ]
  },
  {
   "cell_type": "code",
   "execution_count": 39,
   "id": "f19a7dad",
   "metadata": {},
   "outputs": [
    {
     "name": "stdout",
     "output_type": "stream",
     "text": [
      "Keys in archive: ['arr_0']\n",
      "X_unlab_onehot shape: (199232, 263, 21)\n",
      "\u001b[1m779/779\u001b[0m \u001b[32m━━━━━━━━━━━━━━━━━━━━\u001b[0m\u001b[37m\u001b[0m \u001b[1m11s\u001b[0m 13ms/step\n",
      "\u001b[1m779/779\u001b[0m \u001b[32m━━━━━━━━━━━━━━━━━━━━\u001b[0m\u001b[37m\u001b[0m \u001b[1m1s\u001b[0m 2ms/step\n",
      "Labeled 14.8% of unlabeled data at ≥95% confidence\n",
      "  class_index  count_labeled\n",
      "0           2             42\n",
      "1           3              7\n",
      "2           4              6\n",
      "3           5            219\n",
      "4           6            123\n",
      "5           7           1227\n",
      "6          10           1106\n",
      "7          11             30\n",
      "8          13          26824\n",
      "9   uncertain         169648\n"
     ]
    }
   ],
   "source": [
    "data = np.load('X_unlab_onehot.npz')\n",
    "print(\"Keys in archive:\", data.files)\n",
    "X_unlab_onehot = data['arr_0']\n",
    "print(\"X_unlab_onehot shape:\", X_unlab_onehot.shape)\n",
    "# X_unlab_onehot : np.ndarray of shape (N_unlab, 263, 21)\n",
    "\n",
    "# 2) Embed via your encoder to 32‑D\n",
    "Z_unlab = encoder.predict(X_unlab_onehot, batch_size=256, verbose=1)  # → (N_unlab, 32)\n",
    "\n",
    "# 3) Get predicted probabilities from your MLP\n",
    "probs     = clf.predict(Z_unlab, batch_size=256, verbose=1)          # shape (N_unlab, num_classes)\n",
    "preds     = np.argmax(probs, axis=1)                                  # hard predicted labels\n",
    "confidences = np.max(probs, axis=1)                                   # confidence scores\n",
    "\n",
    "# 4) Apply a confidence threshold\n",
    "threshold = 0.95\n",
    "mask_confident = confidences >= threshold\n",
    "\n",
    "# 5) Build your pseudo‑labels array with “-1” for uncertain\n",
    "y_pseudo = np.where(mask_confident, preds, -1)  # -1 means “uncertain”\n",
    "\n",
    "# 6) Report coverage and per‑class counts\n",
    "coverage = mask_confident.mean() * 100\n",
    "print(f\"Labeled {coverage:.1f}% of unlabeled data at ≥{threshold:.0%} confidence\")\n",
    "\n",
    "# Count how many per class (only among the labeled ones)\n",
    "labeled_counts = pd.Series(preds[mask_confident]).value_counts().sort_index()\n",
    "uncertain_count = (~mask_confident).sum()\n",
    "df_counts = pd.DataFrame({\n",
    "    'class_index': labeled_counts.index,\n",
    "    'count_labeled': labeled_counts.values\n",
    "})\n",
    "df_counts.loc[len(df_counts)] = ['uncertain', uncertain_count]\n",
    "print(df_counts)\n",
    "\n",
    "# 7) Save your pseudo‑labels and (optionally) embeddings\n",
    "np.savez_compressed(\n",
    "    'vae_mlp_2 models/unlabeled_pseudo_labels.npz',\n",
    "    Z_unlab=Z_unlab,\n",
    "    y_pseudo=y_pseudo,\n",
    "    confidences=confidences\n",
    ")\n"
   ]
  },
  {
   "cell_type": "markdown",
   "id": "0cefc414",
   "metadata": {},
   "source": [
    "created 26k peseudo labels\n",
    "there is classs imbalance\n",
    "no seq from class 1 8 9 12 14 15\n",
    "dominated by class 13 (guess its serin)\n",
    "show that classifier is confident about class 13 (with trsh 95%)\n",
    "\n",
    "so i will now go through the whole 800k seq, and make sure to gather seq for all classes\n",
    "\n",
    "\n",
    "my goal is to find min=200 seq for each class "
   ]
  },
  {
   "cell_type": "markdown",
   "id": "b444019d",
   "metadata": {},
   "source": [
    "###### get all the data "
   ]
  },
  {
   "cell_type": "code",
   "execution_count": 4,
   "id": "c8522a83",
   "metadata": {},
   "outputs": [],
   "source": [
    "seq_list = read_fasta('PF00069_noinserts_gaps_noduplicates.fasta')"
   ]
  },
  {
   "cell_type": "code",
   "execution_count": 6,
   "id": "81420c03",
   "metadata": {},
   "outputs": [
    {
     "name": "stdout",
     "output_type": "stream",
     "text": [
      "Loaded class 0: 0 seqs\n",
      "Loaded class 1: 0 seqs\n",
      "Loaded class 10: 3694 seqs\n",
      "Loaded class 11: 80 seqs\n",
      "Loaded class 12: 0 seqs\n",
      "Loaded class 13: 1000 seqs\n",
      "Loaded class 14: 0 seqs\n",
      "Loaded class 2: 132 seqs\n",
      "Loaded class 3: 15 seqs\n",
      "Loaded class 4: 25 seqs\n",
      "Loaded class 5: 702 seqs\n",
      "Loaded class 6: 389 seqs\n",
      "Loaded class 7: 3724 seqs\n",
      "Loaded class 8: 0 seqs\n",
      "Loaded class 9: 0 seqs\n",
      "Loaded uncertain: 0 seqs\n",
      "\n",
      "Totals after loading:\n",
      "  Class  2: 132 sequences\n",
      "  Class  3: 15 sequences\n",
      "  Class  4: 25 sequences\n",
      "  Class  5: 702 sequences\n",
      "  Class  6: 389 sequences\n",
      "  Class  7: 3724 sequences\n",
      "  Class 10: 3694 sequences\n",
      "  Class 11: 80 sequences\n",
      "  Class 13: 1000 sequences\n",
      "  Uncertain : 0 sequences\n"
     ]
    }
   ],
   "source": [
    "# this code is here cuz i went untill batch6 laptop crashed, i saved data, now reload, and contintue from batch 7\n",
    "import os\n",
    "import numpy as np\n",
    "from collections import defaultdict\n",
    "\n",
    "# 1) Directory where you saved class_*.npz\n",
    "load_dir = 'vae_mlp_2 models/pseudo_per_class'\n",
    "\n",
    "# 2) Rebuild the buckets\n",
    "pseudo_buckets  = defaultdict(list)\n",
    "uncertain_bucket = []\n",
    "\n",
    "for fname in os.listdir(load_dir):\n",
    "    if not fname.endswith('.npz'):\n",
    "        continue\n",
    "    path = os.path.join(load_dir, fname)\n",
    "    \n",
    "    # load the array under key 'X'\n",
    "    data = np.load(path)\n",
    "    X = data['X']   # shape (N_cls, 263, 21)\n",
    "    \n",
    "    # detect uncertain vs numeric classes by filename\n",
    "    if fname.startswith('class_uncertain'):\n",
    "        # put into the uncertain bucket\n",
    "        if X.size:\n",
    "            uncertain_bucket.append(X)\n",
    "        print(f\"Loaded uncertain: {X.shape[0]} seqs\")\n",
    "    else:\n",
    "        # parse the class index from 'class_{cls}.npz'\n",
    "        cls = int(fname.split('_')[1].split('.')[0])\n",
    "        if X.size:\n",
    "            # store as a single chunk in the list\n",
    "            pseudo_buckets[cls].append(X)\n",
    "        print(f\"Loaded class {cls}: {X.shape[0]} seqs\")\n",
    "\n",
    "# 3) Inspect totals\n",
    "print(\"\\nTotals after loading:\")\n",
    "for cls in sorted(pseudo_buckets):\n",
    "    count = sum(arr.shape[0] for arr in pseudo_buckets[cls])\n",
    "    print(f\"  Class {cls:2d}: {count} sequences\")\n",
    "unc_count = sum(arr.shape[0] for arr in uncertain_bucket)\n",
    "print(f\"  Uncertain : {unc_count} sequences\")\n"
   ]
  },
  {
   "cell_type": "code",
   "execution_count": 7,
   "id": "703fb37b",
   "metadata": {},
   "outputs": [],
   "source": [
    "batch1 = seq_list[:100000]"
   ]
  },
  {
   "cell_type": "code",
   "execution_count": 14,
   "id": "d873c229",
   "metadata": {},
   "outputs": [],
   "source": [
    "batch2 = seq_list[100000:200000]"
   ]
  },
  {
   "cell_type": "code",
   "execution_count": 20,
   "id": "2da52e5c",
   "metadata": {},
   "outputs": [],
   "source": [
    "batch3 = seq_list[200000:300000]"
   ]
  },
  {
   "cell_type": "code",
   "execution_count": 25,
   "id": "de55dfdd",
   "metadata": {},
   "outputs": [],
   "source": [
    "batch4 = seq_list[300000:400000]"
   ]
  },
  {
   "cell_type": "code",
   "execution_count": 30,
   "id": "5a7b7cb2",
   "metadata": {},
   "outputs": [],
   "source": [
    "batch5 = seq_list[400000:500000]"
   ]
  },
  {
   "cell_type": "code",
   "execution_count": 35,
   "id": "f0582e92",
   "metadata": {},
   "outputs": [],
   "source": [
    "batch6 = seq_list[500000:600000]"
   ]
  },
  {
   "cell_type": "code",
   "execution_count": 7,
   "id": "be3957e6",
   "metadata": {},
   "outputs": [],
   "source": [
    "batch7 = seq_list[600000:700000]"
   ]
  },
  {
   "cell_type": "code",
   "execution_count": 14,
   "id": "db592a09",
   "metadata": {},
   "outputs": [],
   "source": [
    "batch8 = seq_list[700000:800000]"
   ]
  },
  {
   "cell_type": "code",
   "execution_count": 19,
   "id": "e26facf3",
   "metadata": {},
   "outputs": [],
   "source": [
    "batch9 = seq_list[800000:]"
   ]
  },
  {
   "cell_type": "code",
   "execution_count": 8,
   "id": "b9464ddf",
   "metadata": {},
   "outputs": [],
   "source": [
    "X_unlab_onehot_1 = encode_sequences_one_hot_with_gap(batch1, max_length=None)"
   ]
  },
  {
   "cell_type": "code",
   "execution_count": 15,
   "id": "aa7c2a26",
   "metadata": {},
   "outputs": [],
   "source": [
    "X_unlab_onehot_2 = encode_sequences_one_hot_with_gap(batch2, max_length=None)"
   ]
  },
  {
   "cell_type": "code",
   "execution_count": 21,
   "id": "0ea1f0af",
   "metadata": {},
   "outputs": [],
   "source": [
    "X_unlab_onehot_3 = encode_sequences_one_hot_with_gap(batch3, max_length=None)"
   ]
  },
  {
   "cell_type": "code",
   "execution_count": 26,
   "id": "c21029ea",
   "metadata": {},
   "outputs": [],
   "source": [
    "X_unlab_onehot_4 = encode_sequences_one_hot_with_gap(batch4, max_length=None)"
   ]
  },
  {
   "cell_type": "code",
   "execution_count": 31,
   "id": "eb81851e",
   "metadata": {},
   "outputs": [],
   "source": [
    "X_unlab_onehot_5 = encode_sequences_one_hot_with_gap(batch5, max_length=None)"
   ]
  },
  {
   "cell_type": "code",
   "execution_count": 36,
   "id": "682104df",
   "metadata": {},
   "outputs": [],
   "source": [
    "X_unlab_onehot_6 = encode_sequences_one_hot_with_gap(batch6, max_length=None)"
   ]
  },
  {
   "cell_type": "code",
   "execution_count": 8,
   "id": "0f7af3b9",
   "metadata": {},
   "outputs": [],
   "source": [
    "X_unlab_onehot_7 = encode_sequences_one_hot_with_gap(batch7, max_length=None)"
   ]
  },
  {
   "cell_type": "code",
   "execution_count": 15,
   "id": "1e1e3c8b",
   "metadata": {},
   "outputs": [],
   "source": [
    "X_unlab_onehot_8 = encode_sequences_one_hot_with_gap(batch8, max_length=None)"
   ]
  },
  {
   "cell_type": "code",
   "execution_count": 20,
   "id": "efa86775",
   "metadata": {},
   "outputs": [],
   "source": [
    "X_unlab_onehot_9 = encode_sequences_one_hot_with_gap(batch9, max_length=None)"
   ]
  },
  {
   "cell_type": "code",
   "execution_count": 9,
   "id": "cb2e1f56",
   "metadata": {},
   "outputs": [
    {
     "data": {
      "text/plain": [
       "(99697, 263, 21)"
      ]
     },
     "execution_count": 9,
     "metadata": {},
     "output_type": "execute_result"
    }
   ],
   "source": [
    "\n",
    "X_unlab_onehot_1.shape"
   ]
  },
  {
   "cell_type": "code",
   "execution_count": 16,
   "id": "b43aa47f",
   "metadata": {},
   "outputs": [
    {
     "data": {
      "text/plain": [
       "(99626, 263, 21)"
      ]
     },
     "execution_count": 16,
     "metadata": {},
     "output_type": "execute_result"
    }
   ],
   "source": [
    "X_unlab_onehot_2.shape"
   ]
  },
  {
   "cell_type": "code",
   "execution_count": 22,
   "id": "8225a779",
   "metadata": {},
   "outputs": [
    {
     "data": {
      "text/plain": [
       "(99644, 263, 21)"
      ]
     },
     "execution_count": 22,
     "metadata": {},
     "output_type": "execute_result"
    }
   ],
   "source": [
    "X_unlab_onehot_3.shape"
   ]
  },
  {
   "cell_type": "code",
   "execution_count": 27,
   "id": "7d8d93cc",
   "metadata": {},
   "outputs": [
    {
     "data": {
      "text/plain": [
       "(99616, 263, 21)"
      ]
     },
     "execution_count": 27,
     "metadata": {},
     "output_type": "execute_result"
    }
   ],
   "source": [
    "X_unlab_onehot_4.shape"
   ]
  },
  {
   "cell_type": "code",
   "execution_count": 32,
   "id": "ac4e432d",
   "metadata": {},
   "outputs": [
    {
     "data": {
      "text/plain": [
       "(99593, 263, 21)"
      ]
     },
     "execution_count": 32,
     "metadata": {},
     "output_type": "execute_result"
    }
   ],
   "source": [
    "X_unlab_onehot_5.shape"
   ]
  },
  {
   "cell_type": "code",
   "execution_count": 37,
   "id": "6a4e36f8",
   "metadata": {},
   "outputs": [
    {
     "data": {
      "text/plain": [
       "(99555, 263, 21)"
      ]
     },
     "execution_count": 37,
     "metadata": {},
     "output_type": "execute_result"
    }
   ],
   "source": [
    "X_unlab_onehot_6.shape"
   ]
  },
  {
   "cell_type": "code",
   "execution_count": 9,
   "id": "71c9a935",
   "metadata": {},
   "outputs": [
    {
     "data": {
      "text/plain": [
       "(99566, 263, 21)"
      ]
     },
     "execution_count": 9,
     "metadata": {},
     "output_type": "execute_result"
    }
   ],
   "source": [
    "X_unlab_onehot_7.shape"
   ]
  },
  {
   "cell_type": "code",
   "execution_count": 16,
   "id": "1b3aaa17",
   "metadata": {},
   "outputs": [
    {
     "data": {
      "text/plain": [
       "(99550, 263, 21)"
      ]
     },
     "execution_count": 16,
     "metadata": {},
     "output_type": "execute_result"
    }
   ],
   "source": [
    "X_unlab_onehot_8.shape"
   ]
  },
  {
   "cell_type": "code",
   "execution_count": 21,
   "id": "c58a93f4",
   "metadata": {},
   "outputs": [
    {
     "data": {
      "text/plain": [
       "(78500, 263, 21)"
      ]
     },
     "execution_count": 21,
     "metadata": {},
     "output_type": "execute_result"
    }
   ],
   "source": [
    "X_unlab_onehot_9.shape"
   ]
  },
  {
   "cell_type": "code",
   "execution_count": 10,
   "id": "415b9fcc",
   "metadata": {},
   "outputs": [],
   "source": [
    "num_classes = clf.output_shape[-1]"
   ]
  },
  {
   "cell_type": "code",
   "execution_count": 13,
   "id": "df2f1cd4",
   "metadata": {},
   "outputs": [],
   "source": [
    "# creating a dict for saving\n",
    "from collections import defaultdict\n",
    "\n",
    "# --- BEGIN GLOBALS: run once before your first chunk ---\n",
    "# Number of classes in your classifier\n",
    "num_classes = clf.output_shape[-1]\n",
    "\n",
    "# This dict will hold lists of one-hot arrays for each class\n",
    "# e.g. pseudo_buckets[5] = [ array(chunk1_class5), array(chunk2_class5), ... ]\n",
    "pseudo_buckets = defaultdict(list)\n",
    "\n",
    "# (Optionally) one bucket for “uncertain” if you care\n",
    "uncertain_bucket = []\n",
    "\n",
    "# --- END GLOBALS ---"
   ]
  },
  {
   "cell_type": "code",
   "execution_count": 11,
   "id": "2d5d5bdf",
   "metadata": {},
   "outputs": [],
   "source": [
    "# Now, for each new chunk of X_unlab_onehot you process, run this:\n",
    "\n",
    "def pseudo_label_and_bucket(X_unlab_onehot, encoder, clf,\n",
    "                            threshold=0.95):\n",
    "    \"\"\"\n",
    "    Pseudo-label one-hot batch, then append high-confidence examples\n",
    "    into the global pseudo_buckets dict.\n",
    "    \"\"\"\n",
    "    # 1) Embed to latent\n",
    "    Z = encoder.predict(X_unlab_onehot, batch_size=256, verbose=1)\n",
    "    # 2) Predict\n",
    "    probs      = clf.predict(Z, batch_size=256, verbose=1)\n",
    "    preds      = np.argmax(probs, axis=1)\n",
    "    confidences = probs.max(axis=1)\n",
    "    # 3) Mask high-confidence\n",
    "    mask_conf  = confidences >= threshold\n",
    "\n",
    "    # 4) Report coverage\n",
    "    coverage = mask_conf.mean() * 100\n",
    "    print(f\"Labeled {coverage:.1f}% of this chunk at ≥{threshold:.0%} confidence\")\n",
    "\n",
    "    # 5) Bucket per class\n",
    "    for cls in range(num_classes):\n",
    "        idxs = np.where((preds == cls) & mask_conf)[0]\n",
    "        if idxs.size:\n",
    "            # append the sub-array of one-hots for this class\n",
    "            pseudo_buckets[cls].append(X_unlab_onehot[idxs])\n",
    "    # 6) (Optional) store uncertain for later\n",
    "    uncertain_idxs = np.where(~mask_conf)[0]\n",
    "    if uncertain_idxs.size:\n",
    "        uncertain_bucket.append(X_unlab_onehot[uncertain_idxs])\n",
    "\n",
    "    # 7) Print per-class counts this chunk\n",
    "    counts = {cls: sum(arr.shape[0] for arr in pseudo_buckets[cls])\n",
    "              for cls in range(num_classes)}\n",
    "    print(\"Accumulated counts so far:\", counts)"
   ]
  },
  {
   "cell_type": "code",
   "execution_count": 12,
   "id": "2b94c9c8",
   "metadata": {},
   "outputs": [
    {
     "name": "stdout",
     "output_type": "stream",
     "text": [
      "\u001b[1m390/390\u001b[0m \u001b[32m━━━━━━━━━━━━━━━━━━━━\u001b[0m\u001b[37m\u001b[0m \u001b[1m3s\u001b[0m 6ms/step\n",
      "\u001b[1m390/390\u001b[0m \u001b[32m━━━━━━━━━━━━━━━━━━━━\u001b[0m\u001b[37m\u001b[0m \u001b[1m1s\u001b[0m 1ms/step\n",
      "Labeled 16.6% of this chunk at ≥95% confidence\n",
      "Accumulated counts so far: {0: 0, 1: 0, 2: 31, 3: 3, 4: 7, 5: 129, 6: 64, 7: 637, 8: 0, 9: 0, 10: 747, 11: 22, 12: 0, 13: 14865, 14: 0}\n"
     ]
    }
   ],
   "source": [
    "# Example usage (run for your first 200K chunk):\n",
    "pseudo_label_and_bucket(X_unlab_onehot_1, encoder, clf, threshold=0.95)\n",
    "\n",
    "# --- Repeat pseudo_label_and_bucket(...) for each of your 4 chunks ---"
   ]
  },
  {
   "cell_type": "code",
   "execution_count": 17,
   "id": "0bb27a36",
   "metadata": {},
   "outputs": [
    {
     "name": "stdout",
     "output_type": "stream",
     "text": [
      "\u001b[1m390/390\u001b[0m \u001b[32m━━━━━━━━━━━━━━━━━━━━\u001b[0m\u001b[37m\u001b[0m \u001b[1m2s\u001b[0m 6ms/step\n",
      "\u001b[1m390/390\u001b[0m \u001b[32m━━━━━━━━━━━━━━━━━━━━\u001b[0m\u001b[37m\u001b[0m \u001b[1m0s\u001b[0m 1ms/step\n",
      "Labeled 15.6% of this chunk at ≥95% confidence\n",
      "Accumulated counts so far: {0: 0, 1: 0, 2: 52, 3: 6, 4: 14, 5: 246, 6: 140, 7: 1287, 8: 0, 9: 0, 10: 1433, 11: 42, 12: 0, 13: 28790, 14: 0}\n"
     ]
    }
   ],
   "source": [
    "pseudo_label_and_bucket(X_unlab_onehot_2, encoder, clf, threshold=0.95)"
   ]
  },
  {
   "cell_type": "code",
   "execution_count": 23,
   "id": "1d481b7a",
   "metadata": {},
   "outputs": [
    {
     "name": "stdout",
     "output_type": "stream",
     "text": [
      "\u001b[1m390/390\u001b[0m \u001b[32m━━━━━━━━━━━━━━━━━━━━\u001b[0m\u001b[37m\u001b[0m \u001b[1m3s\u001b[0m 8ms/step\n",
      "\u001b[1m390/390\u001b[0m \u001b[32m━━━━━━━━━━━━━━━━━━━━\u001b[0m\u001b[37m\u001b[0m \u001b[1m1s\u001b[0m 1ms/step\n",
      "Labeled 15.1% of this chunk at ≥95% confidence\n",
      "Accumulated counts so far: {0: 0, 1: 0, 2: 74, 3: 9, 4: 18, 5: 350, 6: 215, 7: 1943, 8: 0, 9: 0, 10: 2030, 11: 57, 12: 0, 13: 42362, 14: 0}\n"
     ]
    }
   ],
   "source": [
    "pseudo_label_and_bucket(X_unlab_onehot_3, encoder, clf, threshold=0.95)"
   ]
  },
  {
   "cell_type": "code",
   "execution_count": 28,
   "id": "13dc1ab4",
   "metadata": {},
   "outputs": [
    {
     "name": "stdout",
     "output_type": "stream",
     "text": [
      "\u001b[1m390/390\u001b[0m \u001b[32m━━━━━━━━━━━━━━━━━━━━\u001b[0m\u001b[37m\u001b[0m \u001b[1m3s\u001b[0m 8ms/step\n",
      "\u001b[1m390/390\u001b[0m \u001b[32m━━━━━━━━━━━━━━━━━━━━\u001b[0m\u001b[37m\u001b[0m \u001b[1m1s\u001b[0m 2ms/step\n",
      "Labeled 14.9% of this chunk at ≥95% confidence\n",
      "Accumulated counts so far: {0: 0, 1: 0, 2: 95, 3: 11, 4: 22, 5: 474, 6: 282, 7: 2552, 8: 0, 9: 0, 10: 2602, 11: 65, 12: 0, 13: 55825, 14: 0}\n"
     ]
    }
   ],
   "source": [
    "pseudo_label_and_bucket(X_unlab_onehot_4, encoder, clf, threshold=0.95)"
   ]
  },
  {
   "cell_type": "code",
   "execution_count": 33,
   "id": "76cc3d17",
   "metadata": {},
   "outputs": [
    {
     "name": "stdout",
     "output_type": "stream",
     "text": [
      "\u001b[1m390/390\u001b[0m \u001b[32m━━━━━━━━━━━━━━━━━━━━\u001b[0m\u001b[37m\u001b[0m \u001b[1m2s\u001b[0m 6ms/step\n",
      "\u001b[1m390/390\u001b[0m \u001b[32m━━━━━━━━━━━━━━━━━━━━\u001b[0m\u001b[37m\u001b[0m \u001b[1m1s\u001b[0m 1ms/step\n",
      "Labeled 14.7% of this chunk at ≥95% confidence\n",
      "Accumulated counts so far: {0: 0, 1: 0, 2: 114, 3: 14, 4: 25, 5: 598, 6: 327, 7: 3128, 8: 0, 9: 0, 10: 3161, 11: 69, 12: 0, 13: 69170, 14: 0}\n"
     ]
    }
   ],
   "source": [
    "pseudo_label_and_bucket(X_unlab_onehot_5, encoder, clf, threshold=0.95)"
   ]
  },
  {
   "cell_type": "code",
   "execution_count": 38,
   "id": "1bc57445",
   "metadata": {},
   "outputs": [
    {
     "name": "stdout",
     "output_type": "stream",
     "text": [
      "\u001b[1m389/389\u001b[0m \u001b[32m━━━━━━━━━━━━━━━━━━━━\u001b[0m\u001b[37m\u001b[0m \u001b[1m3s\u001b[0m 9ms/step\n",
      "\u001b[1m389/389\u001b[0m \u001b[32m━━━━━━━━━━━━━━━━━━━━\u001b[0m\u001b[37m\u001b[0m \u001b[1m1s\u001b[0m 1ms/step\n",
      "Labeled 14.4% of this chunk at ≥95% confidence\n",
      "Accumulated counts so far: {0: 0, 1: 0, 2: 132, 3: 15, 4: 25, 5: 702, 6: 389, 7: 3724, 8: 0, 9: 0, 10: 3694, 11: 80, 12: 0, 13: 82149, 14: 0}\n"
     ]
    }
   ],
   "source": [
    "pseudo_label_and_bucket(X_unlab_onehot_6, encoder, clf, threshold=0.95)"
   ]
  },
  {
   "cell_type": "code",
   "execution_count": 12,
   "id": "d33946c0",
   "metadata": {},
   "outputs": [
    {
     "name": "stdout",
     "output_type": "stream",
     "text": [
      "\u001b[1m389/389\u001b[0m \u001b[32m━━━━━━━━━━━━━━━━━━━━\u001b[0m\u001b[37m\u001b[0m \u001b[1m3s\u001b[0m 7ms/step\n",
      "\u001b[1m389/389\u001b[0m \u001b[32m━━━━━━━━━━━━━━━━━━━━\u001b[0m\u001b[37m\u001b[0m \u001b[1m1s\u001b[0m 2ms/step\n",
      "Labeled 14.3% of this chunk at ≥95% confidence\n",
      "Accumulated counts so far: {0: 0, 1: 0, 2: 161, 3: 17, 4: 29, 5: 809, 6: 445, 7: 4255, 8: 0, 9: 0, 10: 4148, 11: 87, 12: 0, 13: 14068, 14: 0}\n"
     ]
    }
   ],
   "source": [
    "pseudo_label_and_bucket(X_unlab_onehot_7, encoder, clf, threshold=0.95)"
   ]
  },
  {
   "cell_type": "code",
   "execution_count": 17,
   "id": "61aa9142",
   "metadata": {},
   "outputs": [
    {
     "name": "stdout",
     "output_type": "stream",
     "text": [
      "\u001b[1m389/389\u001b[0m \u001b[32m━━━━━━━━━━━━━━━━━━━━\u001b[0m\u001b[37m\u001b[0m \u001b[1m3s\u001b[0m 8ms/step\n",
      "\u001b[1m389/389\u001b[0m \u001b[32m━━━━━━━━━━━━━━━━━━━━\u001b[0m\u001b[37m\u001b[0m \u001b[1m1s\u001b[0m 2ms/step\n",
      "Labeled 14.2% of this chunk at ≥95% confidence\n",
      "Accumulated counts so far: {0: 0, 1: 0, 2: 178, 3: 18, 4: 31, 5: 922, 6: 495, 7: 4835, 8: 0, 9: 0, 10: 4643, 11: 101, 12: 0, 13: 26940, 14: 0}\n"
     ]
    }
   ],
   "source": [
    "pseudo_label_and_bucket(X_unlab_onehot_8, encoder, clf, threshold=0.95)"
   ]
  },
  {
   "cell_type": "code",
   "execution_count": 22,
   "id": "0f4fa085",
   "metadata": {},
   "outputs": [
    {
     "name": "stdout",
     "output_type": "stream",
     "text": [
      "\u001b[1m307/307\u001b[0m \u001b[32m━━━━━━━━━━━━━━━━━━━━\u001b[0m\u001b[37m\u001b[0m \u001b[1m3s\u001b[0m 10ms/step\n",
      "\u001b[1m307/307\u001b[0m \u001b[32m━━━━━━━━━━━━━━━━━━━━\u001b[0m\u001b[37m\u001b[0m \u001b[1m1s\u001b[0m 2ms/step\n",
      "Labeled 14.2% of this chunk at ≥95% confidence\n",
      "Accumulated counts so far: {0: 0, 1: 0, 2: 196, 3: 18, 4: 34, 5: 1013, 6: 535, 7: 5259, 8: 0, 9: 0, 10: 5046, 11: 107, 12: 0, 13: 37086, 14: 0}\n"
     ]
    }
   ],
   "source": [
    "pseudo_label_and_bucket(X_unlab_onehot_9, encoder, clf, threshold=0.95)"
   ]
  },
  {
   "cell_type": "markdown",
   "id": "d9cdf808",
   "metadata": {},
   "source": [
    "how many of which class do we have so far:"
   ]
  },
  {
   "cell_type": "code",
   "execution_count": 13,
   "id": "dfa97980",
   "metadata": {},
   "outputs": [
    {
     "name": "stdout",
     "output_type": "stream",
     "text": [
      "Class  0: 0 sequences\n",
      "Class  1: 0 sequences\n",
      "Class  2: 31 sequences\n",
      "Class  3: 3 sequences\n",
      "Class  4: 7 sequences\n",
      "Class  5: 129 sequences\n",
      "Class  6: 64 sequences\n",
      "Class  7: 637 sequences\n",
      "Class  8: 0 sequences\n",
      "Class  9: 0 sequences\n",
      "Class 10: 747 sequences\n",
      "Class 11: 22 sequences\n",
      "Class 12: 0 sequences\n",
      "Class 13: 14865 sequences\n",
      "Class 14: 0 sequences\n",
      "Uncertain: 83192 sequences\n"
     ]
    }
   ],
   "source": [
    "# Assuming pseudo_buckets is your dict: class_index → list of np.ndarrays\n",
    "\n",
    "for cls in sorted(pseudo_buckets.keys()):\n",
    "    # Sum the sizes of all arrays in the list for this class\n",
    "    total = sum(arr.shape[0] for arr in pseudo_buckets[cls])\n",
    "    print(f\"Class {cls:2d}: {total} sequences\")\n",
    "\n",
    "# (Optional) If you also kept uncertain examples in uncertain_bucket:\n",
    "uncertain_total = sum(arr.shape[0] for arr in uncertain_bucket)\n",
    "print(f\"Uncertain: {uncertain_total} sequences\")\n"
   ]
  },
  {
   "cell_type": "code",
   "execution_count": 18,
   "id": "b6ae3a91",
   "metadata": {},
   "outputs": [
    {
     "name": "stdout",
     "output_type": "stream",
     "text": [
      "Class  0: 0 sequences\n",
      "Class  1: 0 sequences\n",
      "Class  2: 52 sequences\n",
      "Class  3: 6 sequences\n",
      "Class  4: 14 sequences\n",
      "Class  5: 246 sequences\n",
      "Class  6: 140 sequences\n",
      "Class  7: 1287 sequences\n",
      "Class  8: 0 sequences\n",
      "Class  9: 0 sequences\n",
      "Class 10: 1433 sequences\n",
      "Class 11: 42 sequences\n",
      "Class 12: 0 sequences\n",
      "Class 13: 28790 sequences\n",
      "Class 14: 0 sequences\n",
      "Uncertain: 167313 sequences\n"
     ]
    }
   ],
   "source": [
    "# Assuming pseudo_buckets is your dict: class_index → list of np.ndarrays\n",
    "\n",
    "for cls in sorted(pseudo_buckets.keys()):\n",
    "    # Sum the sizes of all arrays in the list for this class\n",
    "    total = sum(arr.shape[0] for arr in pseudo_buckets[cls])\n",
    "    print(f\"Class {cls:2d}: {total} sequences\")\n",
    "\n",
    "# (Optional) If you also kept uncertain examples in uncertain_bucket:\n",
    "uncertain_total = sum(arr.shape[0] for arr in uncertain_bucket)\n",
    "print(f\"Uncertain: {uncertain_total} sequences\")"
   ]
  },
  {
   "cell_type": "code",
   "execution_count": 24,
   "id": "c9ec7156",
   "metadata": {},
   "outputs": [
    {
     "name": "stdout",
     "output_type": "stream",
     "text": [
      "Class  0: 0 sequences\n",
      "Class  1: 0 sequences\n",
      "Class  2: 74 sequences\n",
      "Class  3: 9 sequences\n",
      "Class  4: 18 sequences\n",
      "Class  5: 350 sequences\n",
      "Class  6: 215 sequences\n",
      "Class  7: 1943 sequences\n",
      "Class  8: 0 sequences\n",
      "Class  9: 0 sequences\n",
      "Class 10: 2030 sequences\n",
      "Class 11: 57 sequences\n",
      "Class 12: 0 sequences\n",
      "Class 13: 42362 sequences\n",
      "Class 14: 0 sequences\n",
      "Uncertain: 251909 sequences\n"
     ]
    }
   ],
   "source": [
    "# Assuming pseudo_buckets is your dict: class_index → list of np.ndarrays\n",
    "\n",
    "for cls in sorted(pseudo_buckets.keys()):\n",
    "    # Sum the sizes of all arrays in the list for this class\n",
    "    total = sum(arr.shape[0] for arr in pseudo_buckets[cls])\n",
    "    print(f\"Class {cls:2d}: {total} sequences\")\n",
    "\n",
    "# (Optional) If you also kept uncertain examples in uncertain_bucket:\n",
    "uncertain_total = sum(arr.shape[0] for arr in uncertain_bucket)\n",
    "print(f\"Uncertain: {uncertain_total} sequences\")"
   ]
  },
  {
   "cell_type": "code",
   "execution_count": 29,
   "id": "f9a7204d",
   "metadata": {},
   "outputs": [
    {
     "name": "stdout",
     "output_type": "stream",
     "text": [
      "Class  0: 0 sequences\n",
      "Class  1: 0 sequences\n",
      "Class  2: 95 sequences\n",
      "Class  3: 11 sequences\n",
      "Class  4: 22 sequences\n",
      "Class  5: 474 sequences\n",
      "Class  6: 282 sequences\n",
      "Class  7: 2552 sequences\n",
      "Class  8: 0 sequences\n",
      "Class  9: 0 sequences\n",
      "Class 10: 2602 sequences\n",
      "Class 11: 65 sequences\n",
      "Class 12: 0 sequences\n",
      "Class 13: 55825 sequences\n",
      "Class 14: 0 sequences\n",
      "Uncertain: 336655 sequences\n"
     ]
    }
   ],
   "source": [
    "# Assuming pseudo_buckets is your dict: class_index → list of np.ndarrays\n",
    "\n",
    "for cls in sorted(pseudo_buckets.keys()):\n",
    "    # Sum the sizes of all arrays in the list for this class\n",
    "    total = sum(arr.shape[0] for arr in pseudo_buckets[cls])\n",
    "    print(f\"Class {cls:2d}: {total} sequences\")\n",
    "\n",
    "# (Optional) If you also kept uncertain examples in uncertain_bucket:\n",
    "uncertain_total = sum(arr.shape[0] for arr in uncertain_bucket)\n",
    "print(f\"Uncertain: {uncertain_total} sequences\")"
   ]
  },
  {
   "cell_type": "code",
   "execution_count": 34,
   "id": "2bdabc58",
   "metadata": {},
   "outputs": [
    {
     "name": "stdout",
     "output_type": "stream",
     "text": [
      "Class  0: 0 sequences\n",
      "Class  1: 0 sequences\n",
      "Class  2: 114 sequences\n",
      "Class  3: 14 sequences\n",
      "Class  4: 25 sequences\n",
      "Class  5: 598 sequences\n",
      "Class  6: 327 sequences\n",
      "Class  7: 3128 sequences\n",
      "Class  8: 0 sequences\n",
      "Class  9: 0 sequences\n",
      "Class 10: 3161 sequences\n",
      "Class 11: 69 sequences\n",
      "Class 12: 0 sequences\n",
      "Class 13: 69170 sequences\n",
      "Class 14: 0 sequences\n",
      "Uncertain: 421570 sequences\n"
     ]
    }
   ],
   "source": [
    "# Assuming pseudo_buckets is your dict: class_index → list of np.ndarrays\n",
    "\n",
    "for cls in sorted(pseudo_buckets.keys()):\n",
    "    # Sum the sizes of all arrays in the list for this class\n",
    "    total = sum(arr.shape[0] for arr in pseudo_buckets[cls])\n",
    "    print(f\"Class {cls:2d}: {total} sequences\")\n",
    "\n",
    "# (Optional) If you also kept uncertain examples in uncertain_bucket:\n",
    "uncertain_total = sum(arr.shape[0] for arr in uncertain_bucket)\n",
    "print(f\"Uncertain: {uncertain_total} sequences\")"
   ]
  },
  {
   "cell_type": "code",
   "execution_count": 41,
   "id": "a7b52a11",
   "metadata": {},
   "outputs": [
    {
     "name": "stdout",
     "output_type": "stream",
     "text": [
      "Class  0: 0 sequences\n",
      "Class  1: 0 sequences\n",
      "Class  2: 132 sequences\n",
      "Class  3: 15 sequences\n",
      "Class  4: 25 sequences\n",
      "Class  5: 702 sequences\n",
      "Class  6: 389 sequences\n",
      "Class  7: 3724 sequences\n",
      "Class  8: 0 sequences\n",
      "Class  9: 0 sequences\n",
      "Class 10: 3694 sequences\n",
      "Class 11: 80 sequences\n",
      "Class 12: 0 sequences\n",
      "Class 13: 82149 sequences\n",
      "Class 14: 0 sequences\n",
      "Uncertain: 506821 sequences\n"
     ]
    }
   ],
   "source": [
    "# Assuming pseudo_buckets is your dict: class_index → list of np.ndarrays\n",
    "\n",
    "for cls in sorted(pseudo_buckets.keys()):\n",
    "    # Sum the sizes of all arrays in the list for this class\n",
    "    total = sum(arr.shape[0] for arr in pseudo_buckets[cls])\n",
    "    print(f\"Class {cls:2d}: {total} sequences\")\n",
    "\n",
    "# (Optional) If you also kept uncertain examples in uncertain_bucket:\n",
    "uncertain_total = sum(arr.shape[0] for arr in uncertain_bucket)\n",
    "print(f\"Uncertain: {uncertain_total} sequences\")"
   ]
  },
  {
   "cell_type": "code",
   "execution_count": 39,
   "id": "6b73eefc",
   "metadata": {},
   "outputs": [
    {
     "name": "stdout",
     "output_type": "stream",
     "text": [
      "Class  0: 0 sequences\n",
      "Class  1: 0 sequences\n",
      "Class  2: 132 sequences\n",
      "Class  3: 15 sequences\n",
      "Class  4: 25 sequences\n",
      "Class  5: 702 sequences\n",
      "Class  6: 389 sequences\n",
      "Class  7: 3724 sequences\n",
      "Class  8: 0 sequences\n",
      "Class  9: 0 sequences\n",
      "Class 10: 3694 sequences\n",
      "Class 11: 80 sequences\n",
      "Class 12: 0 sequences\n",
      "Class 13: 82149 sequences\n",
      "Class 14: 0 sequences\n",
      "Uncertain: 506821 sequences\n"
     ]
    }
   ],
   "source": [
    "# Assuming pseudo_buckets is your dict: class_index → list of np.ndarrays\n",
    "\n",
    "for cls in sorted(pseudo_buckets.keys()):\n",
    "    # Sum the sizes of all arrays in the list for this class\n",
    "    total = sum(arr.shape[0] for arr in pseudo_buckets[cls])\n",
    "    print(f\"Class {cls:2d}: {total} sequences\")\n",
    "\n",
    "# (Optional) If you also kept uncertain examples in uncertain_bucket:\n",
    "uncertain_total = sum(arr.shape[0] for arr in uncertain_bucket)\n",
    "print(f\"Uncertain: {uncertain_total} sequences\")"
   ]
  },
  {
   "cell_type": "code",
   "execution_count": 13,
   "id": "a769f5cf",
   "metadata": {},
   "outputs": [
    {
     "name": "stdout",
     "output_type": "stream",
     "text": [
      "Class  0: 0 sequences\n",
      "Class  1: 0 sequences\n",
      "Class  2: 161 sequences\n",
      "Class  3: 17 sequences\n",
      "Class  4: 29 sequences\n",
      "Class  5: 809 sequences\n",
      "Class  6: 445 sequences\n",
      "Class  7: 4255 sequences\n",
      "Class  8: 0 sequences\n",
      "Class  9: 0 sequences\n",
      "Class 10: 4148 sequences\n",
      "Class 11: 87 sequences\n",
      "Class 12: 0 sequences\n",
      "Class 13: 14068 sequences\n",
      "Class 14: 0 sequences\n",
      "Uncertain: 85308 sequences\n"
     ]
    }
   ],
   "source": [
    "# Assuming pseudo_buckets is your dict: class_index → list of np.ndarrays\n",
    "\n",
    "for cls in sorted(pseudo_buckets.keys()):\n",
    "    # Sum the sizes of all arrays in the list for this class\n",
    "    total = sum(arr.shape[0] for arr in pseudo_buckets[cls])\n",
    "    print(f\"Class {cls:2d}: {total} sequences\")\n",
    "\n",
    "# (Optional) If you also kept uncertain examples in uncertain_bucket:\n",
    "uncertain_total = sum(arr.shape[0] for arr in uncertain_bucket)\n",
    "print(f\"Uncertain: {uncertain_total} sequences\")"
   ]
  },
  {
   "cell_type": "code",
   "execution_count": 18,
   "id": "df9e2e25",
   "metadata": {},
   "outputs": [
    {
     "name": "stdout",
     "output_type": "stream",
     "text": [
      "Class  0: 0 sequences\n",
      "Class  1: 0 sequences\n",
      "Class  2: 178 sequences\n",
      "Class  3: 18 sequences\n",
      "Class  4: 31 sequences\n",
      "Class  5: 922 sequences\n",
      "Class  6: 495 sequences\n",
      "Class  7: 4835 sequences\n",
      "Class  8: 0 sequences\n",
      "Class  9: 0 sequences\n",
      "Class 10: 4643 sequences\n",
      "Class 11: 101 sequences\n",
      "Class 12: 0 sequences\n",
      "Class 13: 26940 sequences\n",
      "Class 14: 0 sequences\n",
      "Uncertain: 170714 sequences\n"
     ]
    }
   ],
   "source": [
    "# Assuming pseudo_buckets is your dict: class_index → list of np.ndarrays\n",
    "\n",
    "for cls in sorted(pseudo_buckets.keys()):\n",
    "    # Sum the sizes of all arrays in the list for this class\n",
    "    total = sum(arr.shape[0] for arr in pseudo_buckets[cls])\n",
    "    print(f\"Class {cls:2d}: {total} sequences\")\n",
    "\n",
    "# (Optional) If you also kept uncertain examples in uncertain_bucket:\n",
    "uncertain_total = sum(arr.shape[0] for arr in uncertain_bucket)\n",
    "print(f\"Uncertain: {uncertain_total} sequences\")"
   ]
  },
  {
   "cell_type": "code",
   "execution_count": 23,
   "id": "a15ba99e",
   "metadata": {},
   "outputs": [
    {
     "name": "stdout",
     "output_type": "stream",
     "text": [
      "Class  0: 0 sequences\n",
      "Class  1: 0 sequences\n",
      "Class  2: 196 sequences\n",
      "Class  3: 18 sequences\n",
      "Class  4: 34 sequences\n",
      "Class  5: 1013 sequences\n",
      "Class  6: 535 sequences\n",
      "Class  7: 5259 sequences\n",
      "Class  8: 0 sequences\n",
      "Class  9: 0 sequences\n",
      "Class 10: 5046 sequences\n",
      "Class 11: 107 sequences\n",
      "Class 12: 0 sequences\n",
      "Class 13: 37086 sequences\n",
      "Class 14: 0 sequences\n",
      "Uncertain: 238083 sequences\n"
     ]
    }
   ],
   "source": [
    "# Assuming pseudo_buckets is your dict: class_index → list of np.ndarrays\n",
    "\n",
    "for cls in sorted(pseudo_buckets.keys()):\n",
    "    # Sum the sizes of all arrays in the list for this class\n",
    "    total = sum(arr.shape[0] for arr in pseudo_buckets[cls])\n",
    "    print(f\"Class {cls:2d}: {total} sequences\")\n",
    "\n",
    "# (Optional) If you also kept uncertain examples in uncertain_bucket:\n",
    "uncertain_total = sum(arr.shape[0] for arr in uncertain_bucket)\n",
    "print(f\"Uncertain: {uncertain_total} sequences\")"
   ]
  },
  {
   "cell_type": "markdown",
   "id": "117751ce",
   "metadata": {},
   "source": [
    "i need to save what i have labled so far, basically [:600000]\n",
    "then reload it, and continue, my laptop crashed\n",
    "from class 13 and uncertain i will only let 1000 and 0 respectively seq to remain"
   ]
  },
  {
   "cell_type": "code",
   "execution_count": null,
   "id": "4024269e",
   "metadata": {},
   "outputs": [
    {
     "name": "stdout",
     "output_type": "stream",
     "text": [
      "After pruning, class 13 has 1000 examples\n",
      "Cleared uncertain bucket (now 0 examples)\n"
     ]
    }
   ],
   "source": [
    "import numpy as np\n",
    "import random\n",
    "\n",
    "# 1) Prune class 13 to 1 000 total examples\n",
    "cls = 13\n",
    "if cls in pseudo_buckets and pseudo_buckets[cls]:\n",
    "    arr_list = pseudo_buckets[cls]\n",
    "    sizes    = [a.shape[0] for a in arr_list]\n",
    "    total    = sum(sizes)\n",
    "    if total > 1000:\n",
    "        # pick 1 000 global indices\n",
    "        selected = set(random.sample(range(total), 1000))\n",
    "        new_list = []\n",
    "        cum = 0\n",
    "        for a in arr_list:\n",
    "            n = a.shape[0]\n",
    "            # which local indices to keep in this array\n",
    "            keep = [i for i in range(n) if (cum + i) in selected]\n",
    "            if keep:\n",
    "                new_list.append(a[keep])\n",
    "            cum += n\n",
    "        pseudo_buckets[cls] = new_list\n",
    "    print(f\"After pruning, class {cls} has {sum(a.shape[0] for a in pseudo_buckets[cls])} examples\")\n",
    "\n",
    "# 2) Clear uncertain bucket entirely\n",
    "if 'uncertain_bucket' in globals():\n",
    "    uncertain_bucket = []\n",
    "    print(\"Cleared uncertain bucket (now 0 examples)\")\n",
    "\n",
    "# Now you can safely concatenate each class (none will be enormous)\n",
    "# and save per-class files without MemoryErrors.\n"
   ]
  },
  {
   "cell_type": "markdown",
   "id": "20b3b033",
   "metadata": {},
   "source": [
    "now save them, so that we can reload"
   ]
  },
  {
   "cell_type": "code",
   "execution_count": 26,
   "id": "7e27f1a2",
   "metadata": {},
   "outputs": [
    {
     "name": "stdout",
     "output_type": "stream",
     "text": [
      "Saved class 10 →   5046 sequences in vae_mlp_2 models/pseudo_per_class_final\\class_10.npz\n",
      "Saved class 11 →    107 sequences in vae_mlp_2 models/pseudo_per_class_final\\class_11.npz\n",
      "Saved class 13 →   1000 sequences in vae_mlp_2 models/pseudo_per_class_final\\class_13.npz\n",
      "Saved class  2 →    196 sequences in vae_mlp_2 models/pseudo_per_class_final\\class_2.npz\n",
      "Saved class  3 →     18 sequences in vae_mlp_2 models/pseudo_per_class_final\\class_3.npz\n",
      "Saved class  4 →     34 sequences in vae_mlp_2 models/pseudo_per_class_final\\class_4.npz\n",
      "Saved class  5 →   1013 sequences in vae_mlp_2 models/pseudo_per_class_final\\class_5.npz\n",
      "Saved class  6 →    535 sequences in vae_mlp_2 models/pseudo_per_class_final\\class_6.npz\n",
      "Saved class  7 →   5259 sequences in vae_mlp_2 models/pseudo_per_class_final\\class_7.npz\n",
      "Saved class  0 →      0 sequences in vae_mlp_2 models/pseudo_per_class_final\\class_0.npz\n",
      "Saved class  1 →      0 sequences in vae_mlp_2 models/pseudo_per_class_final\\class_1.npz\n",
      "Saved class  8 →      0 sequences in vae_mlp_2 models/pseudo_per_class_final\\class_8.npz\n",
      "Saved class  9 →      0 sequences in vae_mlp_2 models/pseudo_per_class_final\\class_9.npz\n",
      "Saved class 12 →      0 sequences in vae_mlp_2 models/pseudo_per_class_final\\class_12.npz\n",
      "Saved class 14 →      0 sequences in vae_mlp_2 models/pseudo_per_class_final\\class_14.npz\n",
      "Saved uncertain class →      0 sequences in vae_mlp_2 models/pseudo_per_class_final\\class_uncertain.npz\n"
     ]
    }
   ],
   "source": [
    "import os\n",
    "import numpy as np\n",
    "\n",
    "# Directory to hold per-class files\n",
    "save_dir = 'vae_mlp_2 models/pseudo_per_class_final'\n",
    "os.makedirs(save_dir, exist_ok=True)\n",
    "\n",
    "# 1) Save each numeric class\n",
    "for cls, arr_list in pseudo_buckets.items():\n",
    "    # Concatenate all arrays (or make empty if none)\n",
    "    if arr_list:\n",
    "        X_cls = np.concatenate(arr_list, axis=0)   # (N_cls, 263,21)\n",
    "    else:\n",
    "        # no data collected for this class\n",
    "        X_cls = np.empty((0, 263, 21), dtype=np.float32)\n",
    "\n",
    "    # Apply rule: for class 13, cap at 1000; for others, keep all\n",
    "    if cls == 13:\n",
    "        n_total = X_cls.shape[0]\n",
    "        if n_total > 1000:\n",
    "            # randomly sample 1000 without replacement\n",
    "            idxs = np.random.choice(n_total, size=1000, replace=False)\n",
    "            X_save = X_cls[idxs]\n",
    "        else:\n",
    "            X_save = X_cls\n",
    "    else:\n",
    "        X_save = X_cls\n",
    "\n",
    "    # Save out\n",
    "    fname = os.path.join(save_dir, f'class_{cls}.npz')\n",
    "    np.savez_compressed(fname, X=X_save)\n",
    "    print(f\"Saved class {cls:2d} → {X_save.shape[0]:6d} sequences in {fname}\")\n",
    "\n",
    "# 2) Ensure we still write an “uncertain” bucket (empty = 0 seqs)\n",
    "#    if you have uncertain_bucket list, otherwise it’ll be empty\n",
    "uncertain_arr = (np.concatenate(uncertain_bucket, axis=0)\n",
    "                 if 'uncertain_bucket' in globals() and uncertain_bucket\n",
    "                 else np.empty((0, 263, 21), dtype=np.float32))\n",
    "\n",
    "fname = os.path.join(save_dir, 'class_uncertain.npz')\n",
    "np.savez_compressed(fname, X=uncertain_arr)\n",
    "print(f\"Saved uncertain class → {uncertain_arr.shape[0]:6d} sequences in {fname}\")\n"
   ]
  },
  {
   "cell_type": "markdown",
   "id": "2a9f8be8",
   "metadata": {},
   "source": [
    "How to load but i will use it upppppp"
   ]
  },
  {
   "cell_type": "code",
   "execution_count": null,
   "id": "a742b43c",
   "metadata": {},
   "outputs": [],
   "source": [
    "\"\"\"\n",
    "import os\n",
    "import numpy as np\n",
    "from collections import defaultdict\n",
    "\n",
    "    # Directory from which to load\n",
    "load_dir = 'vae_mlp_2 models/pseudo_per_class'\n",
    "\n",
    "    # Rebuild the buckets dict\n",
    "pseudo_buckets = defaultdict(list)\n",
    "\n",
    "for fname in os.listdir(load_dir):\n",
    "    if not fname.endswith('.npz') or not fname.startswith('class_'):\n",
    "        continue\n",
    "    \n",
    "    cls = int(fname.split('_')[1].split('.')[0])\n",
    "    data = np.load(os.path.join(load_dir, fname))\n",
    "    X_cls = data['X']                    # shape (N_cls, 263,21)\n",
    "    \n",
    "    # Store as a single-element list so it matches the original structure\n",
    "    pseudo_buckets[cls].append(X_cls)\n",
    "    print(f\"Loaded class {cls}: {X_cls.shape[0]} sequences\")\"\"\""
   ]
  },
  {
   "cell_type": "markdown",
   "id": "de711d50",
   "metadata": {},
   "source": [
    "### generating synth sequence to augment labled data"
   ]
  },
  {
   "cell_type": "markdown",
   "id": "dd414142",
   "metadata": {},
   "source": [
    "\n",
    "original labled data that we had\n",
    "\n",
    "Found 15 classes, 1758 total sequences\n",
    "\n",
    "0    : 31\n",
    "1    : 12\n",
    "2    : 32\n",
    "3    : 27\n",
    "4    : 32\n",
    "5    : 80\n",
    "6    : 31\n",
    "7    : 172\n",
    "8    : 17\n",
    "9    : 8\n",
    "10   : 255\n",
    "11   : 78\n",
    "12   : 23\n",
    "13   : 944\n",
    "14   : 16\n",
    "\n",
    "Label → index mapping:\n",
    "  CBL_interacting_protein_kinases → 0\n",
    "  L_type_lectin_kinases          → 1\n",
    "  aurora_kinases                 → 2\n",
    "  cAMP_dependent_protein_kinases → 3\n",
    "  calcium_calmodulin_dependent_kinases → 4\n",
    "  calcium_dependent_kinases      → 5\n",
    "  casein_kinases                 → 6\n",
    "  cyclin_dependent_kinases       → 7\n",
    "  dual_specificity_protein_kinases → 8\n",
    "  eukaryotic_translation_initiation_factor_kinases → 9\n",
    "  mitogen_activated_kinases      → 10\n",
    "  protein_kinases                → 11\n",
    "  ribosomal_protein_S6_kinases   → 12\n",
    "  serine_threonine_kinases       → 13\n",
    "  tyrosine_kinases               → 14\n"
   ]
  },
  {
   "cell_type": "markdown",
   "id": "5dcd5a9a",
   "metadata": {},
   "source": [
    "cls   labled    pseudo          how many synth?     total for training    \n",
    "\n",
    "0    : 31 →      0              100                 100\n",
    "\n",
    "1    : 12  →      0             80                  80\n",
    "\n",
    "2    : 32 →    196              54                  250\n",
    "\n",
    "3    : 27 →     18              150                 168\n",
    "\n",
    "4    : 32 →     34              180                 214  \n",
    " \n",
    "5    : 80 →   1013              50                  250+50\n",
    "\n",
    "6    : 31 →    535              10                  250+10\n",
    "\n",
    "7    : 172 →   5259             10                   500+10\n",
    "\n",
    "8    : 17 →      0              80                  80\n",
    "\n",
    "9    : 8 →      0               30                  30\n",
    "\n",
    "10   : 254 →   5046             10                   500+10\n",
    "\n",
    "11   : 78 →    107              150                 250\n",
    "\n",
    "12   : 23 →      0              100                 100 \n",
    "   \n",
    "13   : 944 →   1000             50                   1000+50\n",
    "\n",
    "14   : 16 →      0              80                  80\n"
   ]
  },
  {
   "cell_type": "markdown",
   "id": "571d9607",
   "metadata": {},
   "source": [
    "the code below create original+pseudo data and save it"
   ]
  },
  {
   "cell_type": "code",
   "execution_count": 5,
   "id": "8ba3771b",
   "metadata": {},
   "outputs": [],
   "source": [
    "# 4) Load full VAE and extract encoder/decoder\n",
    "\"\"\"\n",
    "vae = load_model(\n",
    "    'protein_vae.h5',\n",
    "    custom_objects={'Sampling': Sampling, 'Encoder': Encoder, 'Decoder': Decoder, 'VAE': VAE}\n",
    ")\"\"\"\n",
    "encoder = vae.encoder\n",
    "decoder = vae.decoder"
   ]
  },
  {
   "cell_type": "code",
   "execution_count": 48,
   "id": "e4440bf0",
   "metadata": {},
   "outputs": [
    {
     "name": "stdout",
     "output_type": "stream",
     "text": [
      "Loaded 16 real seqs → X_real shape: (16, 263, 21)\n",
      "Selected 0 pseudo-labeled seqs → X_extra shape: (0, 263, 21)\n",
      "Merged real+pseudo → X_merged shape: (16, 263, 21)\n",
      "Generated synthetic one-hot → X_synth_oh shape: (80, 263, 21)\n",
      "Saved synthetic one-hots to vae_mlp_2 models/synthetic_per_class\\class_14_synthetic_80.npz\n"
     ]
    }
   ],
   "source": [
    "import os\n",
    "import numpy as np\n",
    "from tensorflow.keras.models import load_model\n",
    "\n",
    "# --- User parameters ---\n",
    "dir_m     = 'hmm_20'                                           # directory containing your FASTA\n",
    "name_m    = 'tyrosine_kinases_noInserts_noGaps_noDuplicates'\n",
    "dir_n     = 'vae_mlp_2 models/pseudo_per_class_final'          # directory containing your .npz\n",
    "name_n    = 'class_14'                                          # base name of that .npz\n",
    "n_pseudo  = 0                                         # how many pseudo to include\n",
    "N_synth   = 80                                            # how many to generate\n",
    "dir_p     = 'vae_mlp_2 models/synthetic_per_class'             # where to save synthetic npz\n",
    "dir_q     = 'vae_mlp_2 models/synthetic_plus_pseudo'           # where to save final merged npz\n",
    "\n",
    "# --- Helper functions (must be defined elsewhere) ---\n",
    "# def read_fasta(path) -> List[str]\n",
    "# def encode_sequences_one_hot_with_gap(seqs, max_length) -> np.ndarray\n",
    "\n",
    "# 1) Load & one-hot encode the real FASTA\n",
    "fasta_path = os.path.join(dir_m, name_m + '.fasta')\n",
    "seqs_real  = read_fasta(fasta_path)\n",
    "X_real     = encode_sequences_one_hot_with_gap(seqs_real, max_length=263)\n",
    "print(f\"Loaded {X_real.shape[0]} real seqs → X_real shape: {X_real.shape}\")\n",
    "\n",
    "# 2) Load first n_pseudo from pseudo-labeled .npz\n",
    "npz_path = os.path.join(dir_n, name_n + '.npz')\n",
    "data     = np.load(npz_path)\n",
    "X_pseudo = data.get('X', data.get('arr_0'))\n",
    "X_extra  = X_pseudo[:n_pseudo]\n",
    "print(f\"Selected {X_extra.shape[0]} pseudo-labeled seqs → X_extra shape: {X_extra.shape}\")\n",
    "\n",
    "# 3) Merge real + pseudo one-hots\n",
    "assert X_real.shape[1:] == X_extra.shape[1:], \"Mismatch in (L,alphabet) dims\"\n",
    "X_merged = np.concatenate([X_real, X_extra], axis=0)\n",
    "print(f\"Merged real+pseudo → X_merged shape: {X_merged.shape}\")\n",
    "\n",
    "\n",
    "# 5) Flatten merged for encoder input if needed\n",
    "M, L, A = X_merged.shape\n",
    "X_flat   = X_merged.reshape(M, L*A)\n",
    "\n",
    "# 6) Compute latent means via vae.encode (no predict)\n",
    "#    returns (z_mean, z_logvar, z_sampled)\n",
    "z_mean, z_logvar, _ = vae.encode(X_flat)\n",
    "# z_mean is a Tensor, so convert to NumPy:\n",
    "z_mean = z_mean.numpy()    # shape (M, latent_dim)\n",
    "\n",
    "# 7) Generate N_synth synthetic latents\n",
    "latent_dim = z_mean.shape[1]\n",
    "seed_idxs  = np.random.choice(M, size=N_synth, replace=True)\n",
    "base_means = z_mean[seed_idxs]\n",
    "sigma      = 0.1\n",
    "z_synth    = base_means + np.random.normal(size=(N_synth, latent_dim)) * sigma\n",
    "\n",
    "# 8) Decode synthetic latents via vae.decode\n",
    "X_synth_flat_tf = vae.decode(z_synth)         # EagerTensor shape (N_synth, L*A)\n",
    "X_synth_flat    = X_synth_flat_tf.numpy()     # now a NumPy array\n",
    "\n",
    "# 9) Reshape into (N_synth, L, A) and build hard one-hot\n",
    "probs_flat = X_synth_flat.reshape(N_synth, L, A)\n",
    "X_synth_oh = np.zeros((N_synth, L, A), dtype=np.int8)\n",
    "idxs       = np.argmax(probs_flat, axis=-1)   # (N_synth, L)\n",
    "for i in range(N_synth):\n",
    "    X_synth_oh[i, np.arange(L), idxs[i]] = 1\n",
    "\n",
    "print(f\"Generated synthetic one-hot → X_synth_oh shape: {X_synth_oh.shape}\")\n",
    "\n",
    "# 9) Save synthetic one-hots as .npz in dir_p\n",
    "os.makedirs(dir_p, exist_ok=True)\n",
    "out_synth = os.path.join(dir_p, f'{name_n}_synthetic_{N_synth}.npz')\n",
    "np.savez_compressed(out_synth, X_synth=X_synth_oh)\n",
    "print(f\"Saved synthetic one-hots to {out_synth}\")"
   ]
  },
  {
   "cell_type": "markdown",
   "id": "d6b4d1b4",
   "metadata": {},
   "source": [
    "Now lets put together pseudo and synth data per class and save them\n",
    "\n",
    "cls   labled    pseudo          how many synth?     total for training    \n",
    "\n",
    "0    : 31 →      0              100                 100\n",
    "\n",
    "1    : 12  →      0             80                  80\n",
    "\n",
    "2    : 32 →    196              54                  250\n",
    "\n",
    "3    : 27 →     18              150                 168\n",
    "\n",
    "4    : 32 →     34              180                 214  \n",
    " \n",
    "5    : 80 →   1013              50                  300+50\n",
    "\n",
    "6    : 31 →    535              10                  300+10\n",
    "\n",
    "7    : 172 →   5259             10                   500+10\n",
    "\n",
    "8    : 17 →      0              80                  80\n",
    "\n",
    "9    : 8 →      0               30                  30\n",
    "\n",
    "10   : 254 →   5046             10                   500+10\n",
    "\n",
    "11   : 78 →    107              150                 250\n",
    "\n",
    "12   : 23 →      0              100                 100 \n",
    "   \n",
    "13   : 944 →   1000             50                   1000+50\n",
    "\n",
    "14   : 16 →      0              80                  80\n"
   ]
  },
  {
   "cell_type": "code",
   "execution_count": 65,
   "id": "f96bd1dc",
   "metadata": {},
   "outputs": [
    {
     "name": "stdout",
     "output_type": "stream",
     "text": [
      "Loading pseudo-labeled data from vae_mlp_2 models/pseudo_per_class_final\\class_14.npz …\n",
      " → Found 0 total pseudo-labeled sequences\n",
      " → Selected first 0 pseudo sequences\n",
      "\n",
      "Loading synthetic data from vae_mlp_2 models/synthetic_per_class\\class_14_synthetic_80.npz …\n",
      " → Found 80 synthetic sequences\n",
      "\n",
      "Shapes match. Ready to concatenate.\n",
      " → Combined dataset shape: (80, 263, 21) (0 pseudo + 80 synth)\n",
      "\n",
      "Saving combined data to vae_mlp_2 models/synthetic_plus_pseudo\\class_14.npz …\n",
      "Done!\n",
      "\n",
      "Summary:\n",
      "  Pseudo-labeled used : 0\n",
      "  Synthetic used      : 80\n",
      "  Total combined      : 80\n"
     ]
    }
   ],
   "source": [
    "import os\n",
    "import numpy as np\n",
    "\n",
    "name_n      = 'class_14'            # base name of the pseudo file: class_0.npz\n",
    "N_pseudo    = 0                 # how many pseudo-labeled seqs to take\n",
    "name_p       = 'class_14_synthetic_80'  # base name of the synthetic file: class_0_synthetic_5000.npz\n",
    "# --- User parameters ---\n",
    "dir_n       = 'vae_mlp_2 models/pseudo_per_class_final'\n",
    "dir_p       = 'vae_mlp_2 models/synthetic_per_class'\n",
    "dir_q       = 'vae_mlp_2 models/synthetic_plus_pseudo'\n",
    "out_name_q  = f'{name_n}.npz'\n",
    "\n",
    "# 1) Load first N_pseudo from the pseudo-labeled pool\n",
    "pseudo_path = os.path.join(dir_n, name_n + '.npz')\n",
    "print(f\"Loading pseudo-labeled data from {pseudo_path} …\")\n",
    "pseudo_data = np.load(pseudo_path)\n",
    "# key might be 'X' or 'arr_0'\n",
    "X_pseudo_all = pseudo_data.get('X', pseudo_data.get('arr_0'))\n",
    "print(f\" → Found {X_pseudo_all.shape[0]} total pseudo-labeled sequences\")\n",
    "\n",
    "# take only the first N_pseudo (or all if fewer)\n",
    "X_pseudo = X_pseudo_all[:N_pseudo]\n",
    "print(f\" → Selected first {X_pseudo.shape[0]} pseudo sequences\")\n",
    "\n",
    "# 2) Load all synthetic sequences for that class\n",
    "synth_path = os.path.join(dir_p, name_p + '.npz')\n",
    "print(f\"\\nLoading synthetic data from {synth_path} …\")\n",
    "synth_data = np.load(synth_path)\n",
    "X_synth    = synth_data.get('X_synth', synth_data.get('X', synth_data.get('arr_0')))\n",
    "print(f\" → Found {X_synth.shape[0]} synthetic sequences\")\n",
    "\n",
    "# 3) Verify shapes match on (L, alphabet)\n",
    "assert X_pseudo.shape[1:] == X_synth.shape[1:], (\n",
    "    f\"Shape mismatch: pseudo {X_pseudo.shape[1:]} vs synth {X_synth.shape[1:]}\"\n",
    ")\n",
    "print(\"\\nShapes match. Ready to concatenate.\")\n",
    "\n",
    "# 4) Concatenate\n",
    "X_combined = np.concatenate([X_pseudo, X_synth], axis=0)\n",
    "print(f\" → Combined dataset shape: {X_combined.shape} \"\n",
    "      f\"({X_pseudo.shape[0]} pseudo + {X_synth.shape[0]} synth)\")\n",
    "\n",
    "# 5) Save to output .npz\n",
    "os.makedirs(dir_q, exist_ok=True)\n",
    "out_path = os.path.join(dir_q, out_name_q)\n",
    "print(f\"\\nSaving combined data to {out_path} …\")\n",
    "np.savez_compressed(out_path, X=X_combined)\n",
    "print(\"Done!\")\n",
    "\n",
    "# Final summary\n",
    "print(\"\\nSummary:\")\n",
    "print(f\"  Pseudo-labeled used : {X_pseudo.shape[0]}\")\n",
    "print(f\"  Synthetic used      : {X_synth.shape[0]}\")\n",
    "print(f\"  Total combined      : {X_combined.shape[0]}\")\n"
   ]
  },
  {
   "cell_type": "markdown",
   "id": "6464ec34",
   "metadata": {},
   "source": []
  },
  {
   "cell_type": "code",
   "execution_count": null,
   "id": "5e821948",
   "metadata": {},
   "outputs": [],
   "source": []
  },
  {
   "cell_type": "code",
   "execution_count": null,
   "id": "faeca706",
   "metadata": {},
   "outputs": [],
   "source": []
  },
  {
   "cell_type": "code",
   "execution_count": null,
   "id": "c2181582",
   "metadata": {},
   "outputs": [
    {
     "name": "stdout",
     "output_type": "stream",
     "text": [
      "Loaded 878827 unlabeled sequences from PF00069_noinserts_gaps_noduplicates.fasta\n",
      "Saved selected 1000 sequences to vae_mlp_2 models/pseudo_per_class_final\\selected_1000.fasta\n"
     ]
    },
    {
     "ename": "ValueError",
     "evalue": "cannot reshape array of size 5473293 into shape (1000,newaxis)",
     "output_type": "error",
     "traceback": [
      "\u001b[1;31m---------------------------------------------------------------------------\u001b[0m",
      "\u001b[1;31mValueError\u001b[0m                                Traceback (most recent call last)",
      "Cell \u001b[1;32mIn[6], line 34\u001b[0m\n\u001b[0;32m     32\u001b[0m X_sel \u001b[38;5;241m=\u001b[39m encode_sequences_one_hot_with_gap(selected_seqs, max_length\u001b[38;5;241m=\u001b[39mmax_length)\n\u001b[0;32m     33\u001b[0m \u001b[38;5;66;03m# Flatten for VAE: shape (n_select, original_dim)\u001b[39;00m\n\u001b[1;32m---> 34\u001b[0m X_sel_flat \u001b[38;5;241m=\u001b[39m \u001b[43mX_sel\u001b[49m\u001b[38;5;241;43m.\u001b[39;49m\u001b[43mreshape\u001b[49m\u001b[43m(\u001b[49m\u001b[43mn_select\u001b[49m\u001b[43m,\u001b[49m\u001b[43m \u001b[49m\u001b[38;5;241;43m-\u001b[39;49m\u001b[38;5;241;43m1\u001b[39;49m\u001b[43m)\u001b[49m\n\u001b[0;32m     36\u001b[0m \u001b[38;5;66;03m# --- 4) Generate reconstructions ---\u001b[39;00m\n\u001b[0;32m     37\u001b[0m recon_list \u001b[38;5;241m=\u001b[39m []  \u001b[38;5;66;03m# will hold reconstructed one-hots\u001b[39;00m\n",
      "\u001b[1;31mValueError\u001b[0m: cannot reshape array of size 5473293 into shape (1000,newaxis)"
     ]
    }
   ],
   "source": [
    "import os\n",
    "import numpy as np\n",
    "\n",
    "# --- User parameters ---\n",
    "unlabeled_fasta = 'PF00069_noinserts_gaps_noduplicates.fasta'  # FASTA with ~800k sequences\n",
    "output_dir      = 'vae_mlp_2 models/G'                          # directory to save outputs\n",
    "n_select        = 1000                                 # number of sequences to pick\n",
    "n_recon         = 10                                   # reconstructions per sequence\n",
    "max_length      = 263\n",
    "amino_acids     = '-ACDEFGHIKLMNPQRSTVWY'\n",
    "\n",
    "os.makedirs(output_dir, exist_ok=True)\n",
    "\n",
    "# --- 1) Read all unlabeled sequences ---\n",
    "seq_list = read_fasta(unlabeled_fasta)\n",
    "total = len(seq_list)\n",
    "print(f\"Loaded {total} unlabeled sequences from {unlabeled_fasta}\")\n",
    "\n",
    "# --- 2) Randomly select n_select sequences ---\n",
    "np.random.seed(42)\n",
    "selected_idxs = np.random.choice(total, size=n_select, replace=False)\n",
    "selected_seqs = [seq_list[i] for i in selected_idxs]\n",
    "\n",
    "# Save selected originals (optional)\n",
    "sel_fasta = os.path.join(output_dir, 'selected_1000.fasta')\n",
    "with open(sel_fasta, 'w') as f:\n",
    "    for i, seq in enumerate(selected_seqs):\n",
    "        f.write(f\">orig_{i}\\n{seq}\\n\")\n",
    "print(f\"Saved selected {n_select} sequences to {sel_fasta}\")\n",
    "\n",
    "# --- 3) One-hot encode selected sequences ---\n",
    "X_sel = encode_sequences_one_hot_with_gap(selected_seqs, max_length=max_length)\n",
    "# Flatten for VAE: shape (n_select, original_dim)\n",
    "X_sel_flat = X_sel.reshape(n_select, -1)\n",
    "\n",
    "# --- 4) Generate reconstructions ---\n",
    "recon_list = []  # will hold reconstructed one-hots\n",
    "for run in range(n_recon):\n",
    "    # VAE reconstruct (includes sampling inside)\n",
    "    recon_flat = vae(X_sel_flat).numpy()  # shape (n_select, original_dim)\n",
    "    # Reshape to (n_select, max_length, 21)\n",
    "    recon_oh = recon_flat.reshape(n_select, max_length, len(amino_acids))\n",
    "    recon_list.append(recon_oh)\n",
    "    print(f\"  Reconstruction round {run+1}/{n_recon} done\")\n",
    "\n",
    "# Concatenate all reconstructions: (n_select * n_recon, max_length, 21)\n",
    "X_recon = np.concatenate(recon_list, axis=0)\n",
    "print(f\"Total reconstructed sequences: {X_recon.shape[0]}\")\n",
    "\n",
    "# --- 5) Convert one-hots to sequences and save FASTA ---\n",
    "out_fasta = os.path.join(output_dir, f'reconstructed_{n_select * n_recon}.fasta')\n",
    "with open(out_fasta, 'w') as f:\n",
    "    idx = 0\n",
    "    for batch in recon_list:\n",
    "        for row in batch:\n",
    "            aa_idxs = np.argmax(row, axis=1)\n",
    "            seq = ''.join(amino_acids[j] for j in aa_idxs)\n",
    "            f.write(f\">recon_{idx}\\n{seq}\\n\")\n",
    "            idx += 1\n",
    "\n",
    "print(f\"Saved {idx} reconstructed sequences to {out_fasta}\")\n"
   ]
  },
  {
   "cell_type": "code",
   "execution_count": null,
   "id": "557f9db1",
   "metadata": {},
   "outputs": [],
   "source": []
  },
  {
   "cell_type": "markdown",
   "id": "c7b17426",
   "metadata": {},
   "source": [
    "#### do the whole training again with cross validation"
   ]
  },
  {
   "cell_type": "code",
   "execution_count": 25,
   "id": "573b5199",
   "metadata": {},
   "outputs": [
    {
     "name": "stdout",
     "output_type": "stream",
     "text": [
      "\u001b[1m28/28\u001b[0m \u001b[32m━━━━━━━━━━━━━━━━━━━━\u001b[0m\u001b[37m\u001b[0m \u001b[1m0s\u001b[0m 8ms/step\n",
      "\u001b[1m11/11\u001b[0m \u001b[32m━━━━━━━━━━━━━━━━━━━━\u001b[0m\u001b[37m\u001b[0m \u001b[1m0s\u001b[0m 7ms/step  \n",
      "Fold 1 Accuracy: 88.92%\n",
      "Classification Report:\n",
      "              precision    recall  f1-score   support\n",
      "\n",
      "           0     0.3333    0.1667    0.2222         6\n",
      "           1     1.0000    1.0000    1.0000         3\n",
      "           2     1.0000    0.7143    0.8333         7\n",
      "           3     1.0000    0.5000    0.6667         6\n",
      "           4     1.0000    0.8333    0.9091         6\n",
      "           5     1.0000    1.0000    1.0000        16\n",
      "           6     1.0000    1.0000    1.0000         6\n",
      "           7     0.7857    0.9706    0.8684        34\n",
      "           8     0.6667    0.5000    0.5714         4\n",
      "           9     0.0000    0.0000    0.0000         1\n",
      "          10     0.9778    0.8627    0.9167        51\n",
      "          11     1.0000    0.8000    0.8889        15\n",
      "          12     1.0000    0.8000    0.8889         5\n",
      "          13     0.8713    0.9312    0.9003       189\n",
      "          14     1.0000    1.0000    1.0000         3\n",
      "\n",
      "    accuracy                         0.8892       352\n",
      "   macro avg     0.8423    0.7386    0.7777       352\n",
      "weighted avg     0.8890    0.8892    0.8838       352\n",
      "\n",
      "------------------------------------------------------------\n"
     ]
    },
    {
     "name": "stderr",
     "output_type": "stream",
     "text": [
      "c:\\Users\\sajdv\\anaconda3\\envs\\vae\\lib\\site-packages\\sklearn\\metrics\\_classification.py:1565: UndefinedMetricWarning: Precision is ill-defined and being set to 0.0 in labels with no predicted samples. Use `zero_division` parameter to control this behavior.\n",
      "  _warn_prf(average, modifier, f\"{metric.capitalize()} is\", len(result))\n",
      "c:\\Users\\sajdv\\anaconda3\\envs\\vae\\lib\\site-packages\\sklearn\\metrics\\_classification.py:1565: UndefinedMetricWarning: Precision is ill-defined and being set to 0.0 in labels with no predicted samples. Use `zero_division` parameter to control this behavior.\n",
      "  _warn_prf(average, modifier, f\"{metric.capitalize()} is\", len(result))\n",
      "c:\\Users\\sajdv\\anaconda3\\envs\\vae\\lib\\site-packages\\sklearn\\metrics\\_classification.py:1565: UndefinedMetricWarning: Precision is ill-defined and being set to 0.0 in labels with no predicted samples. Use `zero_division` parameter to control this behavior.\n",
      "  _warn_prf(average, modifier, f\"{metric.capitalize()} is\", len(result))\n"
     ]
    },
    {
     "name": "stdout",
     "output_type": "stream",
     "text": [
      "\u001b[1m11/11\u001b[0m \u001b[32m━━━━━━━━━━━━━━━━━━━━\u001b[0m\u001b[37m\u001b[0m \u001b[1m0s\u001b[0m 7ms/step  \n",
      "Fold 2 Accuracy: 88.07%\n",
      "Classification Report:\n",
      "              precision    recall  f1-score   support\n",
      "\n",
      "           0     0.0000    0.0000    0.0000         6\n",
      "           1     1.0000    1.0000    1.0000         3\n",
      "           2     1.0000    0.8571    0.9231         7\n",
      "           3     1.0000    0.6000    0.7500         5\n",
      "           4     1.0000    1.0000    1.0000         6\n",
      "           5     0.9333    0.8750    0.9032        16\n",
      "           6     1.0000    0.8571    0.9231         7\n",
      "           7     0.9429    0.9706    0.9565        34\n",
      "           8     0.0000    0.0000    0.0000         4\n",
      "           9     0.0000    0.0000    0.0000         1\n",
      "          10     0.9184    0.9000    0.9091        50\n",
      "          11     1.0000    0.5000    0.6667        16\n",
      "          12     1.0000    0.4000    0.5714         5\n",
      "          13     0.8426    0.9681    0.9010       188\n",
      "          14     0.6667    0.5000    0.5714         4\n",
      "\n",
      "    accuracy                         0.8807       352\n",
      "   macro avg     0.7536    0.6285    0.6717       352\n",
      "weighted avg     0.8607    0.8807    0.8616       352\n",
      "\n",
      "------------------------------------------------------------\n"
     ]
    },
    {
     "name": "stderr",
     "output_type": "stream",
     "text": [
      "c:\\Users\\sajdv\\anaconda3\\envs\\vae\\lib\\site-packages\\sklearn\\metrics\\_classification.py:1565: UndefinedMetricWarning: Precision is ill-defined and being set to 0.0 in labels with no predicted samples. Use `zero_division` parameter to control this behavior.\n",
      "  _warn_prf(average, modifier, f\"{metric.capitalize()} is\", len(result))\n",
      "c:\\Users\\sajdv\\anaconda3\\envs\\vae\\lib\\site-packages\\sklearn\\metrics\\_classification.py:1565: UndefinedMetricWarning: Precision is ill-defined and being set to 0.0 in labels with no predicted samples. Use `zero_division` parameter to control this behavior.\n",
      "  _warn_prf(average, modifier, f\"{metric.capitalize()} is\", len(result))\n",
      "c:\\Users\\sajdv\\anaconda3\\envs\\vae\\lib\\site-packages\\sklearn\\metrics\\_classification.py:1565: UndefinedMetricWarning: Precision is ill-defined and being set to 0.0 in labels with no predicted samples. Use `zero_division` parameter to control this behavior.\n",
      "  _warn_prf(average, modifier, f\"{metric.capitalize()} is\", len(result))\n"
     ]
    },
    {
     "name": "stdout",
     "output_type": "stream",
     "text": [
      "\u001b[1m11/11\u001b[0m \u001b[32m━━━━━━━━━━━━━━━━━━━━\u001b[0m\u001b[37m\u001b[0m \u001b[1m0s\u001b[0m 14ms/step\n",
      "Fold 3 Accuracy: 84.62%\n",
      "Classification Report:\n",
      "              precision    recall  f1-score   support\n",
      "\n",
      "           0     0.0000    0.0000    0.0000         7\n",
      "           1     0.0000    0.0000    0.0000         2\n",
      "           2     1.0000    0.6667    0.8000         6\n",
      "           3     1.0000    0.8000    0.8889         5\n",
      "           4     1.0000    0.2857    0.4444         7\n",
      "           5     1.0000    0.8125    0.8966        16\n",
      "           6     1.0000    0.6667    0.8000         6\n",
      "           7     0.9688    0.9118    0.9394        34\n",
      "           8     1.0000    0.3333    0.5000         3\n",
      "           9     0.0000    0.0000    0.0000         2\n",
      "          10     0.8723    0.8039    0.8367        51\n",
      "          11     0.8889    0.5000    0.6400        16\n",
      "          12     1.0000    0.5000    0.6667         4\n",
      "          13     0.8000    0.9735    0.8783       189\n",
      "          14     1.0000    1.0000    1.0000         3\n",
      "\n",
      "    accuracy                         0.8462       351\n",
      "   macro avg     0.7687    0.5503    0.6194       351\n",
      "weighted avg     0.8343    0.8462    0.8248       351\n",
      "\n",
      "------------------------------------------------------------\n"
     ]
    },
    {
     "name": "stderr",
     "output_type": "stream",
     "text": [
      "c:\\Users\\sajdv\\anaconda3\\envs\\vae\\lib\\site-packages\\sklearn\\metrics\\_classification.py:1565: UndefinedMetricWarning: Precision is ill-defined and being set to 0.0 in labels with no predicted samples. Use `zero_division` parameter to control this behavior.\n",
      "  _warn_prf(average, modifier, f\"{metric.capitalize()} is\", len(result))\n",
      "c:\\Users\\sajdv\\anaconda3\\envs\\vae\\lib\\site-packages\\sklearn\\metrics\\_classification.py:1565: UndefinedMetricWarning: Precision is ill-defined and being set to 0.0 in labels with no predicted samples. Use `zero_division` parameter to control this behavior.\n",
      "  _warn_prf(average, modifier, f\"{metric.capitalize()} is\", len(result))\n",
      "c:\\Users\\sajdv\\anaconda3\\envs\\vae\\lib\\site-packages\\sklearn\\metrics\\_classification.py:1565: UndefinedMetricWarning: Precision is ill-defined and being set to 0.0 in labels with no predicted samples. Use `zero_division` parameter to control this behavior.\n",
      "  _warn_prf(average, modifier, f\"{metric.capitalize()} is\", len(result))\n"
     ]
    },
    {
     "name": "stdout",
     "output_type": "stream",
     "text": [
      "\u001b[1m11/11\u001b[0m \u001b[32m━━━━━━━━━━━━━━━━━━━━\u001b[0m\u001b[37m\u001b[0m \u001b[1m0s\u001b[0m 14ms/step\n",
      "Fold 4 Accuracy: 85.47%\n",
      "Classification Report:\n",
      "              precision    recall  f1-score   support\n",
      "\n",
      "           0     0.0000    0.0000    0.0000         6\n",
      "           1     1.0000    0.5000    0.6667         2\n",
      "           2     1.0000    0.6667    0.8000         6\n",
      "           3     1.0000    0.6000    0.7500         5\n",
      "           4     1.0000    0.4286    0.6000         7\n",
      "           5     0.8667    0.8125    0.8387        16\n",
      "           6     1.0000    0.8333    0.9091         6\n",
      "           7     0.9143    0.9143    0.9143        35\n",
      "           8     0.0000    0.0000    0.0000         3\n",
      "           9     0.0000    0.0000    0.0000         2\n",
      "          10     0.8936    0.8235    0.8571        51\n",
      "          11     1.0000    0.5625    0.7200        16\n",
      "          12     1.0000    0.7500    0.8571         4\n",
      "          13     0.8178    0.9735    0.8889       189\n",
      "          14     1.0000    0.3333    0.5000         3\n",
      "\n",
      "    accuracy                         0.8547       351\n",
      "   macro avg     0.7662    0.5466    0.6201       351\n",
      "weighted avg     0.8405    0.8547    0.8351       351\n",
      "\n",
      "------------------------------------------------------------\n"
     ]
    },
    {
     "name": "stderr",
     "output_type": "stream",
     "text": [
      "c:\\Users\\sajdv\\anaconda3\\envs\\vae\\lib\\site-packages\\sklearn\\metrics\\_classification.py:1565: UndefinedMetricWarning: Precision is ill-defined and being set to 0.0 in labels with no predicted samples. Use `zero_division` parameter to control this behavior.\n",
      "  _warn_prf(average, modifier, f\"{metric.capitalize()} is\", len(result))\n",
      "c:\\Users\\sajdv\\anaconda3\\envs\\vae\\lib\\site-packages\\sklearn\\metrics\\_classification.py:1565: UndefinedMetricWarning: Precision is ill-defined and being set to 0.0 in labels with no predicted samples. Use `zero_division` parameter to control this behavior.\n",
      "  _warn_prf(average, modifier, f\"{metric.capitalize()} is\", len(result))\n",
      "c:\\Users\\sajdv\\anaconda3\\envs\\vae\\lib\\site-packages\\sklearn\\metrics\\_classification.py:1565: UndefinedMetricWarning: Precision is ill-defined and being set to 0.0 in labels with no predicted samples. Use `zero_division` parameter to control this behavior.\n",
      "  _warn_prf(average, modifier, f\"{metric.capitalize()} is\", len(result))\n"
     ]
    },
    {
     "name": "stdout",
     "output_type": "stream",
     "text": [
      "\u001b[1m11/11\u001b[0m \u001b[32m━━━━━━━━━━━━━━━━━━━━\u001b[0m\u001b[37m\u001b[0m \u001b[1m0s\u001b[0m 14ms/step\n",
      "Fold 5 Accuracy: 86.89%\n",
      "Classification Report:\n",
      "              precision    recall  f1-score   support\n",
      "\n",
      "           0     0.0000    0.0000    0.0000         6\n",
      "           1     1.0000    0.5000    0.6667         2\n",
      "           2     0.8000    0.6667    0.7273         6\n",
      "           3     1.0000    0.6667    0.8000         6\n",
      "           4     1.0000    0.8333    0.9091         6\n",
      "           5     1.0000    0.6250    0.7692        16\n",
      "           6     1.0000    0.8333    0.9091         6\n",
      "           7     0.8947    0.9714    0.9315        35\n",
      "           8     1.0000    0.3333    0.5000         3\n",
      "           9     0.0000    0.0000    0.0000         2\n",
      "          10     0.9583    0.9020    0.9293        51\n",
      "          11     0.7778    0.4667    0.5833        15\n",
      "          12     1.0000    0.8000    0.8889         5\n",
      "          13     0.8318    0.9683    0.8949       189\n",
      "          14     1.0000    0.3333    0.5000         3\n",
      "\n",
      "    accuracy                         0.8689       351\n",
      "   macro avg     0.8175    0.5933    0.6673       351\n",
      "weighted avg     0.8572    0.8689    0.8520       351\n",
      "\n",
      "------------------------------------------------------------\n",
      "Cross‑Validation Accuracy: 86.79% ± 1.59%\n"
     ]
    },
    {
     "name": "stderr",
     "output_type": "stream",
     "text": [
      "c:\\Users\\sajdv\\anaconda3\\envs\\vae\\lib\\site-packages\\sklearn\\metrics\\_classification.py:1565: UndefinedMetricWarning: Precision is ill-defined and being set to 0.0 in labels with no predicted samples. Use `zero_division` parameter to control this behavior.\n",
      "  _warn_prf(average, modifier, f\"{metric.capitalize()} is\", len(result))\n",
      "c:\\Users\\sajdv\\anaconda3\\envs\\vae\\lib\\site-packages\\sklearn\\metrics\\_classification.py:1565: UndefinedMetricWarning: Precision is ill-defined and being set to 0.0 in labels with no predicted samples. Use `zero_division` parameter to control this behavior.\n",
      "  _warn_prf(average, modifier, f\"{metric.capitalize()} is\", len(result))\n",
      "c:\\Users\\sajdv\\anaconda3\\envs\\vae\\lib\\site-packages\\sklearn\\metrics\\_classification.py:1565: UndefinedMetricWarning: Precision is ill-defined and being set to 0.0 in labels with no predicted samples. Use `zero_division` parameter to control this behavior.\n",
      "  _warn_prf(average, modifier, f\"{metric.capitalize()} is\", len(result))\n"
     ]
    }
   ],
   "source": [
    "import numpy as np\n",
    "from sklearn.model_selection import StratifiedKFold\n",
    "from sklearn.metrics import classification_report, accuracy_score\n",
    "import tensorflow as tf\n",
    "from tensorflow.keras import layers, Sequential\n",
    "\n",
    "# 1) Precompute embeddings for all data\n",
    "#    (X_lab_onehot, y_lab should already be defined)\n",
    "encoder.trainable = False\n",
    "Z_all = encoder.predict(X_lab_onehot, batch_size=64, verbose=1)  # (N, 32)\n",
    "y_all = y_lab\n",
    "\n",
    "# 2) Prepare Stratified K‑Fold\n",
    "n_splits = 5\n",
    "skf = StratifiedKFold(n_splits=n_splits, shuffle=True, random_state=42)\n",
    "\n",
    "# 3) Utility to build a fresh classifier each fold\n",
    "def build_classifier(input_dim, num_classes):\n",
    "    model = Sequential([\n",
    "        layers.Input(shape=(input_dim,)),\n",
    "        layers.Dense(64, activation='relu'),\n",
    "        layers.Dropout(0.3),\n",
    "        layers.Dense(num_classes, activation='softmax')\n",
    "    ], name='latent_mlp')\n",
    "    model.compile(\n",
    "        optimizer='adam',\n",
    "        loss='sparse_categorical_crossentropy',\n",
    "        metrics=['accuracy']\n",
    "    )\n",
    "    return model\n",
    "\n",
    "input_dim   = Z_all.shape[1]\n",
    "num_classes = len(np.unique(y_all))\n",
    "\n",
    "# 4) Run cross‐validation\n",
    "fold_accuracies = []\n",
    "for fold, (train_idx, test_idx) in enumerate(skf.split(Z_all, y_all), start=1):\n",
    "    Z_tr, Z_te = Z_all[train_idx], Z_all[test_idx]\n",
    "    y_tr, y_te = y_all[train_idx], y_all[test_idx]\n",
    "    \n",
    "    # Build & train\n",
    "    clf_cv = build_classifier(input_dim, num_classes)\n",
    "    clf_cv.fit(\n",
    "        Z_tr, y_tr,\n",
    "        validation_data=(Z_te, y_te),\n",
    "        batch_size=32,\n",
    "        epochs=50,\n",
    "        callbacks=[\n",
    "            tf.keras.callbacks.EarlyStopping(\n",
    "                monitor='val_accuracy',\n",
    "                patience=3,\n",
    "                restore_best_weights=True\n",
    "            )\n",
    "        ],\n",
    "        verbose=0\n",
    "    )\n",
    "    \n",
    "    # Evaluate\n",
    "    y_pred = np.argmax(clf_cv.predict(Z_te), axis=1)\n",
    "    acc = accuracy_score(y_te, y_pred)\n",
    "    fold_accuracies.append(acc)\n",
    "    \n",
    "    print(f\"Fold {fold} Accuracy: {acc:.2%}\")\n",
    "    print(\"Classification Report:\")\n",
    "    print(classification_report(y_te, y_pred, digits=4))\n",
    "    print(\"-\" * 60)\n",
    "\n",
    "# 5) Summarize\n",
    "mean_acc = np.mean(fold_accuracies)\n",
    "std_acc  = np.std(fold_accuracies)\n",
    "print(f\"Cross‑Validation Accuracy: {mean_acc:.2%} ± {std_acc:.2%}\")\n"
   ]
  }
 ],
 "metadata": {
  "kernelspec": {
   "display_name": "vae",
   "language": "python",
   "name": "python3"
  },
  "language_info": {
   "codemirror_mode": {
    "name": "ipython",
    "version": 3
   },
   "file_extension": ".py",
   "mimetype": "text/x-python",
   "name": "python",
   "nbconvert_exporter": "python",
   "pygments_lexer": "ipython3",
   "version": "3.10.16"
  }
 },
 "nbformat": 4,
 "nbformat_minor": 5
}
