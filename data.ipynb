{
 "cells": [
  {
   "cell_type": "code",
   "execution_count": 1,
   "id": "b7ded28e",
   "metadata": {},
   "outputs": [],
   "source": [
    "import numpy as np\n",
    "import random\n",
    "from sklearn.model_selection import train_test_split"
   ]
  },
  {
   "cell_type": "code",
   "execution_count": null,
   "id": "e327856e",
   "metadata": {},
   "outputs": [],
   "source": [
    "def read_fasta(input_f):\n",
    "    sequences = []\n",
    "    current_seq = \"\"\n",
    "    with open(input_f, 'r') as f:\n",
    "        for line in f:\n",
    "            line = line.strip()\n",
    "            if line.startswith('>'):\n",
    "                if current_seq:\n",
    "                    sequences.append(current_seq)\n",
    "                    current_seq = \"\"\n",
    "            else:\n",
    "                current_seq += line\n",
    "        if current_seq:\n",
    "            sequences.append(current_seq)\n",
    "    return sequences\n",
    "\n",
    "def select_random_sequences(sequences, num_samples=10000):\n",
    "    if len(sequences) < num_samples :\n",
    "        raise ValueError(\"The number of requested sequences exceeds the initial list size.\")\n",
    "\n",
    "    return random.sample(sequences, num_samples)\n",
    "\n",
    "\n",
    "def encode_sequences_one_hot_with_gap(sequences, max_length=None) :\n",
    "\n",
    "    amino_acids = '-ACDEFGHIKLMNPQRSTVWY'\n",
    "    aa_to_idx = {aa: idx for idx, aa in enumerate(amino_acids)}\n",
    "    valid_sequences = [seq for seq in sequences if all(aa in aa_to_idx for aa in seq)]\n",
    "\n",
    "    if not valid_sequences :  # Return empty array if no valid sequences remain\n",
    "        return np.array([])\n",
    "\n",
    "    # Set maximum length\n",
    "    if max_length is None :\n",
    "        max_length = max(len(seq) for seq in valid_sequences)\n",
    "\n",
    "    # Initialize the output matrix with zeros\n",
    "    M = len(valid_sequences)\n",
    "    L = max_length\n",
    "    encoded_matrix = np.zeros((M, L, len(amino_acids)), dtype=np.float32)\n",
    "\n",
    "    # Encode each sequence\n",
    "    for i, seq in enumerate(valid_sequences) :\n",
    "        for j, aa in enumerate(seq[:max_length]) :  # Truncate sequences longer than max_length\n",
    "            encoded_matrix[i, j, aa_to_idx[aa]] = 1.0  # One-hot encode valid amino acids and gaps\n",
    "    return encoded_matrix\n",
    "\n",
    "# --------------------------------------------------------------------------------------\n",
    "seq_list = read_fasta('PF00069_noinserts_gaps_noduplicates.fasta')\n",
    "\n",
    "N = 15000\n",
    "\n",
    "small_batch_seq_list = select_random_sequences(seq_list,  N)\n",
    "\n",
    "encoded_matrix = encode_sequences_one_hot_with_gap(small_batch_seq_list, max_length=None)"
   ]
  },
  {
   "cell_type": "code",
   "execution_count": 11,
   "id": "5fcabc9f",
   "metadata": {},
   "outputs": [
    {
     "name": "stdout",
     "output_type": "stream",
     "text": [
      "(14945, 5523)\n"
     ]
    }
   ],
   "source": [
    "M, L, A = encoded_matrix.shape  # M: number of sequences, L: sequence length, A: alphabet size (21)\n",
    "flattened_matrix = encoded_matrix.reshape(M, L*A)  # Shape: (M, L * 21)\n",
    "print(flattened_matrix.shape)"
   ]
  },
  {
   "cell_type": "code",
   "execution_count": 12,
   "id": "45d576ff",
   "metadata": {},
   "outputs": [
    {
     "name": "stdout",
     "output_type": "stream",
     "text": [
      "Train shape: (10460, 5523)\n",
      "Validation shape: (2243, 5523)\n",
      "Test shape: (2242, 5523)\n"
     ]
    }
   ],
   "source": [
    "# First, split into training+validation and test (e.g., 85% for training+validation, 15% for test)\n",
    "X_train_val, X_test = train_test_split(flattened_matrix, test_size=0.15, random_state=42)\n",
    "\n",
    "# Now split training+validation into training and validation (e.g., 82.35% training, 17.65% validation)\n",
    "# so that overall it is (70% train, 15% val, 15% test)\n",
    "X_train, X_val = train_test_split(X_train_val, test_size=0.1765, random_state=42)\n",
    "\n",
    "print(\"Train shape:\", X_train.shape)\n",
    "print(\"Validation shape:\", X_val.shape)\n",
    "print(\"Test shape:\", X_test.shape)\n"
   ]
  },
  {
   "cell_type": "code",
   "execution_count": 13,
   "id": "7b1328b9",
   "metadata": {},
   "outputs": [],
   "source": [
    "# Save the data to disk using numpy's savez\n",
    "np.savez('kinase_data_splits.npz', X_train=X_train, X_val=X_val, X_test=X_test)"
   ]
  },
  {
   "cell_type": "markdown",
   "id": "0bd7ac7c",
   "metadata": {},
   "source": [
    "### laoding"
   ]
  },
  {
   "cell_type": "code",
   "execution_count": null,
   "id": "a7d120a6",
   "metadata": {},
   "outputs": [],
   "source": [
    "data = np.load('kinase_data_splits.npz')\n",
    "X_train = data['X_train']\n",
    "X_val = data['X_val']\n",
    "X_test = data['X_test']\n",
    "print(\"Train shape:\", X_train.shape)\n",
    "print(\"Validation shape:\", X_val.shape)\n",
    "print(\"Test shape:\", X_test.shape)\n"
   ]
  }
 ],
 "metadata": {
  "kernelspec": {
   "display_name": "vae",
   "language": "python",
   "name": "python3"
  },
  "language_info": {
   "codemirror_mode": {
    "name": "ipython",
    "version": 3
   },
   "file_extension": ".py",
   "mimetype": "text/x-python",
   "name": "python",
   "nbconvert_exporter": "python",
   "pygments_lexer": "ipython3",
   "version": "3.10.16"
  }
 },
 "nbformat": 4,
 "nbformat_minor": 5
}
